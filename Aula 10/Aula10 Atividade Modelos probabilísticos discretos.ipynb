{
 "cells": [
  {
   "cell_type": "markdown",
   "metadata": {},
   "source": [
    "___\n",
    "# Atividade: Modelos probabilísticos discretos e Dados\n",
    "___\n",
    "\n",
    "## Aula 10\n",
    "\n",
    "**Referência de Leitura:**\n",
    "1. Magalhães e Lima (7ª. Edição): Seções 3.2 e 3.3\n",
    "\n",
    "**Hoje:**\n",
    "1.\tDescrever modelos discretos quanto aos resultados teóricos.\n",
    "2.\tExplicar a utilização de modelos probabilísticos no contexto da literatura estatística.\n",
    "3.\tContrastar resultados teóricos e empíricos.\n",
    "4.\tFechamento do conteúdo.\n",
    "\n",
    "**Próxima aula:**\n",
    "1. Leitura prévia necessária: Magalhães e Lima (7ª. Edição): Seção 5.1 (pág. 137) e Seção 5.2 (pág. 146).\n",
    "___"
   ]
  },
  {
   "cell_type": "code",
   "execution_count": 2,
   "metadata": {
    "collapsed": true
   },
   "outputs": [],
   "source": [
    "%matplotlib inline\n",
    "import pandas as pd\n",
    "import matplotlib.pyplot as plt\n",
    "\n",
    "from scipy import stats #importa apenas as funções de estatísticas da biblioteca SciPy.\n",
    "import itertools #importante para gerar todos os resultados possíveis!!\n"
   ]
  },
  {
   "cell_type": "markdown",
   "metadata": {},
   "source": [
    "___\n",
    "## <font color='blue'>Exercício 1</font>\n",
    "\n",
    "Um resistor de 100K Ohms comprado na Santa Efigênia tem probabilidade de falha de 5%, segundo um fabricante ruim.\n",
    "\n",
    "Ainda, assuma os resistores falham de forma independente entre si.\n",
    "\n",
    "Um aluno de engenharia compra um pacote contendo $n$ resistores.\n",
    "\n",
    "1. Assuma $n=3$ e faça os itens a seguir.\n",
    "  1. Monte o espaço amostral que combine todos os resultados possíveis de Falha e não Falha desses $n$ resistores. Ainda, calcule a probabilidade de cada resultado do espaço amostral acontecer.\n",
    "  2. Se $Y$ representa o número de resistores que falham em um pacotinho com $n$ resistores, então construa a distribuição de probabilidades de $Y$.\n",
    "  3. Calcule a média e o desvio padrão de $Y$. Interprete os resultados.\n",
    "    \n",
    "2. Assuma $n=7$ e repita os itens A) a C) anteriores. No caso de $n=7$ ou maiores quantidades de resistores em um pacotinho, qual a viabilidade de construir a distribuição de probabilidades do número de resistores com defeitos quando $n$ não é pequeno?\n",
    "    \n",
    "3. Encontre a distribuição de probabilidades de cada possível valor de $Y$ utilizando a distribuição Binomial para $n=3$ e $n=7$. Calcule também $E(X)$ e $Var(X)$. Compare com as distribuições de probabilidades obtidas nos itens anteriores e discuta porque esses valores são iguais ou diferentes!\n",
    "    \n",
    "> **DISTRIBUIÇÃO BINOMIAL - TEORIA:**\n",
    "\n",
    "> É responsável por modelar uma variável $Y$ definida pelo Número de sucessos em $n$ tentativas, cuja probabilidade de sucesso é dada por $p$. Assim, dizemos que $Y$~$Bin(n,p)$ e lê-se: $Y$ segue uma distribuição binomial com $n$ tentativas e $p$ como probabilidade de sucesso. \n",
    "\n",
    "> A função de probabilidade nesse caso é dada por:\n",
    "$P(Y=y)=\\left(\n",
    "\\begin{array}{c}\n",
    "    n \\\\\n",
    "    y\n",
    "\\end{array}\\right) p^y (1-p)^{(n-y)}$\n",
    "\n",
    "> Para um experimento ter as probabilidade dos números de sucessos modeladas por uma distribuição Binomial, o mesmo precisa ter as seguintes propriedades:\n",
    "* é uma contagem de $n$ repetições (ou tentativas ou ensaios) idênticas;\n",
    "* cada repetição tem apenas 2 resultados possíveis: um é denominado sucesso e o outro, fracasso;\n",
    "* a probabilidade de sucesso para cada ensaio é denominada $p$ e será constante em cada repetição. Então, a probabilidade de fracasso $(1-p)$ também não varia de tentativa para tentativa;\n",
    "* As tentativas são independentes.\n",
    "\n",
    "\n",
    "> **DISTRIBUIÇÃO BINOMIAL - PYTHON:** <sup> [https://en.wikipedia.org/wiki/SciPy]\n",
    "\n",
    "> Algumas funções úteis para desenvolver seu código: <sup> [http://docs.scipy.org/doc/scipy-0.16.1/reference/generated/scipy.stats.binom.html]\n",
    "* $P(Y=y)$: `stats.binom.pmf(y, n, p)`\n",
    "* $P(Y\\leq y)$: `stats.binom.cdf(y, n, p)`\n",
    "* $E(X)$ e $Var(X)$: `stats.binom.stats(n, p, moments='mv')`\n"
   ]
  },
  {
   "cell_type": "code",
   "execution_count": 3,
   "metadata": {
    "collapsed": false
   },
   "outputs": [
    {
     "name": "stdout",
     "output_type": "stream",
     "text": [
      "[('S', 'S', 'S'), ('S', 'S', 'F'), ('S', 'F', 'S'), ('S', 'F', 'F'), ('F', 'S', 'S'), ('F', 'S', 'F'), ('F', 'F', 'S'), ('F', 'F', 'F')]\n",
      "[0.8573749999999999, 0.045125, 0.045125, 0.0023750000000000004, 0.045125, 0.0023750000000000004, 0.0023750000000000004, 0.00012500000000000003]\n",
      "Falhas:  0  Probabilidade: 0.85737 \n",
      "Falhas:  1  Probabilidade: 0.13537 \n",
      "Falhas:  2  Probabilidade: 0.00713 \n",
      "Falhas:  3  Probabilidade: 0.00013 \n",
      "0.15\n",
      "0.37749172176353746\n"
     ]
    }
   ],
   "source": [
    "#item 1\n",
    "n=3\n",
    "possibilidade = [\"S\", \"F\"]\n",
    "prob = {\"S\":0.95, \"F\": 0.05}\n",
    "arranjos = itertools.product(possibilidade, repeat=n)\n",
    "espaco_amostral = list(arranjos)\n",
    "print(espaco_amostral)\n",
    "prob_linhas = []\n",
    "for i in espaco_amostral:\n",
    "    p = 1.0\n",
    "    for ii in i:\n",
    "        p*=prob[ii]\n",
    "    prob_linhas.append(p)\n",
    "print(prob_linhas)\n",
    "\n",
    "dic = {}\n",
    "for i in range(len(espaco_amostral)):\n",
    "    falha = espaco_amostral[i].count(\"F\")\n",
    "    if falha in dic:\n",
    "        dic[falha] += prob_linhas[i]\n",
    "    else:\n",
    "        dic[falha] = prob_linhas[i]\n",
    "\n",
    "for k in dic:\n",
    "    print(\"Falhas: \", k, \" Probabilidade:\", \"%6.5f \"%dic[k])\n",
    "media=0\n",
    "var = 0\n",
    "for a in dic:\n",
    "    media += a * dic[a]\n",
    "print(media)\n",
    "for b in dic:\n",
    "    var += ((b-media)**2)*(dic[b])\n",
    "desvpad = var**(1/2)\n",
    "print(desvpad)\n",
    "\n"
   ]
  },
  {
   "cell_type": "code",
   "execution_count": 4,
   "metadata": {
    "collapsed": false
   },
   "outputs": [
    {
     "name": "stdout",
     "output_type": "stream",
     "text": [
      "[('S', 'S', 'S', 'S', 'S', 'S', 'S'), ('S', 'S', 'S', 'S', 'S', 'S', 'F'), ('S', 'S', 'S', 'S', 'S', 'F', 'S'), ('S', 'S', 'S', 'S', 'S', 'F', 'F'), ('S', 'S', 'S', 'S', 'F', 'S', 'S'), ('S', 'S', 'S', 'S', 'F', 'S', 'F'), ('S', 'S', 'S', 'S', 'F', 'F', 'S'), ('S', 'S', 'S', 'S', 'F', 'F', 'F'), ('S', 'S', 'S', 'F', 'S', 'S', 'S'), ('S', 'S', 'S', 'F', 'S', 'S', 'F'), ('S', 'S', 'S', 'F', 'S', 'F', 'S'), ('S', 'S', 'S', 'F', 'S', 'F', 'F'), ('S', 'S', 'S', 'F', 'F', 'S', 'S'), ('S', 'S', 'S', 'F', 'F', 'S', 'F'), ('S', 'S', 'S', 'F', 'F', 'F', 'S'), ('S', 'S', 'S', 'F', 'F', 'F', 'F'), ('S', 'S', 'F', 'S', 'S', 'S', 'S'), ('S', 'S', 'F', 'S', 'S', 'S', 'F'), ('S', 'S', 'F', 'S', 'S', 'F', 'S'), ('S', 'S', 'F', 'S', 'S', 'F', 'F'), ('S', 'S', 'F', 'S', 'F', 'S', 'S'), ('S', 'S', 'F', 'S', 'F', 'S', 'F'), ('S', 'S', 'F', 'S', 'F', 'F', 'S'), ('S', 'S', 'F', 'S', 'F', 'F', 'F'), ('S', 'S', 'F', 'F', 'S', 'S', 'S'), ('S', 'S', 'F', 'F', 'S', 'S', 'F'), ('S', 'S', 'F', 'F', 'S', 'F', 'S'), ('S', 'S', 'F', 'F', 'S', 'F', 'F'), ('S', 'S', 'F', 'F', 'F', 'S', 'S'), ('S', 'S', 'F', 'F', 'F', 'S', 'F'), ('S', 'S', 'F', 'F', 'F', 'F', 'S'), ('S', 'S', 'F', 'F', 'F', 'F', 'F'), ('S', 'F', 'S', 'S', 'S', 'S', 'S'), ('S', 'F', 'S', 'S', 'S', 'S', 'F'), ('S', 'F', 'S', 'S', 'S', 'F', 'S'), ('S', 'F', 'S', 'S', 'S', 'F', 'F'), ('S', 'F', 'S', 'S', 'F', 'S', 'S'), ('S', 'F', 'S', 'S', 'F', 'S', 'F'), ('S', 'F', 'S', 'S', 'F', 'F', 'S'), ('S', 'F', 'S', 'S', 'F', 'F', 'F'), ('S', 'F', 'S', 'F', 'S', 'S', 'S'), ('S', 'F', 'S', 'F', 'S', 'S', 'F'), ('S', 'F', 'S', 'F', 'S', 'F', 'S'), ('S', 'F', 'S', 'F', 'S', 'F', 'F'), ('S', 'F', 'S', 'F', 'F', 'S', 'S'), ('S', 'F', 'S', 'F', 'F', 'S', 'F'), ('S', 'F', 'S', 'F', 'F', 'F', 'S'), ('S', 'F', 'S', 'F', 'F', 'F', 'F'), ('S', 'F', 'F', 'S', 'S', 'S', 'S'), ('S', 'F', 'F', 'S', 'S', 'S', 'F'), ('S', 'F', 'F', 'S', 'S', 'F', 'S'), ('S', 'F', 'F', 'S', 'S', 'F', 'F'), ('S', 'F', 'F', 'S', 'F', 'S', 'S'), ('S', 'F', 'F', 'S', 'F', 'S', 'F'), ('S', 'F', 'F', 'S', 'F', 'F', 'S'), ('S', 'F', 'F', 'S', 'F', 'F', 'F'), ('S', 'F', 'F', 'F', 'S', 'S', 'S'), ('S', 'F', 'F', 'F', 'S', 'S', 'F'), ('S', 'F', 'F', 'F', 'S', 'F', 'S'), ('S', 'F', 'F', 'F', 'S', 'F', 'F'), ('S', 'F', 'F', 'F', 'F', 'S', 'S'), ('S', 'F', 'F', 'F', 'F', 'S', 'F'), ('S', 'F', 'F', 'F', 'F', 'F', 'S'), ('S', 'F', 'F', 'F', 'F', 'F', 'F'), ('F', 'S', 'S', 'S', 'S', 'S', 'S'), ('F', 'S', 'S', 'S', 'S', 'S', 'F'), ('F', 'S', 'S', 'S', 'S', 'F', 'S'), ('F', 'S', 'S', 'S', 'S', 'F', 'F'), ('F', 'S', 'S', 'S', 'F', 'S', 'S'), ('F', 'S', 'S', 'S', 'F', 'S', 'F'), ('F', 'S', 'S', 'S', 'F', 'F', 'S'), ('F', 'S', 'S', 'S', 'F', 'F', 'F'), ('F', 'S', 'S', 'F', 'S', 'S', 'S'), ('F', 'S', 'S', 'F', 'S', 'S', 'F'), ('F', 'S', 'S', 'F', 'S', 'F', 'S'), ('F', 'S', 'S', 'F', 'S', 'F', 'F'), ('F', 'S', 'S', 'F', 'F', 'S', 'S'), ('F', 'S', 'S', 'F', 'F', 'S', 'F'), ('F', 'S', 'S', 'F', 'F', 'F', 'S'), ('F', 'S', 'S', 'F', 'F', 'F', 'F'), ('F', 'S', 'F', 'S', 'S', 'S', 'S'), ('F', 'S', 'F', 'S', 'S', 'S', 'F'), ('F', 'S', 'F', 'S', 'S', 'F', 'S'), ('F', 'S', 'F', 'S', 'S', 'F', 'F'), ('F', 'S', 'F', 'S', 'F', 'S', 'S'), ('F', 'S', 'F', 'S', 'F', 'S', 'F'), ('F', 'S', 'F', 'S', 'F', 'F', 'S'), ('F', 'S', 'F', 'S', 'F', 'F', 'F'), ('F', 'S', 'F', 'F', 'S', 'S', 'S'), ('F', 'S', 'F', 'F', 'S', 'S', 'F'), ('F', 'S', 'F', 'F', 'S', 'F', 'S'), ('F', 'S', 'F', 'F', 'S', 'F', 'F'), ('F', 'S', 'F', 'F', 'F', 'S', 'S'), ('F', 'S', 'F', 'F', 'F', 'S', 'F'), ('F', 'S', 'F', 'F', 'F', 'F', 'S'), ('F', 'S', 'F', 'F', 'F', 'F', 'F'), ('F', 'F', 'S', 'S', 'S', 'S', 'S'), ('F', 'F', 'S', 'S', 'S', 'S', 'F'), ('F', 'F', 'S', 'S', 'S', 'F', 'S'), ('F', 'F', 'S', 'S', 'S', 'F', 'F'), ('F', 'F', 'S', 'S', 'F', 'S', 'S'), ('F', 'F', 'S', 'S', 'F', 'S', 'F'), ('F', 'F', 'S', 'S', 'F', 'F', 'S'), ('F', 'F', 'S', 'S', 'F', 'F', 'F'), ('F', 'F', 'S', 'F', 'S', 'S', 'S'), ('F', 'F', 'S', 'F', 'S', 'S', 'F'), ('F', 'F', 'S', 'F', 'S', 'F', 'S'), ('F', 'F', 'S', 'F', 'S', 'F', 'F'), ('F', 'F', 'S', 'F', 'F', 'S', 'S'), ('F', 'F', 'S', 'F', 'F', 'S', 'F'), ('F', 'F', 'S', 'F', 'F', 'F', 'S'), ('F', 'F', 'S', 'F', 'F', 'F', 'F'), ('F', 'F', 'F', 'S', 'S', 'S', 'S'), ('F', 'F', 'F', 'S', 'S', 'S', 'F'), ('F', 'F', 'F', 'S', 'S', 'F', 'S'), ('F', 'F', 'F', 'S', 'S', 'F', 'F'), ('F', 'F', 'F', 'S', 'F', 'S', 'S'), ('F', 'F', 'F', 'S', 'F', 'S', 'F'), ('F', 'F', 'F', 'S', 'F', 'F', 'S'), ('F', 'F', 'F', 'S', 'F', 'F', 'F'), ('F', 'F', 'F', 'F', 'S', 'S', 'S'), ('F', 'F', 'F', 'F', 'S', 'S', 'F'), ('F', 'F', 'F', 'F', 'S', 'F', 'S'), ('F', 'F', 'F', 'F', 'S', 'F', 'F'), ('F', 'F', 'F', 'F', 'F', 'S', 'S'), ('F', 'F', 'F', 'F', 'F', 'S', 'F'), ('F', 'F', 'F', 'F', 'F', 'F', 'S'), ('F', 'F', 'F', 'F', 'F', 'F', 'F')]\n",
      "[0.6983372960937497, 0.03675459453124999, 0.03675459453124999, 0.0019344523437499997, 0.03675459453125, 0.0019344523437500002, 0.0019344523437499997, 0.00010181328125, 0.03675459453124999, 0.0019344523437499997, 0.0019344523437499997, 0.00010181328125, 0.0019344523437499997, 0.00010181328125, 0.00010181328125, 5.358593750000001e-06, 0.03675459453124999, 0.0019344523437499997, 0.0019344523437499997, 0.00010181328125, 0.0019344523437499997, 0.00010181328125, 0.00010181328125, 5.358593750000001e-06, 0.0019344523437499997, 0.00010181328125, 0.00010181328125, 5.358593750000001e-06, 0.00010181328125, 5.358593750000001e-06, 5.35859375e-06, 2.8203125e-07, 0.03675459453124999, 0.0019344523437499997, 0.0019344523437499997, 0.00010181328125, 0.0019344523437499997, 0.00010181328125, 0.00010181328125, 5.358593750000001e-06, 0.0019344523437499997, 0.00010181328125, 0.00010181328125, 5.358593750000001e-06, 0.00010181328125, 5.358593750000001e-06, 5.35859375e-06, 2.8203125e-07, 0.0019344523437500002, 0.00010181328125000002, 0.00010181328125000001, 5.358593750000001e-06, 0.00010181328125000001, 5.358593750000001e-06, 5.358593750000001e-06, 2.820312500000001e-07, 0.00010181328125000001, 5.358593750000001e-06, 5.358593750000001e-06, 2.820312500000001e-07, 5.358593750000001e-06, 2.820312500000001e-07, 2.820312500000001e-07, 1.4843750000000007e-08, 0.03675459453124999, 0.0019344523437499997, 0.0019344523437499997, 0.00010181328125, 0.0019344523437499997, 0.00010181328125, 0.00010181328125, 5.358593750000001e-06, 0.0019344523437499997, 0.00010181328125, 0.00010181328125, 5.358593750000001e-06, 0.00010181328125, 5.358593750000001e-06, 5.35859375e-06, 2.8203125e-07, 0.0019344523437500002, 0.00010181328125000002, 0.00010181328125000001, 5.358593750000001e-06, 0.00010181328125000001, 5.358593750000001e-06, 5.358593750000001e-06, 2.820312500000001e-07, 0.00010181328125000001, 5.358593750000001e-06, 5.358593750000001e-06, 2.820312500000001e-07, 5.358593750000001e-06, 2.820312500000001e-07, 2.820312500000001e-07, 1.4843750000000007e-08, 0.0019344523437500002, 0.00010181328125000002, 0.00010181328125000001, 5.358593750000001e-06, 0.00010181328125000001, 5.358593750000001e-06, 5.358593750000001e-06, 2.820312500000001e-07, 0.00010181328125000001, 5.358593750000001e-06, 5.358593750000001e-06, 2.820312500000001e-07, 5.358593750000001e-06, 2.820312500000001e-07, 2.820312500000001e-07, 1.4843750000000007e-08, 0.00010181328125000001, 5.358593750000001e-06, 5.358593750000001e-06, 2.820312500000001e-07, 5.358593750000001e-06, 2.820312500000001e-07, 2.820312500000001e-07, 1.4843750000000007e-08, 5.358593750000001e-06, 2.820312500000001e-07, 2.820312500000001e-07, 1.4843750000000007e-08, 2.820312500000001e-07, 1.4843750000000007e-08, 1.4843750000000005e-08, 7.812500000000004e-10]\n",
      "Falhas:  0  Probabilidade: 0.69834 \n",
      "Falhas:  1  Probabilidade: 0.25728 \n",
      "Falhas:  2  Probabilidade: 0.04062 \n",
      "Falhas:  3  Probabilidade: 0.00356 \n",
      "Falhas:  4  Probabilidade: 0.00019 \n",
      "Falhas:  5  Probabilidade: 0.00001 \n",
      "Falhas:  6  Probabilidade: 0.00000 \n",
      "Falhas:  7  Probabilidade: 0.00000 \n",
      "0.35\n",
      "0.5766281297335397\n"
     ]
    }
   ],
   "source": [
    "#item 2\n",
    "n=7\n",
    "possibilidade = [\"S\", \"F\"]\n",
    "prob = {\"S\":0.95, \"F\": 0.05}\n",
    "arranjos = itertools.product(possibilidade, repeat=n)\n",
    "espaco_amostral = list(arranjos)\n",
    "print(espaco_amostral)\n",
    "prob_linhas = []\n",
    "for i in espaco_amostral:\n",
    "    p = 1.0\n",
    "    for ii in i:\n",
    "        p*=prob[ii]\n",
    "    prob_linhas.append(p)\n",
    "print(prob_linhas)\n",
    "\n",
    "dic = {}\n",
    "for i in range(len(espaco_amostral)):\n",
    "    falha = espaco_amostral[i].count(\"F\")\n",
    "    if falha in dic:\n",
    "        dic[falha] += prob_linhas[i]\n",
    "    else:\n",
    "        dic[falha] = prob_linhas[i]\n",
    "\n",
    "for k in dic:\n",
    "    print(\"Falhas: \", k, \" Probabilidade:\", \"%6.5f \"%dic[k])\n",
    "media=0\n",
    "var = 0\n",
    "for a in dic:\n",
    "    media += a * dic[a]\n",
    "print(media)\n",
    "for b in dic:\n",
    "    var += ((b-media)**2)*(dic[b])\n",
    "desvpad = var**(1/2)\n",
    "print(desvpad)"
   ]
  },
  {
   "cell_type": "markdown",
   "metadata": {
    "collapsed": true
   },
   "source": [
    "___\n",
    "## <font color='blue'>Exercício 2</font>\n",
    "\n",
    "Uma fábrica produz determinado veículo. O gerente de vendas fechou um negócio que implica na produção de pelo menos 110 unidades nos próximos dois meses. Para isso, será construída uma nova linha de montagem com capacidade para produzir em média 50 veículos por mês (considere meses de 30 dias). A linha funcionará ininterruptamente. Além disso, apenas um veículo é produzido por vez. Considere que um modelo Poisson seja adequado para a quantidade de veículos produzidos.\n",
    "   1. Qual a probabilidade  da produção ser igual a 100 veículos nos próximos dois meses?\n",
    "   2. Qual a probabilidade  da produção ser de pelo menos 100 veículos nos próximos dois meses?\n",
    "   3. Qual a probabilidade da produção ser entre 100 e 110 veículos nos próximos dois meses?\n",
    "   4. Se forem produzidos de pelo menos 100 veículos no próximo mês, qual a probabilidade do gerente cumprir a meta negociada?\n",
    "   5. Caso o prazo seja cumprido, o lucro será da ordem de $250$ mil, caso não seja, o lucro cai para $200$ mil. Qual é o lucro esperado e seu desvio-padrão?\n",
    "\n",
    "**Observação:** Explore os comandos de `stats.poisson`. <sup>[http://docs.scipy.org/doc/scipy/reference/generated/scipy.stats.poisson.html]\n"
   ]
  },
  {
   "cell_type": "code",
   "execution_count": null,
   "metadata": {
    "collapsed": true
   },
   "outputs": [],
   "source": []
  },
  {
   "cell_type": "markdown",
   "metadata": {},
   "source": [
    "___\n",
    "## <font color='blue'>Exercício 3</font> \n",
    "### <font color='red'>**Check para dia 13/09 em DUPLA **</font>\n",
    "\n",
    "Esse exercício irá explorar uma modelagem de dados reais.\n",
    "\n",
    "> **Confira alguns itens obrigatórios verificados durante a vistoria do Detran**\n",
    "\n",
    "> *Todos os veículos, novos ou velhos, precisam passar por uma vistoria todos os anos. (...) O motorista precisa estar atento a alguns itens obrigatórios. Tudo deve funcionar perfeitamente, apresentar bom estado de conservação e estar dentro do prazo de validade.*\n",
    "\n",
    "> <sup>Fonte: http://extra.globo.com/noticias/brasil/transito-seguro/confira-alguns-itens-obrigatorios-verificados-durante-vistoria-do-detran-10190355.html</sup>\n",
    "\n",
    "Essa matéria lista 14 itens que são inspecionados pelo Detran, dentre os quais têm-se: extintor de incêndio deve estar dentro do prazo de validade; pneus devem estar em bom estado de conservação; buzina deve funcionar perfeitamente; e cintos de segurança para todos os ocupantes do carro. Se, no final das contas, todos os 14 itens estiverem funcionando perfeitamente, o motorista irá feliz para casa assegurado de que seu carro está sem problemas com a vistoria.\n",
    "\n",
    "1. A base de dados `Carros.txt` apresenta, para cada um dos três mil carros de passeio vistoriados, duas informações: tipo de carro (1: Popular e 2: Não Popular) e quantidade de itens vistoriados em não conformidade (que pode variar de 0 a 14). \n",
    "    1. Considerando todos os carros, analise a quantidade de itens vistoriados em não conformidade. Pela tabela de frequências relativas, calcule a média e variância dessa quantidade. Interprete-os.\n",
    "    2. Assuma que a variável *Quantidade de itens em não conformidade* possa ser ajustada pelo modelo Binomial com parâmetros $n=14$ e $p=0,10$. Interprete esses parâmetros para o problema em questão e, ainda, discuta se as propriedades da distribuição Binomial estão satisfeitas para o problema aqui em questão.\n",
    "    \n",
    "    **Independente da sua resposta anterior, considere que a distribuição binomial seja adequada para modelar a variável de interesse nos próximos itens!**\n",
    "    3. Utilizando o método `stats.binom.pmf`, obtenha a probabilidade de cada uma das quantidades de itens em não conformidade quando $n=14$ e $p=0,10$. Calcule o valor esperado e a variância da quantidade de itens em não conformidade utilizando o método `stats.binom.stats` e via resultado da Tabela 4.4 do Magalhães e Lima (pág. 125).\n",
    "    4. Compare as probabilidades teóricas com as frequências relativas observadas nos dados. Para isso, tem-se, por exemplo, as duas opções abaixo para comparar se os resultados empíricos se encaixam com o modelo teórico proposto. \n",
    "        - A primeira opção gráfica contrasta a frequência relativa e a probabilidade teórica para uma determinada quantidade de itens em não conformidade! Vide Figura 3.4 do livro Magalhães e Lima (pág. 87). Ou seja, essa opção contrasta a frequência relativa em um valor de $y$ e a probabilidade pontual $P(Y=y)$.\n",
    "        - A segunda contrasta a frequência relativa acumulada com a probabilidade acumulada até determinada quantidade de itens em não conformidade. Ou seja, compara a frequência relativa acumulada até $y$ com a probabilidade acumulada $P(Y\\leq y)$.\n",
    "    Construa os gráficos de acordo com as duas opções e refine sua conclusão quanto ao uso do modelo teórico para ajustar a variável em questão!\n",
    "    5. Na prática, qual a necessidade de um modelo probabilístico já que se têm os dados observados?\n",
    "    6. Considerando apenas os carros populares, o modelo Binomial com parâmetros $n=14$ e $p=0,10$ é adequado para ajustar a variável Quantidade de itens em não conformidade? Se sim, justifique; caso não, sugira novos valores para os parâmetros da distribuição ajuste aos dados."
   ]
  },
  {
   "cell_type": "code",
   "execution_count": 5,
   "metadata": {
    "collapsed": false
   },
   "outputs": [
    {
     "name": "stdout",
     "output_type": "stream",
     "text": [
      "Esperamos trabalhar no diretório\n",
      "/Users/brunolandwehr/Desktop/INSPER/2º SEMESTRE/Ciência dos Dados/PYTHON\n"
     ]
    }
   ],
   "source": [
    "import os\n",
    "print('Esperamos trabalhar no diretório')\n",
    "print(os.getcwd())\n",
    "dados = pd.read_table('Carros.txt', sep=' ')\n",
    "tipo = dados.Tipo\n",
    "qntd= dados.Quantidade\n",
    "n=dados.shape[0]"
   ]
  },
  {
   "cell_type": "code",
   "execution_count": 6,
   "metadata": {
    "collapsed": false
   },
   "outputs": [
    {
     "name": "stdout",
     "output_type": "stream",
     "text": [
      "1    0.3\n",
      "0    0.3\n",
      "2    0.2\n",
      "3    0.1\n",
      "4    0.0\n",
      "5    0.0\n",
      "6    0.0\n",
      "7    0.0\n",
      "8    0.0\n",
      "Name: Quantidade, dtype: float64\n",
      "1.3713333333333333\n",
      "1.5794448888888888\n"
     ]
    }
   ],
   "source": [
    "#1a\n",
    "tdf = (qntd.value_counts(True)).round(decimals=1)\n",
    "print(tdf)\n",
    "media = 0\n",
    "var = 0\n",
    "for i in range(15):\n",
    "    media += i *(len(qntd[qntd==i])/n)\n",
    "print(media)\n",
    "for i in range(15):\n",
    "    var += ((i-media)**2)*(len(qntd[qntd==i])/n)\n",
    "print(var)"
   ]
  },
  {
   "cell_type": "markdown",
   "metadata": {},
   "source": [
    "1b)\n",
    "O parâmetro n =14 significa que o serao feitos 14 testes no carro com opções de fracassso e secesso apenas. Já o parâmetro p=0,1 nos mostra que a probabilidade de fracasso para cada um dos 14 tested é de 10%. As propriedades da distribuição Binomial se encaixam no problema em questão uma vez que os testes são independentes entre si e os unicos resultados possíveis para os testes são sucesso ou fracasso."
   ]
  },
  {
   "cell_type": "code",
   "execution_count": 7,
   "metadata": {
    "collapsed": false
   },
   "outputs": [
    {
     "name": "stdout",
     "output_type": "stream",
     "text": [
      "[  2.28767925e-01   3.55861216e-01   2.57010878e-01   1.14227057e-01\n",
      "   3.49027119e-02   7.75615819e-03   1.29269303e-03   1.64151496e-04\n",
      "   1.59591732e-05   1.18216098e-06   6.56756100e-08   2.65356000e-09\n",
      "   7.37100000e-11   1.26000000e-12   1.00000000e-14]\n",
      "(array(1.4000000000000001), array(1.2600000000000002))\n"
     ]
    }
   ],
   "source": [
    "#P(Y=y): stats.binom.pmf(y, n, p)\n",
    "#P(Y≤y): stats.binom.cdf(y, n, p)\n",
    "#E(X) e Var(X): stats.binom.stats(n, p, moments='mv')\n",
    "#1c\n",
    "y=[0,1,2,3,4,5,6,7,8,9,10,11,12,13,14]\n",
    "prob=stats.binom.pmf(y,14,0.1)\n",
    "print(prob)\n",
    "stats=stats.binom.stats(14, 0.1, moments='mv')\n",
    "print(stats)"
   ]
  },
  {
   "cell_type": "code",
   "execution_count": 8,
   "metadata": {
    "collapsed": false
   },
   "outputs": [
    {
     "data": {
      "text/plain": [
       "[<matplotlib.lines.Line2D at 0x114f7a748>]"
      ]
     },
     "execution_count": 8,
     "metadata": {},
     "output_type": "execute_result"
    },
    {
     "data": {
      "image/png": "[encoded data removed]",
      "text/plain": [
       "<matplotlib.figure.Figure at 0x114f7a8d0>"
      ]
     },
     "metadata": {},
     "output_type": "display_data"
    }
   ],
   "source": [
    "#1d)\n",
    "plt.plot(tdf,'ro')\n",
    "plt.plot(y,prob,'bo')"
   ]
  },
  {
   "cell_type": "markdown",
   "metadata": {},
   "source": [
    "1e) Deve-se fazer um modelo probabilístico teórico, uma vez que, muitas vezes, aparecem dados que fogem do padrão n"
   ]
  },
  {
   "cell_type": "markdown",
   "metadata": {},
   "source": [
    "1f) Ao analisarmos apenas carros populares, o parâmetro n=14 deve ser mantido uma vez que o número de itens inspecionados pelo Detran é o mesmo. No entanto o parâmetro p=0,1 pode estar incorreto, pois considerando apenas uma parcela da amostra, a probabilidade do item estar em conformidade com a lei provavelmente muda. Considerando carros populares, a probabilidade p deve ser de aproximadamente 0,15, uma vez que carros populares, por terem tecnologia menos avançada, podem ter seus itens em não conformidade mais vezes."
   ]
  }
 ],
 "metadata": {
  "anaconda-cloud": {},
  "kernelspec": {
   "display_name": "Python 3",
   "language": "python",
   "name": "python3"
  },
  "language_info": {
   "codemirror_mode": {
    "name": "ipython",
    "version": 3
   },
   "file_extension": ".py",
   "mimetype": "text/x-python",
   "name": "python",
   "nbconvert_exporter": "python",
   "pygments_lexer": "ipython3",
   "version": "3.5.1"
  }
 },
 "nbformat": 4,
 "nbformat_minor": 0
}
