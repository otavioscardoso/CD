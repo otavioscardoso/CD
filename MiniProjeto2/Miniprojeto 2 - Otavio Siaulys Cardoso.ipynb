{
 "cells": [
  {
   "cell_type": "markdown",
   "metadata": {},
   "source": [
    "# Miniprojeto 2 - Teorema do Limite Central: Distribuição Exponencial"
   ]
  },
  {
   "cell_type": "markdown",
   "metadata": {},
   "source": [
    "## Otávio Siaulys Cardoso - B"
   ]
  },
  {
   "cell_type": "code",
   "execution_count": 26,
   "metadata": {
    "collapsed": true
   },
   "outputs": [],
   "source": [
    "%matplotlib inline\n",
    "from scipy.stats import expon\n",
    "import matplotlib.pyplot as plt\n",
    "import numpy as np"
   ]
  },
  {
   "cell_type": "markdown",
   "metadata": {},
   "source": [
    "Antes de começar as simulações, precisa-se definir o que o teorema do limite central prevê. Segundo o TLC a distribuição das médias amostrais tende a uma distribuição normal conforme o valor de n aumenta; a média dessa distribuição tende à média da população; e a variância das médcias amostrais tende à variância da população dividida por n. "
   ]
  },
  {
   "cell_type": "code",
   "execution_count": 60,
   "metadata": {
    "collapsed": false
   },
   "outputs": [
    {
     "name": "stdout",
     "output_type": "stream",
     "text": [
      "Distribuição Exponencial\n"
     ]
    },
    {
     "data": {
      "image/png": "[encoded data removed]",
      "text/plain": [
       "<matplotlib.figure.Figure at 0x11151ecf8>"
      ]
     },
     "metadata": {},
     "output_type": "display_data"
    }
   ],
   "source": [
    "exp = expon.rvs(size=1000000)\n",
    "print(\"Distribuição Exponencial\")\n",
    "plt.hist(exp, bins=100,normed=True)\n",
    "plt.show()\n"
   ]
  },
  {
   "cell_type": "code",
   "execution_count": 61,
   "metadata": {
    "collapsed": false
   },
   "outputs": [
    {
     "name": "stdout",
     "output_type": "stream",
     "text": [
      "Média: 0.99886140818\n",
      "Variância: 1.00024769401\n"
     ]
    }
   ],
   "source": [
    "som_med_exp=0\n",
    "som_var_exp=0\n",
    "for i in range(len(exp)):\n",
    "    som_med_exp += exp[i]\n",
    "med_exp = som_med_exp/len(exp) \n",
    "\n",
    "for i in range(len(exp)):\n",
    "    som_var_exp +=(exp[i]- med_exp)**2\n",
    "var_exp = som_var_exp/len(exp)\n",
    "\n",
    "print(\"Média:\", med_exp)\n",
    "print(\"Variância:\", var_exp)"
   ]
  },
  {
   "cell_type": "code",
   "execution_count": 62,
   "metadata": {
    "collapsed": false
   },
   "outputs": [
    {
     "name": "stdout",
     "output_type": "stream",
     "text": [
      "Distribuição das médias amostrais, para n = 2\n"
     ]
    },
    {
     "data": {
      "image/png": "[encoded data removed]",
      "text/plain": [
       "<matplotlib.figure.Figure at 0x10f0d6e10>"
      ]
     },
     "metadata": {},
     "output_type": "display_data"
    }
   ],
   "source": [
    "med_exp_2=0\n",
    "lista=[]\n",
    "for i in range(100000):\n",
    "    rand = np.random.choice\n",
    "    for j in range(2):\n",
    "        med_exp_2 += (rand(exp,2)[j]/2)\n",
    "    lista.append(med_exp_2)\n",
    "    med_exp_2 = 0   \n",
    "print(\"Distribuição das médias amostrais, para n = 2\")\n",
    "plt.hist(lista,bins=100,normed=True)\n",
    "plt.show()"
   ]
  },
  {
   "cell_type": "code",
   "execution_count": 63,
   "metadata": {
    "collapsed": false
   },
   "outputs": [
    {
     "name": "stdout",
     "output_type": "stream",
     "text": [
      "Média das médias amostrais, para n = 2: 1.00132624503\n",
      "Variância das médias amostrais, para n = 2: 0.499293819068\n"
     ]
    }
   ],
   "source": [
    "som_med_dois=0\n",
    "som_var_dois=0\n",
    "for i in range(len(lista)):\n",
    "    som_med_dois +=(lista[i])\n",
    "med_exp_dois = som_med_dois/len(lista)\n",
    "\n",
    "for i in range(len(lista)):\n",
    "    som_var_dois +=((lista[i]- med_exp_dois)**2)\n",
    "var_exp_dois = som_var_dois/len(lista)\n",
    "print(\"Média das médias amostrais, para n = 2:\", med_exp_dois)\n",
    "print(\"Variância das médias amostrais, para n = 2:\", var_exp_dois)"
   ]
  },
  {
   "cell_type": "code",
   "execution_count": 64,
   "metadata": {
    "collapsed": false
   },
   "outputs": [
    {
     "name": "stdout",
     "output_type": "stream",
     "text": [
      "Distribuição das médias amostrais, para n = 4\n"
     ]
    },
    {
     "data": {
      "image/png": "[encoded data removed]",
      "text/plain": [
       "<matplotlib.figure.Figure at 0x10b9b6160>"
      ]
     },
     "metadata": {},
     "output_type": "display_data"
    }
   ],
   "source": [
    "med_exp_4=0\n",
    "lista4=[]\n",
    "for i in range(100000):\n",
    "    rand4 = np.random.choice\n",
    "    for j in range(4):\n",
    "        med_exp_4 += (rand4(exp,4)[j]/4)\n",
    "    lista4.append(med_exp_4)\n",
    "    med_exp_4 = 0   \n",
    "print(\"Distribuição das médias amostrais, para n = 4\")\n",
    "plt.hist(lista4,bins=100,normed=True)\n",
    "plt.show()"
   ]
  },
  {
   "cell_type": "code",
   "execution_count": 65,
   "metadata": {
    "collapsed": false
   },
   "outputs": [
    {
     "name": "stdout",
     "output_type": "stream",
     "text": [
      "Média das médias amostrais, para n = 4: 0.998766982624\n",
      "Variância das médias amostrais, para n = 4: 0.250243483178\n"
     ]
    }
   ],
   "source": [
    "som_med_quatro=0\n",
    "som_var_quatro=0\n",
    "for i in range(len(lista4)):\n",
    "    som_med_quatro +=(lista4[i])\n",
    "med_exp_quatro = som_med_quatro/len(lista4)\n",
    "\n",
    "for i in range(len(lista4)):\n",
    "    som_var_quatro +=((lista4[i] - med_exp_quatro)**2)\n",
    "var_exp_quatro = som_var_quatro/len(lista4)\n",
    "print(\"Média das médias amostrais, para n = 4:\", med_exp_quatro)\n",
    "print(\"Variância das médias amostrais, para n = 4:\", var_exp_quatro)"
   ]
  },
  {
   "cell_type": "code",
   "execution_count": 66,
   "metadata": {
    "collapsed": false
   },
   "outputs": [
    {
     "name": "stdout",
     "output_type": "stream",
     "text": [
      "Distribuição das médias amostrais, para n = 20\n"
     ]
    },
    {
     "data": {
      "image/png": "[encoded data removed]",
      "text/plain": [
       "<matplotlib.figure.Figure at 0x11081b4e0>"
      ]
     },
     "metadata": {},
     "output_type": "display_data"
    }
   ],
   "source": [
    "med_exp_20=0\n",
    "lista20=[]\n",
    "for i in range(100000):\n",
    "    rand20 = np.random.choice\n",
    "    for j in range(20):\n",
    "        med_exp_20 += (rand20(exp,20)[j]/20)\n",
    "    lista20.append(med_exp_20)\n",
    "    med_exp_20 = 0   \n",
    "print(\"Distribuição das médias amostrais, para n = 20\")\n",
    "plt.hist(lista20,bins=100,normed=True)\n",
    "plt.show()"
   ]
  },
  {
   "cell_type": "code",
   "execution_count": 67,
   "metadata": {
    "collapsed": false
   },
   "outputs": [
    {
     "name": "stdout",
     "output_type": "stream",
     "text": [
      "Média das médias amostrais, para n = 20: 0.99822563149\n",
      "Variância das médias amostrais, para n - 20: 0.0496989157505\n"
     ]
    }
   ],
   "source": [
    "som_med_vinte=0\n",
    "som_var_vinte=0\n",
    "for i in range(len(lista20)):\n",
    "    som_med_vinte +=(lista20[i])\n",
    "med_exp_vinte = som_med_vinte/len(lista20)\n",
    "\n",
    "for i in range(len(lista20)):\n",
    "    som_var_vinte+=((lista20[i] - med_exp_vinte)**2)\n",
    "var_exp_vinte = som_var_vinte/len(lista20)\n",
    "print(\"Média das médias amostrais, para n = 20:\", med_exp_vinte)\n",
    "print(\"Variância das médias amostrais, para n - 20:\", var_exp_vinte)"
   ]
  },
  {
   "cell_type": "code",
   "execution_count": 68,
   "metadata": {
    "collapsed": false
   },
   "outputs": [
    {
     "name": "stdout",
     "output_type": "stream",
     "text": [
      "Distribuição da média amostral, para n = 50\n"
     ]
    },
    {
     "data": {
      "image/png": "[encoded data removed]",
      "text/plain": [
       "<matplotlib.figure.Figure at 0x10bb1eeb8>"
      ]
     },
     "metadata": {},
     "output_type": "display_data"
    }
   ],
   "source": [
    "med_exp_50=0\n",
    "lista50=[]\n",
    "for i in range(100000):\n",
    "    rand50 = np.random.choice\n",
    "    for j in range(50):\n",
    "        med_exp_50 += (rand50(exp,50)[j]/50)\n",
    "    lista50.append(med_exp_50)\n",
    "    med_exp_50 = 0   \n",
    "print(\"Distribuição da média amostral, para n = 50\")\n",
    "plt.hist(lista50,bins=100,normed=True)\n",
    "plt.show()"
   ]
  },
  {
   "cell_type": "code",
   "execution_count": 69,
   "metadata": {
    "collapsed": false
   },
   "outputs": [
    {
     "name": "stdout",
     "output_type": "stream",
     "text": [
      "Média das médias amostrais, para n = 50: 0.99873262283\n",
      "Variância das médias amostrais, para n = 50: 0.0198842751753\n"
     ]
    }
   ],
   "source": [
    "som_med_cinq=0\n",
    "som_var_cinq=0\n",
    "for i in range(len(lista50)):\n",
    "    som_med_cinq +=(lista50[i])\n",
    "med_exp_cinq = som_med_cinq/len(lista50)\n",
    "\n",
    "for i in range(len(lista50)):\n",
    "    som_var_cinq+=((lista50[i] - med_exp_cinq)**2)\n",
    "var_exp_cinq = som_var_cinq/len(lista50)\n",
    "print(\"Média das médias amostrais, para n = 50:\", med_exp_cinq)\n",
    "print(\"Variância das médias amostrais, para n = 50:\", var_exp_cinq)"
   ]
  },
  {
   "cell_type": "markdown",
   "metadata": {},
   "source": [
    "Conclusão: Assim como o TLC prevê, o histograma das médias amostrais com o aumento do n, foi deixando de parecer uma distribuição exponencial se assemelhando a uma normal. Além disso, verificamos que a média das médias amostrais é muito parecida com a média populacional e que a variância é aproximadamente a variância dividida por n. Logo, as simulações feitas estão de acordo com o TLC."
   ]
  },
  {
   "cell_type": "code",
   "execution_count": null,
   "metadata": {
    "collapsed": true
   },
   "outputs": [],
   "source": []
  }
 ],
 "metadata": {
  "kernelspec": {
   "display_name": "Python 3",
   "language": "python",
   "name": "python3"
  },
  "language_info": {
   "codemirror_mode": {
    "name": "ipython",
    "version": 3
   },
   "file_extension": ".py",
   "mimetype": "text/x-python",
   "name": "python",
   "nbconvert_exporter": "python",
   "pygments_lexer": "ipython3",
   "version": "3.5.1"
  }
 },
 "nbformat": 4,
 "nbformat_minor": 0
}
