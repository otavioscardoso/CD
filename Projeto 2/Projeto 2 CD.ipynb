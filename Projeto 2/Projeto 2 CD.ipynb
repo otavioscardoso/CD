{
 "cells": [
  {
   "cell_type": "markdown",
   "metadata": {},
   "source": [
    "# Otávio Cardoso e Henrique Guazzelli\n"
   ]
  },
  {
   "cell_type": "markdown",
   "metadata": {},
   "source": [
    "## Projeto 2 - Ciência dos Dados\n"
   ]
  },
  {
   "cell_type": "markdown",
   "metadata": {},
   "source": [
    "### -> Introdução"
   ]
  },
  {
   "cell_type": "markdown",
   "metadata": {},
   "source": [
    "O Projeto 2 consiste no estudo da facilidade de um usuário conseguir achar a página de um projeto em duas interfaces de portfólios de projetos de engenharia do insper. Para o nosso grupo, o usuário deveria ser capaz de encontrar ou o projeto da estação metereológica (tipo 0) ou o sistema mecânico (tipo2) em aleatoriamente uma das duas interfaces. Na interface A, a divisão de projetos se dá por meio de competências desenvolvidas pelos alunos, já na interface B, a divisão dos projetos se dá por meio de matérias pelos alunos. As interfaces foram desenvolvidas no curso de co-design de aplicativos como o primeiro projeto. Desta forma, vamos analisar o tempo que usuários demoram para achar os projetos e a partir desta análise, definir qual deles é mais eficiente e objetivo."
   ]
  },
  {
   "cell_type": "markdown",
   "metadata": {},
   "source": [
    "### -> Hipótese\n"
   ]
  },
  {
   "cell_type": "markdown",
   "metadata": {},
   "source": [
    "O grupo acredita que a interface que classifica os projetos por meio de competências desenvolvidas,ou seja, a interface A será mais efficiente do que a outra tanto para achar o projeto da estação metereológica, como para achar o projeto de sistema mecânico."
   ]
  },
  {
   "cell_type": "markdown",
   "metadata": {},
   "source": [
    "### -> Importando e selecionando o database"
   ]
  },
  {
   "cell_type": "code",
   "execution_count": 2,
   "metadata": {
    "collapsed": true
   },
   "outputs": [],
   "source": [
    "import pandas as pd\n",
    "import json\n",
    "import itertools\n",
    "import matplotlib.pyplot as plt\n",
    "import numpy as np\n",
    "import os\n",
    "%matplotlib inline"
   ]
  },
  {
   "cell_type": "code",
   "execution_count": 3,
   "metadata": {
    "collapsed": true
   },
   "outputs": [],
   "source": [
    "arquivo = open(\"teste-ab-export.json\")\n",
    "linhas = arquivo.readlines()\n",
    "texto = \"\".join(linhas)\n",
    "dados_fire = json.loads(texto)"
   ]
  },
  {
   "cell_type": "code",
   "execution_count": 4,
   "metadata": {
    "collapsed": true
   },
   "outputs": [],
   "source": [
    "for k,v in dados_fire[\"logs\"].items():\n",
    "    # print(k,v) # habilite para imprimir as chaves de mais alto nível\n",
    "    for chave, valor in v.items():\n",
    "        # print(chave, valor) # habilite para imprimir as chaves inferiores\n",
    "        pass # desabilite quando reabilitar a linha de cima"
   ]
  },
  {
   "cell_type": "code",
   "execution_count": 5,
   "metadata": {
    "collapsed": true
   },
   "outputs": [],
   "source": [
    "lista_dicionarios = []\n",
    "\n",
    "for k,v in dados_fire[\"logs\"].items():\n",
    "    lista_dicionarios.append(v)"
   ]
  },
  {
   "cell_type": "code",
   "execution_count": 6,
   "metadata": {
    "collapsed": false
   },
   "outputs": [
    {
     "name": "stdout",
     "output_type": "stream",
     "text": [
      "             tempo    tipo     user_id versao\n",
      "0    1478399665570  inicio  1212005310     B2\n",
      "1    1478387910498  inicio  2381392679     B2\n",
      "2    1478385760251  inicio  4062351423      B\n",
      "3    1478389687722  inicio   619603522     B2\n",
      "4    1478385877431  inicio  1958848493     A2\n",
      "5    1478387896114  inicio  1537021356      B\n",
      "6    1478385929817  inicio  4088041952      B\n",
      "7    1478536994730   final  3789181448      B\n",
      "8    1478433227331   final  3789181448      B\n",
      "9    1478399678716   final  1212005310     B2\n",
      "10   1478525743404  inicio  1383846613      A\n",
      "11   1478453623219  inicio  4172488568     B2\n",
      "12   1478385658911  inicio  1132830238     A2\n",
      "13   1478525189265  inicio  1814136725      B\n",
      "14   1478386129712  inicio  4088041952      A\n",
      "15   1478549609336  inicio   112988659     A2\n",
      "16   1478385720608  inicio  3299522247     B2\n",
      "17   1478386619891  inicio  1112366015      A\n",
      "18   1478446994904  inicio    44003299      B\n",
      "19   1478393554994  inicio  3656905574      B\n",
      "20   1478385793684  inicio  1020339848     B2\n",
      "21   1479340457847  inicio   158080108      B\n",
      "22   1478403347098  inicio   459832871     A2\n",
      "23   1478387340695   final  3974192122      B\n",
      "24   1478396490798  inicio  1958848493     A2\n",
      "25   1478385773867  inicio  1442322598     A2\n",
      "26   1478400012577  inicio  1572420869     A2\n",
      "27   1478385084654  inicio  1513840307      A\n",
      "28   1478387825408   final  2654924156     A2\n",
      "29   1478386349732  inicio  3128722429      A\n",
      "..             ...     ...         ...    ...\n",
      "135  1478386034803  inicio  4088041952      A\n",
      "136  1478386899961  inicio  1355150594     A2\n",
      "137  1478385782382  inicio  3088713353     A2\n",
      "138  1478389364486   final  2931527350      B\n",
      "139  1478549690674  inicio   112988659      A\n",
      "140  1478426791587   final  2403960165     B2\n",
      "141  1478426747000  inicio  2403960165     B2\n",
      "142  1478524001845  inicio  3789181448     B2\n",
      "143  1478386418635   final  1471369903      B\n",
      "144  1478387551961  inicio  1355150594     A2\n",
      "145  1478421356937  inicio  3724356519      B\n",
      "146  1478434901801  inicio  1162025399     B2\n",
      "147  1478531867709  inicio  3789181448      B\n",
      "148  1478447055796  inicio    44003299      B\n",
      "149  1478453442471  inicio  2953177775     A2\n",
      "150  1478524020009  inicio  3789181448     B2\n",
      "151  1478385886743   final  3371432430      B\n",
      "152  1479340371003  inicio   507758501      A\n",
      "153  1478386409307  inicio  1471369903      B\n",
      "154  1478524734088  inicio   853823534      B\n",
      "155  1478527972317  inicio  1015713713      B\n",
      "156  1478472609049  inicio  4014924851     A2\n",
      "157  1479340536453   final   158080108     B2\n",
      "158  1478435019407  inicio  1162025399     B2\n",
      "159  1478531954377   final  3789181448      B\n",
      "160  1478387751410  inicio  2654924156      A\n",
      "161  1478386434262   final   801994363     A2\n",
      "162  1478453536958  inicio  2953177775      B\n",
      "163  1478433204963  inicio  3789181448      B\n",
      "164  1478549742354  inicio   112988659     A2\n",
      "\n",
      "[165 rows x 4 columns]\n"
     ]
    }
   ],
   "source": [
    "dataframe = pd.DataFrame.from_records(lista_dicionarios)\n",
    "print(dataframe)"
   ]
  },
  {
   "cell_type": "code",
   "execution_count": 7,
   "metadata": {
    "collapsed": false
   },
   "outputs": [],
   "source": [
    "agrupado = dataframe.groupby(by=[\"user_id\", \"versao\"])\n",
    "users = set(dataframe.user_id) # We convert it to a set so that each user appear only once\n",
    "users = list(users)\n",
    "resultados = []\n",
    "\n",
    "for u in users:\n",
    "    for versao in [\"A\", \"B\",\"A2\",\"B2\"]:\n",
    "        if (u, versao) in agrupado.groups.keys(): # Check if a specific pair user/type of test happened\n",
    "            grupo1 =  agrupado.get_group((u, versao))\n",
    "            grupo1 = grupo1.sort_values(by=\"tempo\") # Para evitar que inícios sem fim gerem tempos negativos\n",
    "            \n",
    "            if len(grupo1[grupo1.tipo==\"final\"])>= 1 and len(grupo1[grupo1.tipo==\"inicio\"]) >= 1:\n",
    "                delta_t = grupo1[grupo1.tipo==\"final\"].iloc[-1].tempo - grupo1[grupo1.tipo==\"inicio\"].iloc[0].tempo\n",
    "                resultados.append({\"user_id\":u, \"delta_t\":delta_t, \"versao\":versao})\n"
   ]
  },
  {
   "cell_type": "code",
   "execution_count": 8,
   "metadata": {
    "collapsed": false
   },
   "outputs": [
    {
     "data": {
      "text/html": [
       "<div>\n",
       "<table border=\"1\" class=\"dataframe\">\n",
       "  <thead>\n",
       "    <tr style=\"text-align: right;\">\n",
       "      <th></th>\n",
       "      <th>delta_t</th>\n",
       "      <th>user_id</th>\n",
       "      <th>versao</th>\n",
       "    </tr>\n",
       "  </thead>\n",
       "  <tbody>\n",
       "    <tr>\n",
       "      <th>0</th>\n",
       "      <td>152.915</td>\n",
       "      <td>1572420869</td>\n",
       "      <td>A2</td>\n",
       "    </tr>\n",
       "    <tr>\n",
       "      <th>1</th>\n",
       "      <td>149811.770</td>\n",
       "      <td>3789181448</td>\n",
       "      <td>B</td>\n",
       "    </tr>\n",
       "    <tr>\n",
       "      <th>2</th>\n",
       "      <td>134268.383</td>\n",
       "      <td>3789181448</td>\n",
       "      <td>A2</td>\n",
       "    </tr>\n",
       "    <tr>\n",
       "      <th>3</th>\n",
       "      <td>129884.277</td>\n",
       "      <td>3789181448</td>\n",
       "      <td>B2</td>\n",
       "    </tr>\n",
       "    <tr>\n",
       "      <th>4</th>\n",
       "      <td>13.852</td>\n",
       "      <td>3857193483</td>\n",
       "      <td>A</td>\n",
       "    </tr>\n",
       "    <tr>\n",
       "      <th>5</th>\n",
       "      <td>31.828</td>\n",
       "      <td>167343643</td>\n",
       "      <td>B2</td>\n",
       "    </tr>\n",
       "    <tr>\n",
       "      <th>6</th>\n",
       "      <td>371.593</td>\n",
       "      <td>1132830238</td>\n",
       "      <td>B2</td>\n",
       "    </tr>\n",
       "    <tr>\n",
       "      <th>7</th>\n",
       "      <td>99.693</td>\n",
       "      <td>507758501</td>\n",
       "      <td>A</td>\n",
       "    </tr>\n",
       "    <tr>\n",
       "      <th>8</th>\n",
       "      <td>26.828</td>\n",
       "      <td>3724356519</td>\n",
       "      <td>B</td>\n",
       "    </tr>\n",
       "    <tr>\n",
       "      <th>9</th>\n",
       "      <td>9.328</td>\n",
       "      <td>1471369903</td>\n",
       "      <td>B</td>\n",
       "    </tr>\n",
       "    <tr>\n",
       "      <th>10</th>\n",
       "      <td>14.004</td>\n",
       "      <td>1513840307</td>\n",
       "      <td>A</td>\n",
       "    </tr>\n",
       "    <tr>\n",
       "      <th>11</th>\n",
       "      <td>7.825</td>\n",
       "      <td>1513840307</td>\n",
       "      <td>B</td>\n",
       "    </tr>\n",
       "    <tr>\n",
       "      <th>12</th>\n",
       "      <td>661.297</td>\n",
       "      <td>1513840307</td>\n",
       "      <td>A2</td>\n",
       "    </tr>\n",
       "    <tr>\n",
       "      <th>13</th>\n",
       "      <td>21.717</td>\n",
       "      <td>4014924851</td>\n",
       "      <td>A</td>\n",
       "    </tr>\n",
       "    <tr>\n",
       "      <th>14</th>\n",
       "      <td>14.208</td>\n",
       "      <td>4014924851</td>\n",
       "      <td>B2</td>\n",
       "    </tr>\n",
       "    <tr>\n",
       "      <th>15</th>\n",
       "      <td>10.658</td>\n",
       "      <td>2931527350</td>\n",
       "      <td>B</td>\n",
       "    </tr>\n",
       "    <tr>\n",
       "      <th>16</th>\n",
       "      <td>131.944</td>\n",
       "      <td>1162025399</td>\n",
       "      <td>B2</td>\n",
       "    </tr>\n",
       "    <tr>\n",
       "      <th>17</th>\n",
       "      <td>13.146</td>\n",
       "      <td>1212005310</td>\n",
       "      <td>B2</td>\n",
       "    </tr>\n",
       "    <tr>\n",
       "      <th>18</th>\n",
       "      <td>47.524</td>\n",
       "      <td>3238111569</td>\n",
       "      <td>B</td>\n",
       "    </tr>\n",
       "    <tr>\n",
       "      <th>19</th>\n",
       "      <td>111.402</td>\n",
       "      <td>4088041952</td>\n",
       "      <td>A</td>\n",
       "    </tr>\n",
       "    <tr>\n",
       "      <th>20</th>\n",
       "      <td>120.231</td>\n",
       "      <td>44003299</td>\n",
       "      <td>B</td>\n",
       "    </tr>\n",
       "    <tr>\n",
       "      <th>21</th>\n",
       "      <td>44.587</td>\n",
       "      <td>2403960165</td>\n",
       "      <td>B2</td>\n",
       "    </tr>\n",
       "    <tr>\n",
       "      <th>22</th>\n",
       "      <td>19.137</td>\n",
       "      <td>158080108</td>\n",
       "      <td>B2</td>\n",
       "    </tr>\n",
       "    <tr>\n",
       "      <th>23</th>\n",
       "      <td>91.284</td>\n",
       "      <td>3371432430</td>\n",
       "      <td>B</td>\n",
       "    </tr>\n",
       "    <tr>\n",
       "      <th>24</th>\n",
       "      <td>170.975</td>\n",
       "      <td>4276887803</td>\n",
       "      <td>A</td>\n",
       "    </tr>\n",
       "    <tr>\n",
       "      <th>25</th>\n",
       "      <td>49.474</td>\n",
       "      <td>4172488568</td>\n",
       "      <td>B2</td>\n",
       "    </tr>\n",
       "    <tr>\n",
       "      <th>26</th>\n",
       "      <td>56.848</td>\n",
       "      <td>3974192122</td>\n",
       "      <td>B</td>\n",
       "    </tr>\n",
       "    <tr>\n",
       "      <th>27</th>\n",
       "      <td>51.509</td>\n",
       "      <td>801994363</td>\n",
       "      <td>A2</td>\n",
       "    </tr>\n",
       "    <tr>\n",
       "      <th>28</th>\n",
       "      <td>31.036</td>\n",
       "      <td>2654924156</td>\n",
       "      <td>A2</td>\n",
       "    </tr>\n",
       "    <tr>\n",
       "      <th>29</th>\n",
       "      <td>256.621</td>\n",
       "      <td>3128722429</td>\n",
       "      <td>A2</td>\n",
       "    </tr>\n",
       "  </tbody>\n",
       "</table>\n",
       "</div>"
      ],
      "text/plain": [
       "       delta_t     user_id versao\n",
       "0      152.915  1572420869     A2\n",
       "1   149811.770  3789181448      B\n",
       "2   134268.383  3789181448     A2\n",
       "3   129884.277  3789181448     B2\n",
       "4       13.852  3857193483      A\n",
       "5       31.828   167343643     B2\n",
       "6      371.593  1132830238     B2\n",
       "7       99.693   507758501      A\n",
       "8       26.828  3724356519      B\n",
       "9        9.328  1471369903      B\n",
       "10      14.004  1513840307      A\n",
       "11       7.825  1513840307      B\n",
       "12     661.297  1513840307     A2\n",
       "13      21.717  4014924851      A\n",
       "14      14.208  4014924851     B2\n",
       "15      10.658  2931527350      B\n",
       "16     131.944  1162025399     B2\n",
       "17      13.146  1212005310     B2\n",
       "18      47.524  3238111569      B\n",
       "19     111.402  4088041952      A\n",
       "20     120.231    44003299      B\n",
       "21      44.587  2403960165     B2\n",
       "22      19.137   158080108     B2\n",
       "23      91.284  3371432430      B\n",
       "24     170.975  4276887803      A\n",
       "25      49.474  4172488568     B2\n",
       "26      56.848  3974192122      B\n",
       "27      51.509   801994363     A2\n",
       "28      31.036  2654924156     A2\n",
       "29     256.621  3128722429     A2"
      ]
     },
     "execution_count": 8,
     "metadata": {},
     "output_type": "execute_result"
    }
   ],
   "source": [
    "grupo1.sort_values(by=\"tempo\")  \n",
    "dataframe_resumo = pd.DataFrame.from_records(resultados)\n",
    "dataframe_resumo.delta_t/=1000\n",
    "d = dataframe_resumo \n",
    "d"
   ]
  },
  {
   "cell_type": "code",
   "execution_count": null,
   "metadata": {
    "collapsed": true
   },
   "outputs": [],
   "source": [
    "d.delta_t = d.delta_t.astype('float')\n",
    "d.versao = d.versao.astype('category')"
   ]
  },
  {
   "cell_type": "markdown",
   "metadata": {},
   "source": [
    "### -> Teste A"
   ]
  },
  {
   "cell_type": "code",
   "execution_count": 50,
   "metadata": {
    "collapsed": false
   },
   "outputs": [
    {
     "data": {
      "text/plain": [
       "count      6.000000\n",
       "mean      71.940500\n",
       "std       65.404213\n",
       "min       13.852000\n",
       "25%       15.932250\n",
       "50%       60.705000\n",
       "75%      108.474750\n",
       "max      170.975000\n",
       "Name: delta_t, dtype: float64"
      ]
     },
     "execution_count": 50,
     "metadata": {},
     "output_type": "execute_result"
    }
   ],
   "source": [
    "A = d.delta_t[(d.versao=='A')]\n",
    "A.describe()"
   ]
  },
  {
   "cell_type": "code",
   "execution_count": 51,
   "metadata": {
    "collapsed": false
   },
   "outputs": [
    {
     "name": "stdout",
     "output_type": "stream",
     "text": [
      "Tempos para encontrar o projeto da estação metereológica na interface A\n"
     ]
    },
    {
     "data": {
      "text/plain": [
       "<matplotlib.axes._subplots.AxesSubplot at 0x107dc0e48>"
      ]
     },
     "execution_count": 51,
     "metadata": {},
     "output_type": "execute_result"
    },
    {
     "data": {
      "image/png": "[encoded data removed]",
      "text/plain": [
       "<matplotlib.figure.Figure at 0x115a32d68>"
      ]
     },
     "metadata": {},
     "output_type": "display_data"
    }
   ],
   "source": [
    "print(\"Tempos para encontrar o projeto da estação metereológica na interface A\")\n",
    "A.plot (kind='box') "
   ]
  },
  {
   "cell_type": "code",
   "execution_count": 74,
   "metadata": {
    "collapsed": false
   },
   "outputs": [
    {
     "data": {
      "text/plain": [
       "(10, 30]      3\n",
       "(110, 130]    1\n",
       "(90, 110]     1\n",
       "(150, 170]    0\n",
       "(130, 150]    0\n",
       "(70, 90]      0\n",
       "(50, 70]      0\n",
       "(30, 50]      0\n",
       "dtype: int64"
      ]
     },
     "execution_count": 74,
     "metadata": {},
     "output_type": "execute_result"
    }
   ],
   "source": [
    "faixa = np.arange(10,171,20)\n",
    "variávelCat = pd.cut(d.delta_t[(d.versao=='A')], faixa) \n",
    "variávelCat.value_counts()"
   ]
  },
  {
   "cell_type": "code",
   "execution_count": 77,
   "metadata": {
    "collapsed": false
   },
   "outputs": [
    {
     "name": "stdout",
     "output_type": "stream",
     "text": [
      "\n"
     ]
    },
    {
     "data": {
      "image/png": "[encoded data removed]",
      "text/plain": [
       "<matplotlib.figure.Figure at 0x1167b5198>"
      ]
     },
     "metadata": {},
     "output_type": "display_data"
    }
   ],
   "source": [
    "print(\"\")\n",
    "plot = d.delta_t[(d.versao=='A')].plot.hist(bins = faixa, normed =1, color = 'r')\n",
    "plt.show()"
   ]
  },
  {
   "cell_type": "markdown",
   "metadata": {},
   "source": [
    "### -> Teste B"
   ]
  },
  {
   "cell_type": "code",
   "execution_count": 52,
   "metadata": {
    "collapsed": false
   },
   "outputs": [
    {
     "data": {
      "text/plain": [
       "count      8.000000\n",
       "mean      46.315750\n",
       "std       41.574159\n",
       "min        7.825000\n",
       "25%       10.325500\n",
       "50%       37.176000\n",
       "75%       65.457000\n",
       "max      120.231000\n",
       "Name: delta_t, dtype: float64"
      ]
     },
     "execution_count": 52,
     "metadata": {},
     "output_type": "execute_result"
    }
   ],
   "source": [
    "B = d.delta_t[(d.delta_t < 149811.770)&(d.versao=='B')]\n",
    "B.describe()"
   ]
  },
  {
   "cell_type": "code",
   "execution_count": 53,
   "metadata": {
    "collapsed": false
   },
   "outputs": [
    {
     "name": "stdout",
     "output_type": "stream",
     "text": [
      "Tempos para encontrar o projeto da estação metereológica na interface B\n"
     ]
    },
    {
     "data": {
      "text/plain": [
       "<matplotlib.axes._subplots.AxesSubplot at 0x115b83438>"
      ]
     },
     "execution_count": 53,
     "metadata": {},
     "output_type": "execute_result"
    },
    {
     "data": {
      "image/png": "[encoded data removed]",
      "text/plain": [
       "<matplotlib.figure.Figure at 0x115c100f0>"
      ]
     },
     "metadata": {},
     "output_type": "display_data"
    }
   ],
   "source": [
    "print(\"Tempos para encontrar o projeto da estação metereológica na interface B\")\n",
    "B.plot (kind='box') "
   ]
  },
  {
   "cell_type": "code",
   "execution_count": 82,
   "metadata": {
    "collapsed": false
   },
   "outputs": [
    {
     "data": {
      "text/plain": [
       "(10, 30]      2\n",
       "(110, 130]    1\n",
       "(90, 110]     1\n",
       "(50, 70]      1\n",
       "(30, 50]      1\n",
       "(150, 170]    0\n",
       "(130, 150]    0\n",
       "(70, 90]      0\n",
       "dtype: int64"
      ]
     },
     "execution_count": 82,
     "metadata": {},
     "output_type": "execute_result"
    }
   ],
   "source": [
    "variávelCat2 = pd.cut(d.delta_t[(d.delta_t < 149811.770)&(d.versao=='B')], faixa) \n",
    "variávelCat2.value_counts()"
   ]
  },
  {
   "cell_type": "code",
   "execution_count": 83,
   "metadata": {
    "collapsed": false
   },
   "outputs": [
    {
     "name": "stdout",
     "output_type": "stream",
     "text": [
      "\n"
     ]
    },
    {
     "data": {
      "image/png": "[encoded data removed]",
      "text/plain": [
       "<matplotlib.figure.Figure at 0x116dbd080>"
      ]
     },
     "metadata": {},
     "output_type": "display_data"
    }
   ],
   "source": [
    "print(\"\")\n",
    "plot = d.delta_t[(d.delta_t < 149811.770)&(d.versao=='B')].plot.hist(bins = faixa, normed =1, color = 'b')\n",
    "plt.show()"
   ]
  },
  {
   "cell_type": "markdown",
   "metadata": {},
   "source": [
    "### -> Conclusão teste AB"
   ]
  },
  {
   "cell_type": "code",
   "execution_count": 88,
   "metadata": {
    "collapsed": false
   },
   "outputs": [
    {
     "data": {
      "text/plain": [
       "<matplotlib.axes._subplots.AxesSubplot at 0x116d16a20>"
      ]
     },
     "execution_count": 88,
     "metadata": {},
     "output_type": "execute_result"
    },
    {
     "data": {
      "image/png": "[encoded data removed]",
      "text/plain": [
       "<matplotlib.figure.Figure at 0x117084cf8>"
      ]
     },
     "metadata": {},
     "output_type": "display_data"
    }
   ],
   "source": [
    "A.plot (kind='box') \n",
    "B.plot (kind='box') "
   ]
  },
  {
   "cell_type": "code",
   "execution_count": 87,
   "metadata": {
    "collapsed": false
   },
   "outputs": [
    {
     "data": {
      "image/png": "[encoded data removed]",
      "text/plain": [
       "<matplotlib.figure.Figure at 0x1171c31d0>"
      ]
     },
     "metadata": {},
     "output_type": "display_data"
    }
   ],
   "source": [
    "plot = d.delta_t[(d.versao=='A')].plot.hist(bins = faixa, normed =1, alpha = 0.5, color = 'r')\n",
    "plot = d.delta_t[(d.delta_t < 149811.770)&(d.versao=='B')].plot.hist(bins = faixa, normed =1, color = 'b')"
   ]
  },
  {
   "cell_type": "markdown",
   "metadata": {},
   "source": [
    "Concluindo, a partir das análises feitas anteriormente, é possível conluir que apesar da média de delta t para a interface A ser maior do que a da interface B, pode-se perceber que há uma maior frequência para tempos menores para os usuários que acessaram a interface A do que aqueles que acessaram a interface B. Está analise poderia ser mais precisa caso o número de acessos fosse maior.\n",
    "\n",
    "Logo, a nossa hipótese inicial foi parcialmente incorreta, já que em média a interface B se provou mais eficiente e objetiva do que a interface A para o projeto da estação metereológica."
   ]
  },
  {
   "cell_type": "markdown",
   "metadata": {},
   "source": [
    "### -> Teste A2"
   ]
  },
  {
   "cell_type": "code",
   "execution_count": 54,
   "metadata": {
    "collapsed": false
   },
   "outputs": [
    {
     "data": {
      "text/plain": [
       "count      5.000000\n",
       "mean     230.675600\n",
       "std      256.958803\n",
       "min       31.036000\n",
       "25%       51.509000\n",
       "50%      152.915000\n",
       "75%      256.621000\n",
       "max      661.297000\n",
       "Name: delta_t, dtype: float64"
      ]
     },
     "execution_count": 54,
     "metadata": {},
     "output_type": "execute_result"
    }
   ],
   "source": [
    "A2 = d.delta_t[(d.delta_t < 134268.383 )&(d.versao=='A2')]\n",
    "A2.describe()"
   ]
  },
  {
   "cell_type": "code",
   "execution_count": 55,
   "metadata": {
    "collapsed": false
   },
   "outputs": [
    {
     "name": "stdout",
     "output_type": "stream",
     "text": [
      "Tempos para encontrar o projeto de sistema mecânico na interface A\n"
     ]
    },
    {
     "data": {
      "text/plain": [
       "<matplotlib.axes._subplots.AxesSubplot at 0x115ccd2b0>"
      ]
     },
     "execution_count": 55,
     "metadata": {},
     "output_type": "execute_result"
    },
    {
     "data": {
      "image/png": "[encoded data removed]",
      "text/plain": [
       "<matplotlib.figure.Figure at 0x115cd4ef0>"
      ]
     },
     "metadata": {},
     "output_type": "display_data"
    }
   ],
   "source": [
    "print(\"Tempos para encontrar o projeto de sistema mecânico na interface A\")\n",
    "A2.plot (kind='box') "
   ]
  },
  {
   "cell_type": "code",
   "execution_count": 97,
   "metadata": {
    "collapsed": false
   },
   "outputs": [
    {
     "data": {
      "text/plain": [
       "(150, 170]    1\n",
       "(50, 70]      1\n",
       "(30, 50]      1\n",
       "(170, 190]    0\n",
       "(130, 150]    0\n",
       "(110, 130]    0\n",
       "(90, 110]     0\n",
       "(70, 90]      0\n",
       "dtype: int64"
      ]
     },
     "execution_count": 97,
     "metadata": {},
     "output_type": "execute_result"
    }
   ],
   "source": [
    "faixa2 = np.arange(30,200,20)\n",
    "variávelCat3 = pd.cut(d.delta_t[(d.delta_t < 134268.383)&(d.versao=='A2')], faixa2) \n",
    "variávelCat3.value_counts()"
   ]
  },
  {
   "cell_type": "code",
   "execution_count": 101,
   "metadata": {
    "collapsed": false
   },
   "outputs": [
    {
     "name": "stdout",
     "output_type": "stream",
     "text": [
      "\n"
     ]
    },
    {
     "data": {
      "image/png": "[encoded data removed]",
      "text/plain": [
       "<matplotlib.figure.Figure at 0x116c3f470>"
      ]
     },
     "metadata": {},
     "output_type": "display_data"
    }
   ],
   "source": [
    "print(\"\")\n",
    "plot = d.delta_t[(d.delta_t < 134268.383)&(d.versao=='A2')].plot.hist(bins = faixa2, normed =1, color = 'r')\n",
    "plt.show()"
   ]
  },
  {
   "cell_type": "markdown",
   "metadata": {},
   "source": [
    "### -> Teste B2"
   ]
  },
  {
   "cell_type": "code",
   "execution_count": 58,
   "metadata": {
    "collapsed": false
   },
   "outputs": [
    {
     "data": {
      "text/plain": [
       "count      8.000000\n",
       "mean      84.489625\n",
       "std      122.224741\n",
       "min       13.146000\n",
       "25%       17.904750\n",
       "50%       38.207500\n",
       "75%       70.091500\n",
       "max      371.593000\n",
       "Name: delta_t, dtype: float64"
      ]
     },
     "execution_count": 58,
     "metadata": {},
     "output_type": "execute_result"
    }
   ],
   "source": [
    "B2 = d.delta_t[(d.delta_t < 129884.277 )&(d.versao=='B2')]\n",
    "B2.describe()"
   ]
  },
  {
   "cell_type": "code",
   "execution_count": 59,
   "metadata": {
    "collapsed": false
   },
   "outputs": [
    {
     "name": "stdout",
     "output_type": "stream",
     "text": [
      "Tempos para encontrar o projeto de sistema mecânico na interface A\n"
     ]
    },
    {
     "data": {
      "text/plain": [
       "<matplotlib.axes._subplots.AxesSubplot at 0x115d73128>"
      ]
     },
     "execution_count": 59,
     "metadata": {},
     "output_type": "execute_result"
    },
    {
     "data": {
      "image/png": "[encoded data removed]",
      "text/plain": [
       "<matplotlib.figure.Figure at 0x115d79128>"
      ]
     },
     "metadata": {},
     "output_type": "display_data"
    }
   ],
   "source": [
    "print(\"Tempos para encontrar o projeto de sistema mecânico na interface A\")\n",
    "B2.plot (kind='box') "
   ]
  },
  {
   "cell_type": "code",
   "execution_count": 99,
   "metadata": {
    "collapsed": false
   },
   "outputs": [
    {
     "data": {
      "text/plain": [
       "(30, 50]      3\n",
       "(130, 150]    1\n",
       "(170, 190]    0\n",
       "(150, 170]    0\n",
       "(110, 130]    0\n",
       "(90, 110]     0\n",
       "(70, 90]      0\n",
       "(50, 70]      0\n",
       "dtype: int64"
      ]
     },
     "execution_count": 99,
     "metadata": {},
     "output_type": "execute_result"
    }
   ],
   "source": [
    "variávelCat4 = pd.cut(d.delta_t[(d.delta_t < 129884.277)&(d.versao=='B2')], faixa2) \n",
    "variávelCat4.value_counts()"
   ]
  },
  {
   "cell_type": "code",
   "execution_count": 100,
   "metadata": {
    "collapsed": false
   },
   "outputs": [
    {
     "name": "stdout",
     "output_type": "stream",
     "text": [
      "\n"
     ]
    },
    {
     "data": {
      "image/png": "[encoded data removed]",
      "text/plain": [
       "<matplotlib.figure.Figure at 0x1166f6390>"
      ]
     },
     "metadata": {},
     "output_type": "display_data"
    }
   ],
   "source": [
    "print(\"\")\n",
    "plot = d.delta_t[(d.delta_t < 129884.277)&(d.versao=='B2')].plot.hist(bins = faixa2, normed =1, color = 'b')\n",
    "plt.show()"
   ]
  },
  {
   "cell_type": "markdown",
   "metadata": {},
   "source": [
    "### -> Conclusão teste A2B2"
   ]
  },
  {
   "cell_type": "code",
   "execution_count": 89,
   "metadata": {
    "collapsed": false
   },
   "outputs": [
    {
     "data": {
      "text/plain": [
       "<matplotlib.axes._subplots.AxesSubplot at 0x1166c7780>"
      ]
     },
     "execution_count": 89,
     "metadata": {},
     "output_type": "execute_result"
    },
    {
     "data": {
      "image/png": "[encoded data removed]",
      "text/plain": [
       "<matplotlib.figure.Figure at 0x1161cb518>"
      ]
     },
     "metadata": {},
     "output_type": "display_data"
    }
   ],
   "source": [
    "A2.plot (kind='box') \n",
    "B2.plot (kind='box') "
   ]
  },
  {
   "cell_type": "code",
   "execution_count": 102,
   "metadata": {
    "collapsed": false
   },
   "outputs": [
    {
     "data": {
      "image/png": "[encoded data removed]",
      "text/plain": [
       "<matplotlib.figure.Figure at 0x1168175c0>"
      ]
     },
     "metadata": {},
     "output_type": "display_data"
    }
   ],
   "source": [
    "plot = d.delta_t[(d.delta_t < 134268.383)&(d.versao=='A2')].plot.hist(bins = faixa2, normed =1, alpha = 0.5, color = 'r')\n",
    "plot = d.delta_t[(d.delta_t < 129884.277)&(d.versao=='B2')].plot.hist(bins = faixa2, normed =1, color = 'b')"
   ]
  },
  {
   "cell_type": "markdown",
   "metadata": {},
   "source": [
    "Concluindo, a partir das análises feitas anteriormente, é possível conluir que além da média de delta t para a interface A ser muito maior do que a da interface B, pode-se perceber que há uma maior frequência para tempos menores para os usuários que acessaram a interface B do que aqueles que acessaram a interface A. Está analise poderia ser mais precisa caso o número de acessos fosse maior.\n",
    "\n",
    "Logo, a nossa hipótese inicial foi parcialmente incorreta, já que em média a interface B se provou mais eficiente e objetiva do que a interface A para o projeto da estação metereológica."
   ]
  },
  {
   "cell_type": "markdown",
   "metadata": {},
   "source": [
    "### -> Comparando A e A2"
   ]
  },
  {
   "cell_type": "code",
   "execution_count": 103,
   "metadata": {
    "collapsed": false
   },
   "outputs": [
    {
     "data": {
      "text/plain": [
       "<matplotlib.axes._subplots.AxesSubplot at 0x11752bb70>"
      ]
     },
     "execution_count": 103,
     "metadata": {},
     "output_type": "execute_result"
    },
    {
     "data": {
      "image/png": "[encoded data removed]",
      "text/plain": [
       "<matplotlib.figure.Figure at 0x1168e4b38>"
      ]
     },
     "metadata": {},
     "output_type": "display_data"
    }
   ],
   "source": [
    "A.plot (kind='box') \n",
    "A2.plot (kind='box') "
   ]
  },
  {
   "cell_type": "code",
   "execution_count": 104,
   "metadata": {
    "collapsed": false
   },
   "outputs": [
    {
     "data": {
      "image/png": "[encoded data removed]",
      "text/plain": [
       "<matplotlib.figure.Figure at 0x116ba3d30>"
      ]
     },
     "metadata": {},
     "output_type": "display_data"
    }
   ],
   "source": [
    "plot = d.delta_t[(d.versao=='A')].plot.hist(bins = faixa, normed =1, color = 'g')\n",
    "plot = d.delta_t[(d.delta_t < 134268.383)&(d.versao=='A2')].plot.hist(bins = faixa2, normed =1, alpha = 0.5, color = 'r')"
   ]
  },
  {
   "cell_type": "markdown",
   "metadata": {},
   "source": [
    "Concluindo, a partir das análises feitas anteriormente, é possível conluir, para a interface B que além da média de delta t para o projeto da estação metereológica ser menor do que o do sistema mecânico, pode-se perceber que há uma maior frequência de tempos menores para os usuários que deveriam achar o projeto da estação metereológica do que os que deveriam achar o outro projeto"
   ]
  },
  {
   "cell_type": "markdown",
   "metadata": {},
   "source": [
    "### -> Comparando B e B2"
   ]
  },
  {
   "cell_type": "code",
   "execution_count": 105,
   "metadata": {
    "collapsed": false
   },
   "outputs": [
    {
     "data": {
      "text/plain": [
       "<matplotlib.axes._subplots.AxesSubplot at 0x11445cac8>"
      ]
     },
     "execution_count": 105,
     "metadata": {},
     "output_type": "execute_result"
    },
    {
     "data": {
      "image/png": "[encoded data removed]",
      "text/plain": [
       "<matplotlib.figure.Figure at 0x116c354e0>"
      ]
     },
     "metadata": {},
     "output_type": "display_data"
    }
   ],
   "source": [
    "B.plot (kind='box') \n",
    "B2.plot (kind='box') "
   ]
  },
  {
   "cell_type": "code",
   "execution_count": 106,
   "metadata": {
    "collapsed": false
   },
   "outputs": [
    {
     "data": {
      "image/png": "[encoded data removed]",
      "text/plain": [
       "<matplotlib.figure.Figure at 0x1168d5a90>"
      ]
     },
     "metadata": {},
     "output_type": "display_data"
    }
   ],
   "source": [
    "plot = d.delta_t[(d.delta_t < 149811.770)&(d.versao=='B')].plot.hist(bins = faixa, normed =1,alpha=0.5, color = 'y')\n",
    "plot = d.delta_t[(d.delta_t < 129884.277)&(d.versao=='B2')].plot.hist(bins = faixa2, normed =1, color = 'b')"
   ]
  },
  {
   "cell_type": "markdown",
   "metadata": {},
   "source": [
    "Concluindo, a partir das análises feitas anteriormente, é possível conluir que para a interface B, além da média de delta t para o projeto da estação metereológica ser menor do que o do sistema mecânico, pode-se perceber que enquanto os tempos para achar o primeiro projeto estão melhores distribuidos, os do segundo possuem dois picos de frequência."
   ]
  },
  {
   "cell_type": "code",
   "execution_count": null,
   "metadata": {
    "collapsed": true
   },
   "outputs": [],
   "source": []
  }
 ],
 "metadata": {
  "kernelspec": {
   "display_name": "Python 3",
   "language": "python",
   "name": "python3"
  },
  "language_info": {
   "codemirror_mode": {
    "name": "ipython",
    "version": 3
   },
   "file_extension": ".py",
   "mimetype": "text/x-python",
   "name": "python",
   "nbconvert_exporter": "python",
   "pygments_lexer": "ipython3",
   "version": "3.5.1"
  }
 },
 "nbformat": 4,
 "nbformat_minor": 0
}
