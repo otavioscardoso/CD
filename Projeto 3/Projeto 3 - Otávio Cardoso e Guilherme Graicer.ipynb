{
 "cells": [
  {
   "cell_type": "markdown",
   "metadata": {},
   "source": [
    "# Projeto 3 - Otávio Cardoso e Guilherme Graicer"
   ]
  },
  {
   "cell_type": "markdown",
   "metadata": {},
   "source": [
    "## -> Introdução"
   ]
  },
  {
   "cell_type": "markdown",
   "metadata": {},
   "source": [
    "Variável escolhida : Mortalidade infantil\n",
    "\n",
    "Problematização: De que forma a mortalidade infantil está relacionada `a quantidade de CO2 per capita e ao GDP (gross domestic produt)"
   ]
  },
  {
   "cell_type": "markdown",
   "metadata": {},
   "source": [
    "### -> Dados"
   ]
  },
  {
   "cell_type": "code",
   "execution_count": 42,
   "metadata": {
    "collapsed": false
   },
   "outputs": [
    {
     "name": "stdout",
     "output_type": "stream",
     "text": [
      "Esperamos trabalhar no diretório\n",
      "/Users/otaviocardoso/Desktop/Projeto 3\n"
     ]
    }
   ],
   "source": [
    "%matplotlib inline\n",
    "\n",
    "import os\n",
    "import matplotlib.pyplot as plt\n",
    "from mpl_toolkits.mplot3d import Axes3D\n",
    "from matplotlib import cm\n",
    "import pandas as pd\n",
    "import numpy as np\n",
    "\n",
    "import statsmodels.api as sm1 #Usa OLS com X como matriz de planejamento\n",
    "import statsmodels.formula.api as sm  #Usa OLS como no R\n",
    "\n",
    "print('Esperamos trabalhar no diretório')\n",
    "print(os.getcwd())"
   ]
  },
  {
   "cell_type": "code",
   "execution_count": 43,
   "metadata": {
    "collapsed": false
   },
   "outputs": [],
   "source": [
    "MORTE = pd.read_excel('MO.xlsx')\n",
    "GDP = pd.read_excel('GD.xlsx')\n",
    "CO2 = pd.read_excel('CO.xlsx')\n",
    "dados0 = MORTE.join(GDP, how = 'outer')\n",
    "dados0 = dados0.join(CO2, how = 'outer')"
   ]
  },
  {
   "cell_type": "code",
   "execution_count": 44,
   "metadata": {
    "collapsed": false
   },
   "outputs": [
    {
     "data": {
      "text/html": [
       "<div>\n",
       "<table border=\"1\" class=\"dataframe\">\n",
       "  <thead>\n",
       "    <tr style=\"text-align: right;\">\n",
       "      <th></th>\n",
       "      <th>Morte</th>\n",
       "      <th>GDP</th>\n",
       "      <th>CO2</th>\n",
       "    </tr>\n",
       "  </thead>\n",
       "  <tbody>\n",
       "    <tr>\n",
       "      <th>Abkhazia</th>\n",
       "      <td>NaN</td>\n",
       "      <td>NaN</td>\n",
       "      <td>NaN</td>\n",
       "    </tr>\n",
       "    <tr>\n",
       "      <th>Afghanistan</th>\n",
       "      <td>105.0</td>\n",
       "      <td>1637.0</td>\n",
       "      <td>0.262174</td>\n",
       "    </tr>\n",
       "    <tr>\n",
       "      <th>Akrotiri and Dhekelia</th>\n",
       "      <td>NaN</td>\n",
       "      <td>NaN</td>\n",
       "      <td>NaN</td>\n",
       "    </tr>\n",
       "    <tr>\n",
       "      <th>Albania</th>\n",
       "      <td>16.6</td>\n",
       "      <td>9374.0</td>\n",
       "      <td>1.336544</td>\n",
       "    </tr>\n",
       "    <tr>\n",
       "      <th>Algeria</th>\n",
       "      <td>27.4</td>\n",
       "      <td>12494.0</td>\n",
       "      <td>3.480977</td>\n",
       "    </tr>\n",
       "  </tbody>\n",
       "</table>\n",
       "</div>"
      ],
      "text/plain": [
       "                       Morte      GDP       CO2\n",
       "Abkhazia                 NaN      NaN       NaN\n",
       "Afghanistan            105.0   1637.0  0.262174\n",
       "Akrotiri and Dhekelia    NaN      NaN       NaN\n",
       "Albania                 16.6   9374.0  1.336544\n",
       "Algeria                 27.4  12494.0  3.480977"
      ]
     },
     "execution_count": 44,
     "metadata": {},
     "output_type": "execute_result"
    }
   ],
   "source": [
    "dados0.head()"
   ]
  },
  {
   "cell_type": "code",
   "execution_count": 45,
   "metadata": {
    "collapsed": false
   },
   "outputs": [
    {
     "data": {
      "text/plain": [
       "(275, 3)"
      ]
     },
     "execution_count": 45,
     "metadata": {},
     "output_type": "execute_result"
    }
   ],
   "source": [
    "dados0.shape"
   ]
  },
  {
   "cell_type": "code",
   "execution_count": 46,
   "metadata": {
    "collapsed": false
   },
   "outputs": [
    {
     "data": {
      "text/html": [
       "<div>\n",
       "<table border=\"1\" class=\"dataframe\">\n",
       "  <thead>\n",
       "    <tr style=\"text-align: right;\">\n",
       "      <th></th>\n",
       "      <th>Morte</th>\n",
       "      <th>GDP</th>\n",
       "      <th>CO2</th>\n",
       "    </tr>\n",
       "  </thead>\n",
       "  <tbody>\n",
       "    <tr>\n",
       "      <th>Afghanistan</th>\n",
       "      <td>105.0</td>\n",
       "      <td>1637.0</td>\n",
       "      <td>0.262174</td>\n",
       "    </tr>\n",
       "    <tr>\n",
       "      <th>Albania</th>\n",
       "      <td>16.6</td>\n",
       "      <td>9374.0</td>\n",
       "      <td>1.336544</td>\n",
       "    </tr>\n",
       "    <tr>\n",
       "      <th>Algeria</th>\n",
       "      <td>27.4</td>\n",
       "      <td>12494.0</td>\n",
       "      <td>3.480977</td>\n",
       "    </tr>\n",
       "    <tr>\n",
       "      <th>Andorra</th>\n",
       "      <td>3.3</td>\n",
       "      <td>38982.0</td>\n",
       "      <td>6.092100</td>\n",
       "    </tr>\n",
       "    <tr>\n",
       "      <th>Angola</th>\n",
       "      <td>182.5</td>\n",
       "      <td>7047.0</td>\n",
       "      <td>1.593918</td>\n",
       "    </tr>\n",
       "  </tbody>\n",
       "</table>\n",
       "</div>"
      ],
      "text/plain": [
       "             Morte      GDP       CO2\n",
       "Afghanistan  105.0   1637.0  0.262174\n",
       "Albania       16.6   9374.0  1.336544\n",
       "Algeria       27.4  12494.0  3.480977\n",
       "Andorra        3.3  38982.0  6.092100\n",
       "Angola       182.5   7047.0  1.593918"
      ]
     },
     "execution_count": 46,
     "metadata": {},
     "output_type": "execute_result"
    }
   ],
   "source": [
    "dados=dados0[~np.isnan(dados0.Morte)]\n",
    "dados=dados0[~np.isnan(dados0.GDP)]\n",
    "dados=dados0[~np.isnan(dados0.CO2)]\n",
    "dados.shape\n",
    "dados.head()"
   ]
  },
  {
   "cell_type": "code",
   "execution_count": 52,
   "metadata": {
    "collapsed": false
   },
   "outputs": [
    {
     "data": {
      "text/plain": [
       "<matplotlib.text.Text at 0x1167c4f28>"
      ]
     },
     "execution_count": 52,
     "metadata": {},
     "output_type": "execute_result"
    },
    {
     "data": {
      "image/png": "[encoded data removed]",
      "text/plain": [
       "<matplotlib.figure.Figure at 0x116806828>"
      ]
     },
     "metadata": {},
     "output_type": "display_data"
    }
   ],
   "source": [
    "f, ax = plt.subplots(1,2,figsize=(12,5))\n",
    "ax[0].scatter(dados.GDP, dados.Morte, alpha=0.7, color = 'r')  # Plot the raw data\n",
    "ax[0].set_xlabel(\"GDP (gross domestic product)\")\n",
    "ax[0].set_ylabel(\"Mortalidade Infantil\")\n",
    "\n",
    "ax[1].scatter(dados.CO2, dados.Morte, alpha=0.7, color = 'b')  # Plot the raw data\n",
    "ax[1].set_xlabel(\"CO2 per capita\")\n",
    "ax[1].set_ylabel(\"Mortalidade Infantil\")\n",
    "\n"
   ]
  },
  {
   "cell_type": "code",
   "execution_count": 58,
   "metadata": {
    "collapsed": false
   },
   "outputs": [
    {
     "data": {
      "text/plain": [
       "Afghanistan                  7.400621\n",
       "Albania                      9.145695\n",
       "Algeria                      9.433004\n",
       "Andorra                     10.570855\n",
       "Angola                       8.860357\n",
       "Anguilla                          NaN\n",
       "Antigua and Barbuda          9.931443\n",
       "Argentina                    9.665548\n",
       "Armenia                      8.780787\n",
       "Aruba                       10.412952\n",
       "Australia                   10.629344\n",
       "Austria                     10.665718\n",
       "Azerbaijan                   9.677214\n",
       "Bahamas                     10.039547\n",
       "Bahrain                     10.610365\n",
       "Bangladesh                   7.807510\n",
       "Barbados                     9.635412\n",
       "Belarus                      9.661607\n",
       "Belgium                     10.615555\n",
       "Belize                       9.012986\n",
       "Benin                        7.400621\n",
       "Bermuda                     10.940136\n",
       "Bhutan                       8.782016\n",
       "Bolivia                      8.571492\n",
       "Bosnia and Herzegovina       9.120963\n",
       "Botswana                     9.520909\n",
       "Brazil                       9.592878\n",
       "British Virgin Islands            NaN\n",
       "Brunei                      11.165295\n",
       "Bulgaria                     9.608176\n",
       "                              ...    \n",
       "Sweden                      10.666580\n",
       "Switzerland                 10.900122\n",
       "Syria                        8.795279\n",
       "Taiwan                      10.573494\n",
       "Tajikistan                   7.654443\n",
       "Tanzania                     7.669962\n",
       "Thailand                     9.458918\n",
       "Timor-Leste                  7.482682\n",
       "Togo                         7.127694\n",
       "Tonga                        8.506132\n",
       "Trinidad and Tobago         10.286059\n",
       "Tunisia                      9.250618\n",
       "Turkey                       9.721606\n",
       "Turkmenistan                 9.213535\n",
       "Turks and Caicos Islands     9.908226\n",
       "Uganda                       7.323171\n",
       "Ukraine                      8.967504\n",
       "United Arab Emirates        10.944541\n",
       "United Kingdom              10.497919\n",
       "United States               10.807159\n",
       "Uruguay                      9.746541\n",
       "Uzbekistan                   8.339262\n",
       "Vanuatu                      7.988882\n",
       "Venezuela                    9.713295\n",
       "Vietnam                      8.408717\n",
       "Wallis et Futuna                  NaN\n",
       "West Bank and Gaza           8.333991\n",
       "Western Sahara                    NaN\n",
       "Zambia                       8.146419\n",
       "Zimbabwe                     7.302496\n",
       "Name: GDP, dtype: float64"
      ]
     },
     "execution_count": 58,
     "metadata": {},
     "output_type": "execute_result"
    }
   ],
   "source": [
    "np.log(dados.GDP)"
   ]
  },
  {
   "cell_type": "code",
   "execution_count": 57,
   "metadata": {
    "collapsed": false
   },
   "outputs": [
    {
     "data": {
      "text/plain": [
       "Afghanistan                -1.338748\n",
       "Albania                     0.290087\n",
       "Algeria                     1.247313\n",
       "Andorra                     1.806993\n",
       "Angola                      0.466195\n",
       "Anguilla                    1.458018\n",
       "Antigua and Barbuda         1.755553\n",
       "Argentina                   1.496569\n",
       "Armenia                     0.311073\n",
       "Aruba                       3.072374\n",
       "Australia                   2.818536\n",
       "Austria                     2.075590\n",
       "Azerbaijan                  1.604814\n",
       "Bahamas                     1.972170\n",
       "Bahrain                     2.953786\n",
       "Bangladesh                 -0.973893\n",
       "Barbados                    1.704757\n",
       "Belarus                     1.869326\n",
       "Belgium                     2.319396\n",
       "Belize                      0.302408\n",
       "Benin                      -0.533993\n",
       "Bermuda                     1.993338\n",
       "Bhutan                     -0.420650\n",
       "Bolivia                     0.442387\n",
       "Bosnia and Herzegovina      2.113478\n",
       "Botswana                    0.958244\n",
       "Brazil                      0.766853\n",
       "British Virgin Islands      1.618929\n",
       "Brunei                      3.133768\n",
       "Bulgaria                    1.785260\n",
       "                              ...   \n",
       "Sweden                      1.722464\n",
       "Switzerland                 1.620633\n",
       "Syria                       1.108706\n",
       "Taiwan                      2.426016\n",
       "Tajikistan                 -0.877599\n",
       "Tanzania                   -1.879512\n",
       "Thailand                    1.451962\n",
       "Timor-Leste                -1.813659\n",
       "Togo                       -1.364599\n",
       "Tonga                       0.415535\n",
       "Trinidad and Tobago         3.631710\n",
       "Tunisia                     0.903745\n",
       "Turkey                      1.409950\n",
       "Turkmenistan                2.353420\n",
       "Turks and Caicos Islands    1.436614\n",
       "Uganda                     -2.178513\n",
       "Ukraine                     1.903004\n",
       "United Arab Emirates        3.105008\n",
       "United Kingdom              2.073734\n",
       "United States               2.862356\n",
       "Uruguay                     0.679162\n",
       "Uzbekistan                  1.336382\n",
       "Vanuatu                    -0.714165\n",
       "Venezuela                   1.940324\n",
       "Vietnam                     0.536461\n",
       "Wallis et Futuna            0.771158\n",
       "West Bank and Gaza         -0.535267\n",
       "Western Sahara             -0.800150\n",
       "Zambia                     -1.684946\n",
       "Zimbabwe                   -0.287851\n",
       "Name: CO2, dtype: float64"
      ]
     },
     "execution_count": 57,
     "metadata": {},
     "output_type": "execute_result"
    }
   ],
   "source": [
    "np.log(dados.CO2)"
   ]
  },
  {
   "cell_type": "code",
   "execution_count": 60,
   "metadata": {
    "collapsed": false
   },
   "outputs": [
    {
     "data": {
      "text/plain": [
       "<matplotlib.text.Text at 0x1184ddd68>"
      ]
     },
     "execution_count": 60,
     "metadata": {},
     "output_type": "execute_result"
    },
    {
     "data": {
      "image/png": "[encoded data removed]",
      "text/plain": [
       "<matplotlib.figure.Figure at 0x11838f2b0>"
      ]
     },
     "metadata": {},
     "output_type": "display_data"
    }
   ],
   "source": [
    "f, ax = plt.subplots(1,2,figsize=(12,5))\n",
    "ax[0].scatter(np.log(dados.GDP), dados.Morte, alpha=0.7, color = 'r')  # Plot the raw data\n",
    "ax[0].set_xlabel(\"GDP (gross domestic product)\")\n",
    "ax[0].set_ylabel(\"Mortalidade Infantil\")\n",
    "\n",
    "ax[1].scatter(np.log(dados.CO2), dados.Morte, alpha=0.7, color = 'b')  # Plot the raw data\n",
    "ax[1].set_xlabel(\"CO2 per capita\")\n",
    "ax[1].set_ylabel(\"Mortalidade Infantil\")"
   ]
  },
  {
   "cell_type": "code",
   "execution_count": null,
   "metadata": {
    "collapsed": true
   },
   "outputs": [],
   "source": []
  }
 ],
 "metadata": {
  "kernelspec": {
   "display_name": "Python 3",
   "language": "python",
   "name": "python3"
  },
  "language_info": {
   "codemirror_mode": {
    "name": "ipython",
    "version": 3
   },
   "file_extension": ".py",
   "mimetype": "text/x-python",
   "name": "python",
   "nbconvert_exporter": "python",
   "pygments_lexer": "ipython3",
   "version": "3.5.1"
  }
 },
 "nbformat": 4,
 "nbformat_minor": 0
}
