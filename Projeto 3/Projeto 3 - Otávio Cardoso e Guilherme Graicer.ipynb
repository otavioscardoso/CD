{
 "cells": [
  {
   "cell_type": "markdown",
   "metadata": {},
   "source": [
    "# Projeto 3 - Otávio Cardoso e Guilherme Zaborowsky Graicer"
   ]
  },
  {
   "cell_type": "markdown",
   "metadata": {},
   "source": [
    "## -> Introdução"
   ]
  },
  {
   "cell_type": "markdown",
   "metadata": {},
   "source": [
    "O objetivo do projeto 3 de ciência dos dados é estudar os efeitos de variáveis explicativas em uma determinada variável resposta. A partir da técnica de regressão múltipla, pudemos obter as relações entre duas variáveis explicativas e uma resposta."
   ]
  },
  {
   "cell_type": "markdown",
   "metadata": {},
   "source": [
    "O nosso grupo escolheu como variável resposta o índice de mortalidade infantil e como as outras duas variáveis explicativas, o GDP (gross domestic product) per capita e CO2 per capita. Chegando na seguinte problematização: como a mortalidade infantil está relacionada à poluição e ao nível econômico das pessoas no país."
   ]
  },
  {
   "cell_type": "markdown",
   "metadata": {},
   "source": [
    "### -> Dados"
   ]
  },
  {
   "cell_type": "code",
   "execution_count": 1,
   "metadata": {
    "collapsed": false
   },
   "outputs": [
    {
     "name": "stdout",
     "output_type": "stream",
     "text": [
      "Esperamos trabalhar no diretório\n",
      "/Users/otaviocardoso/Desktop/Projeto 3\n"
     ]
    }
   ],
   "source": [
    "%matplotlib inline\n",
    "\n",
    "import os\n",
    "import matplotlib.pyplot as plt\n",
    "from mpl_toolkits.mplot3d import Axes3D\n",
    "from matplotlib import cm\n",
    "import pandas as pd\n",
    "import numpy as np\n",
    "\n",
    "import statsmodels.api as sm1 #Usa OLS com X como matriz de planejamento\n",
    "import statsmodels.formula.api as sm  #Usa OLS como no R\n",
    "\n",
    "print('Esperamos trabalhar no diretório')\n",
    "print(os.getcwd())"
   ]
  },
  {
   "cell_type": "code",
   "execution_count": 2,
   "metadata": {
    "collapsed": false
   },
   "outputs": [],
   "source": [
    "MORTE = pd.read_excel('MO.xlsx')\n",
    "GDP = pd.read_excel('GD.xlsx')\n",
    "CO2 = pd.read_excel('CO.xlsx')\n",
    "EXP = pd.read_excel('EXP.xlsx')\n",
    "dados0 = MORTE.join(GDP, how = 'outer')\n",
    "dados0 = dados0.join(CO2, how = 'outer')\n",
    "dados0 = dados0.join(EXP, how = 'outer')\n"
   ]
  },
  {
   "cell_type": "markdown",
   "metadata": {},
   "source": [
    "-> Base de dados combinada entre todas as variáveis"
   ]
  },
  {
   "cell_type": "code",
   "execution_count": 3,
   "metadata": {
    "collapsed": false
   },
   "outputs": [
    {
     "data": {
      "text/html": [
       "<div>\n",
       "<table border=\"1\" class=\"dataframe\">\n",
       "  <thead>\n",
       "    <tr style=\"text-align: right;\">\n",
       "      <th></th>\n",
       "      <th>Morte</th>\n",
       "      <th>GDP</th>\n",
       "      <th>CO2</th>\n",
       "      <th>EXP</th>\n",
       "    </tr>\n",
       "  </thead>\n",
       "  <tbody>\n",
       "    <tr>\n",
       "      <th>Abkhazia</th>\n",
       "      <td>NaN</td>\n",
       "      <td>NaN</td>\n",
       "      <td>NaN</td>\n",
       "      <td>NaN</td>\n",
       "    </tr>\n",
       "    <tr>\n",
       "      <th>Afghanistan</th>\n",
       "      <td>105.0</td>\n",
       "      <td>1637.0</td>\n",
       "      <td>0.262174</td>\n",
       "      <td>53.6</td>\n",
       "    </tr>\n",
       "    <tr>\n",
       "      <th>Akrotiri and Dhekelia</th>\n",
       "      <td>NaN</td>\n",
       "      <td>NaN</td>\n",
       "      <td>NaN</td>\n",
       "      <td>NaN</td>\n",
       "    </tr>\n",
       "    <tr>\n",
       "      <th>Albania</th>\n",
       "      <td>16.6</td>\n",
       "      <td>9374.0</td>\n",
       "      <td>1.336544</td>\n",
       "      <td>77.2</td>\n",
       "    </tr>\n",
       "    <tr>\n",
       "      <th>Algeria</th>\n",
       "      <td>27.4</td>\n",
       "      <td>12494.0</td>\n",
       "      <td>3.480977</td>\n",
       "      <td>76.0</td>\n",
       "    </tr>\n",
       "  </tbody>\n",
       "</table>\n",
       "</div>"
      ],
      "text/plain": [
       "                       Morte      GDP       CO2   EXP\n",
       "Abkhazia                 NaN      NaN       NaN   NaN\n",
       "Afghanistan            105.0   1637.0  0.262174  53.6\n",
       "Akrotiri and Dhekelia    NaN      NaN       NaN   NaN\n",
       "Albania                 16.6   9374.0  1.336544  77.2\n",
       "Algeria                 27.4  12494.0  3.480977  76.0"
      ]
     },
     "execution_count": 3,
     "metadata": {},
     "output_type": "execute_result"
    }
   ],
   "source": [
    "dados0.head()"
   ]
  },
  {
   "cell_type": "code",
   "execution_count": 4,
   "metadata": {
    "collapsed": false
   },
   "outputs": [
    {
     "data": {
      "text/plain": [
       "(275, 4)"
      ]
     },
     "execution_count": 4,
     "metadata": {},
     "output_type": "execute_result"
    }
   ],
   "source": [
    "dados0.shape"
   ]
  },
  {
   "cell_type": "code",
   "execution_count": 27,
   "metadata": {
    "collapsed": false
   },
   "outputs": [
    {
     "data": {
      "text/html": [
       "<div>\n",
       "<table border=\"1\" class=\"dataframe\">\n",
       "  <thead>\n",
       "    <tr style=\"text-align: right;\">\n",
       "      <th></th>\n",
       "      <th>Morte</th>\n",
       "      <th>GDP</th>\n",
       "      <th>CO2</th>\n",
       "      <th>EXP</th>\n",
       "    </tr>\n",
       "  </thead>\n",
       "  <tbody>\n",
       "    <tr>\n",
       "      <th>Afghanistan</th>\n",
       "      <td>105.00</td>\n",
       "      <td>1637.0</td>\n",
       "      <td>0.262174</td>\n",
       "      <td>53.60</td>\n",
       "    </tr>\n",
       "    <tr>\n",
       "      <th>Albania</th>\n",
       "      <td>16.60</td>\n",
       "      <td>9374.0</td>\n",
       "      <td>1.336544</td>\n",
       "      <td>77.20</td>\n",
       "    </tr>\n",
       "    <tr>\n",
       "      <th>Algeria</th>\n",
       "      <td>27.40</td>\n",
       "      <td>12494.0</td>\n",
       "      <td>3.480977</td>\n",
       "      <td>76.00</td>\n",
       "    </tr>\n",
       "    <tr>\n",
       "      <th>Andorra</th>\n",
       "      <td>3.30</td>\n",
       "      <td>38982.0</td>\n",
       "      <td>6.092100</td>\n",
       "      <td>84.70</td>\n",
       "    </tr>\n",
       "    <tr>\n",
       "      <th>Angola</th>\n",
       "      <td>182.50</td>\n",
       "      <td>7047.0</td>\n",
       "      <td>1.593918</td>\n",
       "      <td>57.60</td>\n",
       "    </tr>\n",
       "    <tr>\n",
       "      <th>Antigua and Barbuda</th>\n",
       "      <td>9.90</td>\n",
       "      <td>20567.0</td>\n",
       "      <td>5.786646</td>\n",
       "      <td>75.80</td>\n",
       "    </tr>\n",
       "    <tr>\n",
       "      <th>Argentina</th>\n",
       "      <td>14.60</td>\n",
       "      <td>15765.0</td>\n",
       "      <td>4.466338</td>\n",
       "      <td>75.80</td>\n",
       "    </tr>\n",
       "    <tr>\n",
       "      <th>Armenia</th>\n",
       "      <td>18.00</td>\n",
       "      <td>6508.0</td>\n",
       "      <td>1.364888</td>\n",
       "      <td>73.00</td>\n",
       "    </tr>\n",
       "    <tr>\n",
       "      <th>Aruba</th>\n",
       "      <td>17.84</td>\n",
       "      <td>33288.0</td>\n",
       "      <td>21.593108</td>\n",
       "      <td>75.06</td>\n",
       "    </tr>\n",
       "    <tr>\n",
       "      <th>Australia</th>\n",
       "      <td>4.80</td>\n",
       "      <td>41330.0</td>\n",
       "      <td>16.752301</td>\n",
       "      <td>82.00</td>\n",
       "    </tr>\n",
       "    <tr>\n",
       "      <th>Austria</th>\n",
       "      <td>4.40</td>\n",
       "      <td>42861.0</td>\n",
       "      <td>7.969244</td>\n",
       "      <td>80.50</td>\n",
       "    </tr>\n",
       "    <tr>\n",
       "      <th>Azerbaijan</th>\n",
       "      <td>39.00</td>\n",
       "      <td>15950.0</td>\n",
       "      <td>4.976935</td>\n",
       "      <td>70.10</td>\n",
       "    </tr>\n",
       "    <tr>\n",
       "      <th>Bahamas</th>\n",
       "      <td>13.90</td>\n",
       "      <td>22915.0</td>\n",
       "      <td>7.186250</td>\n",
       "      <td>72.70</td>\n",
       "    </tr>\n",
       "    <tr>\n",
       "      <th>Bahrain</th>\n",
       "      <td>8.30</td>\n",
       "      <td>40553.0</td>\n",
       "      <td>19.178419</td>\n",
       "      <td>78.70</td>\n",
       "    </tr>\n",
       "    <tr>\n",
       "      <th>Bangladesh</th>\n",
       "      <td>49.60</td>\n",
       "      <td>2459.0</td>\n",
       "      <td>0.377610</td>\n",
       "      <td>68.80</td>\n",
       "    </tr>\n",
       "    <tr>\n",
       "      <th>Barbados</th>\n",
       "      <td>14.70</td>\n",
       "      <td>15297.0</td>\n",
       "      <td>5.500047</td>\n",
       "      <td>75.20</td>\n",
       "    </tr>\n",
       "    <tr>\n",
       "      <th>Belarus</th>\n",
       "      <td>6.10</td>\n",
       "      <td>15703.0</td>\n",
       "      <td>6.483926</td>\n",
       "      <td>70.20</td>\n",
       "    </tr>\n",
       "    <tr>\n",
       "      <th>Belgium</th>\n",
       "      <td>4.50</td>\n",
       "      <td>40764.0</td>\n",
       "      <td>10.169529</td>\n",
       "      <td>80.10</td>\n",
       "    </tr>\n",
       "    <tr>\n",
       "      <th>Belize</th>\n",
       "      <td>19.00</td>\n",
       "      <td>8209.0</td>\n",
       "      <td>1.353113</td>\n",
       "      <td>71.20</td>\n",
       "    </tr>\n",
       "    <tr>\n",
       "      <th>Benin</th>\n",
       "      <td>111.60</td>\n",
       "      <td>1637.0</td>\n",
       "      <td>0.586260</td>\n",
       "      <td>60.80</td>\n",
       "    </tr>\n",
       "    <tr>\n",
       "      <th>Bhutan</th>\n",
       "      <td>42.30</td>\n",
       "      <td>6516.0</td>\n",
       "      <td>0.656620</td>\n",
       "      <td>71.40</td>\n",
       "    </tr>\n",
       "    <tr>\n",
       "      <th>Bolivia</th>\n",
       "      <td>47.00</td>\n",
       "      <td>5279.0</td>\n",
       "      <td>1.556418</td>\n",
       "      <td>71.80</td>\n",
       "    </tr>\n",
       "    <tr>\n",
       "      <th>Bosnia and Herzegovina</th>\n",
       "      <td>7.50</td>\n",
       "      <td>9145.0</td>\n",
       "      <td>8.276977</td>\n",
       "      <td>77.90</td>\n",
       "    </tr>\n",
       "    <tr>\n",
       "      <th>Botswana</th>\n",
       "      <td>60.30</td>\n",
       "      <td>13642.0</td>\n",
       "      <td>2.607113</td>\n",
       "      <td>55.60</td>\n",
       "    </tr>\n",
       "    <tr>\n",
       "      <th>Brazil</th>\n",
       "      <td>16.70</td>\n",
       "      <td>14660.0</td>\n",
       "      <td>2.152981</td>\n",
       "      <td>73.60</td>\n",
       "    </tr>\n",
       "    <tr>\n",
       "      <th>Brunei</th>\n",
       "      <td>9.30</td>\n",
       "      <td>70636.0</td>\n",
       "      <td>22.960326</td>\n",
       "      <td>77.10</td>\n",
       "    </tr>\n",
       "    <tr>\n",
       "      <th>Bulgaria</th>\n",
       "      <td>13.00</td>\n",
       "      <td>14886.0</td>\n",
       "      <td>5.961127</td>\n",
       "      <td>73.70</td>\n",
       "    </tr>\n",
       "    <tr>\n",
       "      <th>Burkina Faso</th>\n",
       "      <td>113.50</td>\n",
       "      <td>1431.0</td>\n",
       "      <td>0.102194</td>\n",
       "      <td>59.00</td>\n",
       "    </tr>\n",
       "    <tr>\n",
       "      <th>Burundi</th>\n",
       "      <td>98.80</td>\n",
       "      <td>725.0</td>\n",
       "      <td>0.036742</td>\n",
       "      <td>60.40</td>\n",
       "    </tr>\n",
       "    <tr>\n",
       "      <th>Cambodia</th>\n",
       "      <td>43.10</td>\n",
       "      <td>2513.0</td>\n",
       "      <td>0.295652</td>\n",
       "      <td>67.00</td>\n",
       "    </tr>\n",
       "    <tr>\n",
       "      <th>...</th>\n",
       "      <td>...</td>\n",
       "      <td>...</td>\n",
       "      <td>...</td>\n",
       "      <td>...</td>\n",
       "    </tr>\n",
       "    <tr>\n",
       "      <th>Sri Lanka</th>\n",
       "      <td>10.60</td>\n",
       "      <td>7572.0</td>\n",
       "      <td>0.609238</td>\n",
       "      <td>75.00</td>\n",
       "    </tr>\n",
       "    <tr>\n",
       "      <th>Sudan</th>\n",
       "      <td>80.20</td>\n",
       "      <td>3282.0</td>\n",
       "      <td>0.415147</td>\n",
       "      <td>66.10</td>\n",
       "    </tr>\n",
       "    <tr>\n",
       "      <th>Suriname</th>\n",
       "      <td>24.90</td>\n",
       "      <td>14325.0</td>\n",
       "      <td>4.542832</td>\n",
       "      <td>70.70</td>\n",
       "    </tr>\n",
       "    <tr>\n",
       "      <th>Swaziland</th>\n",
       "      <td>90.90</td>\n",
       "      <td>5862.0</td>\n",
       "      <td>0.862523</td>\n",
       "      <td>46.40</td>\n",
       "    </tr>\n",
       "    <tr>\n",
       "      <th>Sweden</th>\n",
       "      <td>3.10</td>\n",
       "      <td>42898.0</td>\n",
       "      <td>5.598303</td>\n",
       "      <td>81.60</td>\n",
       "    </tr>\n",
       "    <tr>\n",
       "      <th>Switzerland</th>\n",
       "      <td>4.50</td>\n",
       "      <td>54183.0</td>\n",
       "      <td>5.056288</td>\n",
       "      <td>82.30</td>\n",
       "    </tr>\n",
       "    <tr>\n",
       "      <th>Syria</th>\n",
       "      <td>15.30</td>\n",
       "      <td>6603.0</td>\n",
       "      <td>3.030434</td>\n",
       "      <td>76.50</td>\n",
       "    </tr>\n",
       "    <tr>\n",
       "      <th>Tajikistan</th>\n",
       "      <td>52.60</td>\n",
       "      <td>2110.0</td>\n",
       "      <td>0.415780</td>\n",
       "      <td>70.10</td>\n",
       "    </tr>\n",
       "    <tr>\n",
       "      <th>Tanzania</th>\n",
       "      <td>62.30</td>\n",
       "      <td>2143.0</td>\n",
       "      <td>0.152665</td>\n",
       "      <td>61.40</td>\n",
       "    </tr>\n",
       "    <tr>\n",
       "      <th>Thailand</th>\n",
       "      <td>14.50</td>\n",
       "      <td>12822.0</td>\n",
       "      <td>4.271486</td>\n",
       "      <td>74.20</td>\n",
       "    </tr>\n",
       "    <tr>\n",
       "      <th>Timor-Leste</th>\n",
       "      <td>63.80</td>\n",
       "      <td>1777.0</td>\n",
       "      <td>0.163056</td>\n",
       "      <td>70.80</td>\n",
       "    </tr>\n",
       "    <tr>\n",
       "      <th>Togo</th>\n",
       "      <td>90.90</td>\n",
       "      <td>1246.0</td>\n",
       "      <td>0.255483</td>\n",
       "      <td>58.70</td>\n",
       "    </tr>\n",
       "    <tr>\n",
       "      <th>Tonga</th>\n",
       "      <td>17.40</td>\n",
       "      <td>4945.0</td>\n",
       "      <td>1.515181</td>\n",
       "      <td>70.70</td>\n",
       "    </tr>\n",
       "    <tr>\n",
       "      <th>Trinidad and Tobago</th>\n",
       "      <td>23.60</td>\n",
       "      <td>29321.0</td>\n",
       "      <td>37.777355</td>\n",
       "      <td>71.80</td>\n",
       "    </tr>\n",
       "    <tr>\n",
       "      <th>Tunisia</th>\n",
       "      <td>17.40</td>\n",
       "      <td>10411.0</td>\n",
       "      <td>2.468832</td>\n",
       "      <td>77.10</td>\n",
       "    </tr>\n",
       "    <tr>\n",
       "      <th>Turkey</th>\n",
       "      <td>19.10</td>\n",
       "      <td>16674.0</td>\n",
       "      <td>4.095750</td>\n",
       "      <td>78.80</td>\n",
       "    </tr>\n",
       "    <tr>\n",
       "      <th>Turkmenistan</th>\n",
       "      <td>60.10</td>\n",
       "      <td>10032.0</td>\n",
       "      <td>10.521497</td>\n",
       "      <td>68.10</td>\n",
       "    </tr>\n",
       "    <tr>\n",
       "      <th>Uganda</th>\n",
       "      <td>79.50</td>\n",
       "      <td>1515.0</td>\n",
       "      <td>0.113210</td>\n",
       "      <td>57.80</td>\n",
       "    </tr>\n",
       "    <tr>\n",
       "      <th>Ukraine</th>\n",
       "      <td>11.80</td>\n",
       "      <td>7844.0</td>\n",
       "      <td>6.706011</td>\n",
       "      <td>70.50</td>\n",
       "    </tr>\n",
       "    <tr>\n",
       "      <th>United Arab Emirates</th>\n",
       "      <td>8.50</td>\n",
       "      <td>56644.0</td>\n",
       "      <td>22.309405</td>\n",
       "      <td>75.60</td>\n",
       "    </tr>\n",
       "    <tr>\n",
       "      <th>United Kingdom</th>\n",
       "      <td>5.20</td>\n",
       "      <td>36240.0</td>\n",
       "      <td>7.954469</td>\n",
       "      <td>80.20</td>\n",
       "    </tr>\n",
       "    <tr>\n",
       "      <th>United States</th>\n",
       "      <td>7.40</td>\n",
       "      <td>49373.0</td>\n",
       "      <td>17.502718</td>\n",
       "      <td>78.80</td>\n",
       "    </tr>\n",
       "    <tr>\n",
       "      <th>Uruguay</th>\n",
       "      <td>12.30</td>\n",
       "      <td>17095.0</td>\n",
       "      <td>1.972224</td>\n",
       "      <td>76.20</td>\n",
       "    </tr>\n",
       "    <tr>\n",
       "      <th>Uzbekistan</th>\n",
       "      <td>46.10</td>\n",
       "      <td>4185.0</td>\n",
       "      <td>3.805252</td>\n",
       "      <td>70.20</td>\n",
       "    </tr>\n",
       "    <tr>\n",
       "      <th>Vanuatu</th>\n",
       "      <td>28.50</td>\n",
       "      <td>2948.0</td>\n",
       "      <td>0.489601</td>\n",
       "      <td>63.90</td>\n",
       "    </tr>\n",
       "    <tr>\n",
       "      <th>Venezuela</th>\n",
       "      <td>16.60</td>\n",
       "      <td>16536.0</td>\n",
       "      <td>6.961007</td>\n",
       "      <td>74.90</td>\n",
       "    </tr>\n",
       "    <tr>\n",
       "      <th>Vietnam</th>\n",
       "      <td>24.80</td>\n",
       "      <td>4486.0</td>\n",
       "      <td>1.709945</td>\n",
       "      <td>74.50</td>\n",
       "    </tr>\n",
       "    <tr>\n",
       "      <th>West Bank and Gaza</th>\n",
       "      <td>23.80</td>\n",
       "      <td>4163.0</td>\n",
       "      <td>0.585513</td>\n",
       "      <td>74.30</td>\n",
       "    </tr>\n",
       "    <tr>\n",
       "      <th>Zambia</th>\n",
       "      <td>84.80</td>\n",
       "      <td>3451.0</td>\n",
       "      <td>0.185454</td>\n",
       "      <td>53.10</td>\n",
       "    </tr>\n",
       "    <tr>\n",
       "      <th>Zimbabwe</th>\n",
       "      <td>95.10</td>\n",
       "      <td>1484.0</td>\n",
       "      <td>0.749873</td>\n",
       "      <td>49.10</td>\n",
       "    </tr>\n",
       "  </tbody>\n",
       "</table>\n",
       "<p>179 rows × 4 columns</p>\n",
       "</div>"
      ],
      "text/plain": [
       "                         Morte      GDP        CO2    EXP\n",
       "Afghanistan             105.00   1637.0   0.262174  53.60\n",
       "Albania                  16.60   9374.0   1.336544  77.20\n",
       "Algeria                  27.40  12494.0   3.480977  76.00\n",
       "Andorra                   3.30  38982.0   6.092100  84.70\n",
       "Angola                  182.50   7047.0   1.593918  57.60\n",
       "Antigua and Barbuda       9.90  20567.0   5.786646  75.80\n",
       "Argentina                14.60  15765.0   4.466338  75.80\n",
       "Armenia                  18.00   6508.0   1.364888  73.00\n",
       "Aruba                    17.84  33288.0  21.593108  75.06\n",
       "Australia                 4.80  41330.0  16.752301  82.00\n",
       "Austria                   4.40  42861.0   7.969244  80.50\n",
       "Azerbaijan               39.00  15950.0   4.976935  70.10\n",
       "Bahamas                  13.90  22915.0   7.186250  72.70\n",
       "Bahrain                   8.30  40553.0  19.178419  78.70\n",
       "Bangladesh               49.60   2459.0   0.377610  68.80\n",
       "Barbados                 14.70  15297.0   5.500047  75.20\n",
       "Belarus                   6.10  15703.0   6.483926  70.20\n",
       "Belgium                   4.50  40764.0  10.169529  80.10\n",
       "Belize                   19.00   8209.0   1.353113  71.20\n",
       "Benin                   111.60   1637.0   0.586260  60.80\n",
       "Bhutan                   42.30   6516.0   0.656620  71.40\n",
       "Bolivia                  47.00   5279.0   1.556418  71.80\n",
       "Bosnia and Herzegovina    7.50   9145.0   8.276977  77.90\n",
       "Botswana                 60.30  13642.0   2.607113  55.60\n",
       "Brazil                   16.70  14660.0   2.152981  73.60\n",
       "Brunei                    9.30  70636.0  22.960326  77.10\n",
       "Bulgaria                 13.00  14886.0   5.961127  73.70\n",
       "Burkina Faso            113.50   1431.0   0.102194  59.00\n",
       "Burundi                  98.80    725.0   0.036742  60.40\n",
       "Cambodia                 43.10   2513.0   0.295652  67.00\n",
       "...                        ...      ...        ...    ...\n",
       "Sri Lanka                10.60   7572.0   0.609238  75.00\n",
       "Sudan                    80.20   3282.0   0.415147  66.10\n",
       "Suriname                 24.90  14325.0   4.542832  70.70\n",
       "Swaziland                90.90   5862.0   0.862523  46.40\n",
       "Sweden                    3.10  42898.0   5.598303  81.60\n",
       "Switzerland               4.50  54183.0   5.056288  82.30\n",
       "Syria                    15.30   6603.0   3.030434  76.50\n",
       "Tajikistan               52.60   2110.0   0.415780  70.10\n",
       "Tanzania                 62.30   2143.0   0.152665  61.40\n",
       "Thailand                 14.50  12822.0   4.271486  74.20\n",
       "Timor-Leste              63.80   1777.0   0.163056  70.80\n",
       "Togo                     90.90   1246.0   0.255483  58.70\n",
       "Tonga                    17.40   4945.0   1.515181  70.70\n",
       "Trinidad and Tobago      23.60  29321.0  37.777355  71.80\n",
       "Tunisia                  17.40  10411.0   2.468832  77.10\n",
       "Turkey                   19.10  16674.0   4.095750  78.80\n",
       "Turkmenistan             60.10  10032.0  10.521497  68.10\n",
       "Uganda                   79.50   1515.0   0.113210  57.80\n",
       "Ukraine                  11.80   7844.0   6.706011  70.50\n",
       "United Arab Emirates      8.50  56644.0  22.309405  75.60\n",
       "United Kingdom            5.20  36240.0   7.954469  80.20\n",
       "United States             7.40  49373.0  17.502718  78.80\n",
       "Uruguay                  12.30  17095.0   1.972224  76.20\n",
       "Uzbekistan               46.10   4185.0   3.805252  70.20\n",
       "Vanuatu                  28.50   2948.0   0.489601  63.90\n",
       "Venezuela                16.60  16536.0   6.961007  74.90\n",
       "Vietnam                  24.80   4486.0   1.709945  74.50\n",
       "West Bank and Gaza       23.80   4163.0   0.585513  74.30\n",
       "Zambia                   84.80   3451.0   0.185454  53.10\n",
       "Zimbabwe                 95.10   1484.0   0.749873  49.10\n",
       "\n",
       "[179 rows x 4 columns]"
      ]
     },
     "execution_count": 27,
     "metadata": {},
     "output_type": "execute_result"
    }
   ],
   "source": [
    "dados0=dados0[~np.isnan(dados0.Morte)]\n",
    "dados0=dados0[~np.isnan(dados0.GDP)]\n",
    "dados0 = dados0[~np.isnan(dados0.EXP)]\n",
    "dados=dados0[~np.isnan(dados0.CO2)]\n",
    "dados.shape\n",
    "dados"
   ]
  },
  {
   "cell_type": "code",
   "execution_count": 6,
   "metadata": {
    "collapsed": false
   },
   "outputs": [
    {
     "name": "stderr",
     "output_type": "stream",
     "text": [
      "//anaconda/lib/python3.5/site-packages/pandas/core/generic.py:2698: SettingWithCopyWarning: \n",
      "A value is trying to be set on a copy of a slice from a DataFrame.\n",
      "Try using .loc[row_indexer,col_indexer] = value instead\n",
      "\n",
      "See the caveats in the documentation: http://pandas.pydata.org/pandas-docs/stable/indexing.html#indexing-view-versus-copy\n",
      "  self[name] = value\n"
     ]
    }
   ],
   "source": [
    "dados.GDP = np.log(dados.GDP)\n",
    "dados.Morte = np.log(dados.Morte)\n",
    "dados.CO2 = np.log(dados.CO2)"
   ]
  },
  {
   "cell_type": "markdown",
   "metadata": {},
   "source": [
    "###  Plotando gráficos de dispersão entre a variável resposta e cada uma das variáveis explicativas"
   ]
  },
  {
   "cell_type": "code",
   "execution_count": 7,
   "metadata": {
    "collapsed": false
   },
   "outputs": [
    {
     "data": {
      "text/plain": [
       "<matplotlib.text.Text at 0x113e945c0>"
      ]
     },
     "execution_count": 7,
     "metadata": {},
     "output_type": "execute_result"
    },
    {
     "data": {
      "image/png": "[encoded data removed]",
      "text/plain": [
       "<matplotlib.figure.Figure at 0x113daa748>"
      ]
     },
     "metadata": {},
     "output_type": "display_data"
    }
   ],
   "source": [
    "f, ax = plt.subplots(1,2,figsize=(12,5))\n",
    "ax[0].scatter(dados.GDP, dados.Morte, alpha=0.7, color = 'r')  # Plot the raw data\n",
    "ax[0].set_xlabel(\"ln(GDP (gross domestic product) per capita)\")\n",
    "ax[0].set_ylabel(\"ln(Mortalidade Infantil)\")\n",
    "\n",
    "ax[1].scatter(dados.CO2, dados.Morte, alpha=0.7, color = 'b')  # Plot the raw data\n",
    "ax[1].set_xlabel(\"ln(CO2 per capita)\")\n",
    "ax[1].set_ylabel(\"ln(Mortalidade Infantil)\")\n",
    "\n"
   ]
  },
  {
   "cell_type": "markdown",
   "metadata": {},
   "source": [
    "-> Calculando as correlações entre variáveis"
   ]
  },
  {
   "cell_type": "code",
   "execution_count": 8,
   "metadata": {
    "collapsed": false
   },
   "outputs": [
    {
     "data": {
      "text/html": [
       "<div>\n",
       "<table border=\"1\" class=\"dataframe\">\n",
       "  <thead>\n",
       "    <tr style=\"text-align: right;\">\n",
       "      <th></th>\n",
       "      <th>Morte</th>\n",
       "      <th>GDP</th>\n",
       "      <th>CO2</th>\n",
       "      <th>EXP</th>\n",
       "    </tr>\n",
       "  </thead>\n",
       "  <tbody>\n",
       "    <tr>\n",
       "      <th>Morte</th>\n",
       "      <td>1.000000</td>\n",
       "      <td>-0.852225</td>\n",
       "      <td>-0.776161</td>\n",
       "      <td>-0.883995</td>\n",
       "    </tr>\n",
       "    <tr>\n",
       "      <th>GDP</th>\n",
       "      <td>-0.852225</td>\n",
       "      <td>1.000000</td>\n",
       "      <td>0.907301</td>\n",
       "      <td>0.778114</td>\n",
       "    </tr>\n",
       "    <tr>\n",
       "      <th>CO2</th>\n",
       "      <td>-0.776161</td>\n",
       "      <td>0.907301</td>\n",
       "      <td>1.000000</td>\n",
       "      <td>0.729684</td>\n",
       "    </tr>\n",
       "    <tr>\n",
       "      <th>EXP</th>\n",
       "      <td>-0.883995</td>\n",
       "      <td>0.778114</td>\n",
       "      <td>0.729684</td>\n",
       "      <td>1.000000</td>\n",
       "    </tr>\n",
       "  </tbody>\n",
       "</table>\n",
       "</div>"
      ],
      "text/plain": [
       "          Morte       GDP       CO2       EXP\n",
       "Morte  1.000000 -0.852225 -0.776161 -0.883995\n",
       "GDP   -0.852225  1.000000  0.907301  0.778114\n",
       "CO2   -0.776161  0.907301  1.000000  0.729684\n",
       "EXP   -0.883995  0.778114  0.729684  1.000000"
      ]
     },
     "execution_count": 8,
     "metadata": {},
     "output_type": "execute_result"
    }
   ],
   "source": [
    "dados.corr(method='pearson')"
   ]
  },
  {
   "cell_type": "markdown",
   "metadata": {},
   "source": [
    "### Regressão Linear Mortalidade Infantil x GDP/capita\n"
   ]
  },
  {
   "cell_type": "code",
   "execution_count": 9,
   "metadata": {
    "collapsed": false
   },
   "outputs": [
    {
     "data": {
      "text/plain": [
       "count    179.000000\n",
       "mean       9.090191\n",
       "std        1.252700\n",
       "min        6.419995\n",
       "25%        8.098791\n",
       "50%        9.247154\n",
       "75%        9.993570\n",
       "max       11.759661\n",
       "Name: GDP, dtype: float64"
      ]
     },
     "execution_count": 9,
     "metadata": {},
     "output_type": "execute_result"
    }
   ],
   "source": [
    "dados.GDP.describe()"
   ]
  },
  {
   "cell_type": "code",
   "execution_count": 10,
   "metadata": {
    "collapsed": false
   },
   "outputs": [
    {
     "data": {
      "text/plain": [
       "count    179.000000\n",
       "mean       3.074080\n",
       "std        1.151549\n",
       "min        0.875469\n",
       "25%        2.157409\n",
       "50%        2.954910\n",
       "75%        4.099332\n",
       "max        5.341377\n",
       "Name: Morte, dtype: float64"
      ]
     },
     "execution_count": 10,
     "metadata": {},
     "output_type": "execute_result"
    }
   ],
   "source": [
    "dados.Morte.describe()"
   ]
  },
  {
   "cell_type": "code",
   "execution_count": 11,
   "metadata": {
    "collapsed": false
   },
   "outputs": [
    {
     "data": {
      "text/plain": [
       "count    179.000000\n",
       "mean       9.090191\n",
       "std        1.252700\n",
       "min        6.419995\n",
       "25%        8.098791\n",
       "50%        9.247154\n",
       "75%        9.993570\n",
       "max       11.759661\n",
       "Name: GDP, dtype: float64"
      ]
     },
     "execution_count": 11,
     "metadata": {},
     "output_type": "execute_result"
    }
   ],
   "source": [
    "dados.GDP.describe()"
   ]
  },
  {
   "cell_type": "code",
   "execution_count": 12,
   "metadata": {
    "collapsed": false
   },
   "outputs": [
    {
     "name": "stdout",
     "output_type": "stream",
     "text": [
      "279.327744205\n"
     ]
    }
   ],
   "source": [
    "Sxx = 0 \n",
    "\n",
    "for i in range(len(dados.GDP)):\n",
    "    x = (dados.GDP[i] - dados.GDP.mean())**2\n",
    "    Sxx += x\n",
    "print(Sxx)"
   ]
  },
  {
   "cell_type": "code",
   "execution_count": 13,
   "metadata": {
    "collapsed": false
   },
   "outputs": [
    {
     "data": {
      "text/plain": [
       "-218.82847944086734"
      ]
     },
     "execution_count": 13,
     "metadata": {},
     "output_type": "execute_result"
    }
   ],
   "source": [
    "SSxy = 0\n",
    "\n",
    "for i in range(len(dados.GDP)):\n",
    "    xy = (dados.GDP[i] - dados.GDP.mean())*(dados.Morte[i] - dados.Morte.mean())\n",
    "    SSxy += xy\n",
    "SSxy"
   ]
  },
  {
   "cell_type": "code",
   "execution_count": 14,
   "metadata": {
    "collapsed": false
   },
   "outputs": [
    {
     "name": "stdout",
     "output_type": "stream",
     "text": [
      "-0.783411186251\n"
     ]
    },
    {
     "data": {
      "text/plain": [
       "10.195437596391518"
      ]
     },
     "execution_count": 14,
     "metadata": {},
     "output_type": "execute_result"
    }
   ],
   "source": [
    "bêta1 = SSxy/Sxx\n",
    "print(bêta1)\n",
    "bêta0 = dados.Morte.mean() - bêta1*dados.GDP.mean()\n",
    "bêta0"
   ]
  },
  {
   "cell_type": "code",
   "execution_count": 15,
   "metadata": {
    "collapsed": false
   },
   "outputs": [
    {
     "name": "stdout",
     "output_type": "stream",
     "text": [
      "140000\n"
     ]
    },
    {
     "data": {
      "text/plain": [
       "140000"
      ]
     },
     "execution_count": 15,
     "metadata": {},
     "output_type": "execute_result"
    }
   ],
   "source": [
    "X = range(140000)\n",
    "\n",
    "Y = []\n",
    "\n",
    "for e in X:\n",
    "    Y.append(bêta1*e + bêta0)\n",
    "    \n",
    "print(len(X))\n",
    "len(Y)"
   ]
  },
  {
   "cell_type": "code",
   "execution_count": 16,
   "metadata": {
    "collapsed": false
   },
   "outputs": [
    {
     "data": {
      "image/png": "[encoded data removed]",
      "text/plain": [
       "<matplotlib.figure.Figure at 0x113e904e0>"
      ]
     },
     "metadata": {},
     "output_type": "display_data"
    }
   ],
   "source": [
    "plt.scatter(dados.GDP, dados.Morte, alpha=0.7, color = 'crimson')  # Plot the raw data\n",
    "plt.xlabel(\"ln(GDP (gross domestic product))\")\n",
    "plt.ylabel(\"ln(Mortalidade Infantil)\")\n",
    "plt.plot(X,Y, color = 'b')\n",
    "plt.ylim(0,7)\n",
    "plt.xlim(5,15)\n",
    "\n",
    "plt.show()"
   ]
  },
  {
   "cell_type": "markdown",
   "metadata": {},
   "source": [
    "De acordo com a regressão linear simples (sendo a variavel resposta Mortalidade Infantil e variavel explicativa GDP per capita) podemos chegar a conclusão que: países que tem o GDP per capita maior, tem menor mortalidade infantil e os que tem um menor GDP per capita, possuem maior mortalidade infantil. Além disso, os coeficientes do nosso modelo, podem ser interpretados da seguinte maneira:\n",
    "\n",
    "bêta0 : Segundo o nosso modelo, quando o GDP per capita for 0, qual será, aproximadamente o valor de mortalidade infantil\n",
    "\n",
    "bêta1 : A cada aumento percentual de mortalidade infantil, o aumento percentual do GDP per capita será de -0,78%"
   ]
  },
  {
   "cell_type": "markdown",
   "metadata": {},
   "source": [
    "### Regressão Linear Mortalidade Infantil x CO2/capita"
   ]
  },
  {
   "cell_type": "code",
   "execution_count": 17,
   "metadata": {
    "collapsed": false
   },
   "outputs": [
    {
     "data": {
      "text/plain": [
       "count    179.000000\n",
       "mean       0.582312\n",
       "std        1.680991\n",
       "min       -4.774369\n",
       "25%       -0.523611\n",
       "50%        0.912900\n",
       "75%        1.878766\n",
       "max        3.691335\n",
       "Name: CO2, dtype: float64"
      ]
     },
     "execution_count": 17,
     "metadata": {},
     "output_type": "execute_result"
    }
   ],
   "source": [
    "dados.CO2.describe()"
   ]
  },
  {
   "cell_type": "code",
   "execution_count": 18,
   "metadata": {
    "collapsed": false
   },
   "outputs": [
    {
     "name": "stdout",
     "output_type": "stream",
     "text": [
      "502.980355971\n"
     ]
    }
   ],
   "source": [
    "Sxx2 = 0 \n",
    "\n",
    "for i in range(len(dados.CO2)):\n",
    "    x = (dados.CO2[i] - dados.CO2.mean())**2\n",
    "    Sxx2 += x\n",
    "print(Sxx2)"
   ]
  },
  {
   "cell_type": "code",
   "execution_count": 19,
   "metadata": {
    "collapsed": false
   },
   "outputs": [
    {
     "data": {
      "text/plain": [
       "-267.43594021082913"
      ]
     },
     "execution_count": 19,
     "metadata": {},
     "output_type": "execute_result"
    }
   ],
   "source": [
    "SSxy2 = 0\n",
    "\n",
    "for i in range(len(dados.CO2)):\n",
    "    xy = (dados.CO2[i] - dados.CO2.mean())*(dados.Morte[i] - dados.Morte.mean())\n",
    "    SSxy2 += xy\n",
    "SSxy2"
   ]
  },
  {
   "cell_type": "code",
   "execution_count": 20,
   "metadata": {
    "collapsed": false
   },
   "outputs": [
    {
     "name": "stdout",
     "output_type": "stream",
     "text": [
      "-0.531702554654\n"
     ]
    },
    {
     "data": {
      "text/plain": [
       "3.3836968612064764"
      ]
     },
     "execution_count": 20,
     "metadata": {},
     "output_type": "execute_result"
    }
   ],
   "source": [
    "bêta12 = SSxy2/Sxx2\n",
    "print(bêta12)\n",
    "bêta02 = dados.Morte.mean() - bêta12*dados.CO2.mean()\n",
    "bêta02"
   ]
  },
  {
   "cell_type": "code",
   "execution_count": 21,
   "metadata": {
    "collapsed": false
   },
   "outputs": [],
   "source": [
    "X2 = []\n",
    "otavio = -70000\n",
    "\n",
    "for i in range(140000):\n",
    "    X2.append(otavio)\n",
    "    otavio += 1\n",
    "\n",
    "Y2 = []\n",
    "\n",
    "for e in X2:\n",
    "    Y2.append(bêta12*e + bêta02)\n",
    "    \n"
   ]
  },
  {
   "cell_type": "code",
   "execution_count": 22,
   "metadata": {
    "collapsed": false
   },
   "outputs": [
    {
     "data": {
      "image/png": "[encoded data removed]",
      "text/plain": [
       "<matplotlib.figure.Figure at 0x114db18d0>"
      ]
     },
     "metadata": {},
     "output_type": "display_data"
    }
   ],
   "source": [
    "plt.scatter(dados.CO2, dados.Morte, alpha=0.7, color = 'cyan')  # Plot the raw data\n",
    "plt.xlabel(\"ln(CO2)\")\n",
    "plt.ylabel(\"ln(Mortalidade Infantil)\")\n",
    "plt.plot(X2,Y2, color='crimson')\n",
    "plt.xlim(-6,6)\n",
    "plt.ylim(0,7)\n",
    "\n",
    "\n",
    "plt.show()"
   ]
  },
  {
   "cell_type": "markdown",
   "metadata": {},
   "source": [
    "De acordo com a regressão linear simples (sendo a variavel resposta Mortalidade Infantil e variavel explicativa quantidade de CO2 per capita) podemos chegar a conclusão que: países que tem maior quantidade de CO2, tem menor mortalidade infantil e os que tem um menor quantidade de CO2, possuem maior mortalidade infantil. Além disso, os coeficientes do nosso modelo, podem ser interpretados da seguinte maneira:\n",
    "\n",
    "bêta0 : Segundo o nosso modelo, quando a quantidade de CO2 per capita for 0, qual será, aproximadamente o valor de mortalidade infantil\n",
    "\n",
    "bêta1 : A cada aumento percentual de mortalidade infantil, o aumento percentual de CO2 per capita será de -0.53%"
   ]
  },
  {
   "cell_type": "code",
   "execution_count": 23,
   "metadata": {
    "collapsed": false
   },
   "outputs": [
    {
     "data": {
      "text/plain": [
       "<matplotlib.text.Text at 0x115f42438>"
      ]
     },
     "execution_count": 23,
     "metadata": {},
     "output_type": "execute_result"
    },
    {
     "data": {
      "image/png": "[encoded data removed]",
      "text/plain": [
       "<matplotlib.figure.Figure at 0x115c73ba8>"
      ]
     },
     "metadata": {},
     "output_type": "display_data"
    }
   ],
   "source": [
    "from mpl_toolkits.mplot3d import Axes3D\n",
    "\n",
    "X = dados[['GDP', 'CO2']]\n",
    "y = dados['Morte']\n",
    "\n",
    "X = sm1.add_constant(X)\n",
    "est = sm1.OLS(y, X).fit()\n",
    "\n",
    "xx1, xx2 = np.meshgrid(np.linspace(X.GDP.min(), X.GDP.max(), 100), \n",
    "                       np.linspace(X.CO2.min(), X.CO2.max(), 100))\n",
    "\n",
    "Z = est.params[0] + est.params[1] * xx1 + est.params[2] * xx2\n",
    "\n",
    "fig = plt.figure(figsize=(12, 8))\n",
    "ax = Axes3D(fig, azim=-115, elev=15)\n",
    "\n",
    "surf = ax.plot_surface(xx1, xx2, Z, cmap=plt.cm.RdBu_r, alpha=0.6, linewidth=0)\n",
    "\n",
    "resid = y - est.predict(X)\n",
    "ax.scatter(X[resid >= 0].GDP, X[resid >= 0].CO2, y[resid >= 0], color='black', alpha=1.0, facecolor='white')\n",
    "ax.scatter(X[resid < 0].GDP, X[resid < 0].CO2, y[resid < 0], color='black', alpha=1.0)\n",
    "\n",
    "ax.set_xlabel('GDP')\n",
    "ax.set_ylabel('CO2')\n",
    "ax.set_zlabel('Morte')"
   ]
  },
  {
   "cell_type": "markdown",
   "metadata": {},
   "source": [
    "### Tabela de regressão múltipla"
   ]
  },
  {
   "cell_type": "code",
   "execution_count": 25,
   "metadata": {
    "collapsed": false
   },
   "outputs": [
    {
     "data": {
      "text/html": [
       "<table class=\"simpletable\">\n",
       "<caption>OLS Regression Results</caption>\n",
       "<tr>\n",
       "  <th>Dep. Variable:</th>          <td>Morte</td>      <th>  R-squared:         </th> <td>   0.726</td>\n",
       "</tr>\n",
       "<tr>\n",
       "  <th>Model:</th>                   <td>OLS</td>       <th>  Adj. R-squared:    </th> <td>   0.723</td>\n",
       "</tr>\n",
       "<tr>\n",
       "  <th>Method:</th>             <td>Least Squares</td>  <th>  F-statistic:       </th> <td>   233.6</td>\n",
       "</tr>\n",
       "<tr>\n",
       "  <th>Date:</th>             <td>Tue, 06 Dec 2016</td> <th>  Prob (F-statistic):</th> <td>2.99e-50</td>\n",
       "</tr>\n",
       "<tr>\n",
       "  <th>Time:</th>                 <td>09:45:01</td>     <th>  Log-Likelihood:    </th> <td> -162.77</td>\n",
       "</tr>\n",
       "<tr>\n",
       "  <th>No. Observations:</th>      <td>   179</td>      <th>  AIC:               </th> <td>   331.5</td>\n",
       "</tr>\n",
       "<tr>\n",
       "  <th>Df Residuals:</th>          <td>   176</td>      <th>  BIC:               </th> <td>   341.1</td>\n",
       "</tr>\n",
       "<tr>\n",
       "  <th>Df Model:</th>              <td>     2</td>      <th>                     </th>     <td> </td>   \n",
       "</tr>\n",
       "<tr>\n",
       "  <th>Covariance Type:</th>      <td>nonrobust</td>    <th>                     </th>     <td> </td>   \n",
       "</tr>\n",
       "</table>\n",
       "<table class=\"simpletable\">\n",
       "<tr>\n",
       "    <td></td>       <th>coef</th>     <th>std err</th>      <th>t</th>      <th>P>|t|</th> <th>[95.0% Conf. Int.]</th> \n",
       "</tr>\n",
       "<tr>\n",
       "  <th>const</th> <td>   10.0762</td> <td>    0.751</td> <td>   13.413</td> <td> 0.000</td> <td>    8.594    11.559</td>\n",
       "</tr>\n",
       "<tr>\n",
       "  <th>GDP</th>   <td>   -0.7696</td> <td>    0.086</td> <td>   -8.927</td> <td> 0.000</td> <td>   -0.940    -0.599</td>\n",
       "</tr>\n",
       "<tr>\n",
       "  <th>CO2</th>   <td>   -0.0114</td> <td>    0.064</td> <td>   -0.177</td> <td> 0.860</td> <td>   -0.138     0.115</td>\n",
       "</tr>\n",
       "</table>\n",
       "<table class=\"simpletable\">\n",
       "<tr>\n",
       "  <th>Omnibus:</th>       <td>32.966</td> <th>  Durbin-Watson:     </th> <td>   2.236</td>\n",
       "</tr>\n",
       "<tr>\n",
       "  <th>Prob(Omnibus):</th> <td> 0.000</td> <th>  Jarque-Bera (JB):  </th> <td>  51.022</td>\n",
       "</tr>\n",
       "<tr>\n",
       "  <th>Skew:</th>          <td> 0.988</td> <th>  Prob(JB):          </th> <td>8.33e-12</td>\n",
       "</tr>\n",
       "<tr>\n",
       "  <th>Kurtosis:</th>      <td> 4.713</td> <th>  Cond. No.          </th> <td>    155.</td>\n",
       "</tr>\n",
       "</table>"
      ],
      "text/plain": [
       "<class 'statsmodels.iolib.summary.Summary'>\n",
       "\"\"\"\n",
       "                            OLS Regression Results                            \n",
       "==============================================================================\n",
       "Dep. Variable:                  Morte   R-squared:                       0.726\n",
       "Model:                            OLS   Adj. R-squared:                  0.723\n",
       "Method:                 Least Squares   F-statistic:                     233.6\n",
       "Date:                Tue, 06 Dec 2016   Prob (F-statistic):           2.99e-50\n",
       "Time:                        09:45:01   Log-Likelihood:                -162.77\n",
       "No. Observations:                 179   AIC:                             331.5\n",
       "Df Residuals:                     176   BIC:                             341.1\n",
       "Df Model:                           2                                         \n",
       "Covariance Type:            nonrobust                                         \n",
       "==============================================================================\n",
       "                 coef    std err          t      P>|t|      [95.0% Conf. Int.]\n",
       "------------------------------------------------------------------------------\n",
       "const         10.0762      0.751     13.413      0.000         8.594    11.559\n",
       "GDP           -0.7696      0.086     -8.927      0.000        -0.940    -0.599\n",
       "CO2           -0.0114      0.064     -0.177      0.860        -0.138     0.115\n",
       "==============================================================================\n",
       "Omnibus:                       32.966   Durbin-Watson:                   2.236\n",
       "Prob(Omnibus):                  0.000   Jarque-Bera (JB):               51.022\n",
       "Skew:                           0.988   Prob(JB):                     8.33e-12\n",
       "Kurtosis:                       4.713   Cond. No.                         155.\n",
       "==============================================================================\n",
       "\n",
       "Warnings:\n",
       "[1] Standard Errors assume that the covariance matrix of the errors is correctly specified.\n",
       "\"\"\""
      ]
     },
     "execution_count": 25,
     "metadata": {},
     "output_type": "execute_result"
    }
   ],
   "source": [
    "#Linear Regression - SEGUNDA MANEIRA DE FAZER REGRESSÃO USANDO PACOTE ols\n",
    "#Informando X como matriz de planejamento\n",
    "\n",
    "#Montagem dos dados\n",
    "y=dados.Morte\n",
    "X=dados.iloc[:,(1,2)]\n",
    "X=sm1.add_constant(X)  # Adds a constant term to the predictor\n",
    "X.head()\n",
    "\n",
    "model=sm1.OLS(y, X)\n",
    "fit=model.fit()\n",
    "fit.summary()"
   ]
  },
  {
   "cell_type": "markdown",
   "metadata": {},
   "source": [
    "A partir das tabelas apresentadas anteriormente, pode-se concluir que a variável GDP tem um impacto negativo na variável resposta (mortalidade infantil), uma vez que o seu valor de \"t\", em módulo, é alto e \"P\" ser 0. Já a variável CO2 possui um valor de \"t\" próximo de 0 e um valor \"P\" muito maior que um alpha de10%, logo não há evidências de que ela tenha relação com a variável resposta, mesmo apresentando uma correlação ala e um coeficiente de determinação (r squared) alto também."
   ]
  },
  {
   "cell_type": "code",
   "execution_count": 26,
   "metadata": {
    "collapsed": false
   },
   "outputs": [
    {
     "data": {
      "text/plain": [
       "(2.0059296046727582,\n",
       " 0.84832395499805502,\n",
       " 0.39213270911650877,\n",
       " 0.85376506269165597)"
      ]
     },
     "execution_count": 26,
     "metadata": {},
     "output_type": "execute_result"
    }
   ],
   "source": [
    "#Teste de White\n",
    "#y estimados\n",
    "y_hat = fit.predict(X)\n",
    "\n",
    "#Resíduos quadráticos\n",
    "res2=(y-y_hat)**2\n",
    "\n",
    "sm1.stats.diagnostic.het_white(res2,X)"
   ]
  },
  {
   "cell_type": "markdown",
   "metadata": {},
   "source": [
    "## Separando em grupos"
   ]
  },
  {
   "cell_type": "code",
   "execution_count": 28,
   "metadata": {
    "collapsed": false
   },
   "outputs": [
    {
     "data": {
      "text/plain": [
       "count    179.000000\n",
       "mean      70.593017\n",
       "std        9.065279\n",
       "min       32.200000\n",
       "25%       64.800000\n",
       "50%       73.100000\n",
       "75%       77.250000\n",
       "max       84.700000\n",
       "Name: EXP, dtype: float64"
      ]
     },
     "execution_count": 28,
     "metadata": {},
     "output_type": "execute_result"
    }
   ],
   "source": [
    "dados.EXP.describe()"
   ]
  },
  {
   "cell_type": "markdown",
   "metadata": {},
   "source": [
    "Decidimos separar os países em 2 grupos: um com expectativa de vida acima de 70 anos e outro com expectativa de vida menor ou igual a 70 anos"
   ]
  },
  {
   "cell_type": "markdown",
   "metadata": {},
   "source": [
    "#### GRUPO 1 - EXPECTATIVA DE VIDA MAIOR QUE 70 ANOS"
   ]
  },
  {
   "cell_type": "code",
   "execution_count": 31,
   "metadata": {
    "collapsed": false
   },
   "outputs": [
    {
     "data": {
      "text/html": [
       "<div>\n",
       "<table border=\"1\" class=\"dataframe\">\n",
       "  <thead>\n",
       "    <tr style=\"text-align: right;\">\n",
       "      <th></th>\n",
       "      <th>Morte</th>\n",
       "      <th>GDP</th>\n",
       "      <th>CO2</th>\n",
       "      <th>EXP</th>\n",
       "    </tr>\n",
       "  </thead>\n",
       "  <tbody>\n",
       "    <tr>\n",
       "      <th>Albania</th>\n",
       "      <td>16.6</td>\n",
       "      <td>9374.0</td>\n",
       "      <td>1.336544</td>\n",
       "      <td>77.2</td>\n",
       "    </tr>\n",
       "    <tr>\n",
       "      <th>Algeria</th>\n",
       "      <td>27.4</td>\n",
       "      <td>12494.0</td>\n",
       "      <td>3.480977</td>\n",
       "      <td>76.0</td>\n",
       "    </tr>\n",
       "    <tr>\n",
       "      <th>Andorra</th>\n",
       "      <td>3.3</td>\n",
       "      <td>38982.0</td>\n",
       "      <td>6.092100</td>\n",
       "      <td>84.7</td>\n",
       "    </tr>\n",
       "    <tr>\n",
       "      <th>Antigua and Barbuda</th>\n",
       "      <td>9.9</td>\n",
       "      <td>20567.0</td>\n",
       "      <td>5.786646</td>\n",
       "      <td>75.8</td>\n",
       "    </tr>\n",
       "    <tr>\n",
       "      <th>Argentina</th>\n",
       "      <td>14.6</td>\n",
       "      <td>15765.0</td>\n",
       "      <td>4.466338</td>\n",
       "      <td>75.8</td>\n",
       "    </tr>\n",
       "  </tbody>\n",
       "</table>\n",
       "</div>"
      ],
      "text/plain": [
       "                     Morte      GDP       CO2   EXP\n",
       "Albania               16.6   9374.0  1.336544  77.2\n",
       "Algeria               27.4  12494.0  3.480977  76.0\n",
       "Andorra                3.3  38982.0  6.092100  84.7\n",
       "Antigua and Barbuda    9.9  20567.0  5.786646  75.8\n",
       "Argentina             14.6  15765.0  4.466338  75.8"
      ]
     },
     "execution_count": 31,
     "metadata": {},
     "output_type": "execute_result"
    }
   ],
   "source": [
    "dados1 = pd.DataFrame()\n",
    "dados1=dados\n",
    "\n",
    "dados1 = dados1[dados.EXP > 70]\n",
    "\n",
    "dados1.head()"
   ]
  },
  {
   "cell_type": "code",
   "execution_count": 32,
   "metadata": {
    "collapsed": false
   },
   "outputs": [
    {
     "data": {
      "text/html": [
       "<table class=\"simpletable\">\n",
       "<caption>OLS Regression Results</caption>\n",
       "<tr>\n",
       "  <th>Dep. Variable:</th>          <td>Morte</td>      <th>  R-squared:         </th> <td>   0.284</td>\n",
       "</tr>\n",
       "<tr>\n",
       "  <th>Model:</th>                   <td>OLS</td>       <th>  Adj. R-squared:    </th> <td>   0.271</td>\n",
       "</tr>\n",
       "<tr>\n",
       "  <th>Method:</th>             <td>Least Squares</td>  <th>  F-statistic:       </th> <td>   21.78</td>\n",
       "</tr>\n",
       "<tr>\n",
       "  <th>Date:</th>             <td>Tue, 06 Dec 2016</td> <th>  Prob (F-statistic):</th> <td>1.07e-08</td>\n",
       "</tr>\n",
       "<tr>\n",
       "  <th>Time:</th>                 <td>10:26:17</td>     <th>  Log-Likelihood:    </th> <td> -415.65</td>\n",
       "</tr>\n",
       "<tr>\n",
       "  <th>No. Observations:</th>      <td>   113</td>      <th>  AIC:               </th> <td>   837.3</td>\n",
       "</tr>\n",
       "<tr>\n",
       "  <th>Df Residuals:</th>          <td>   110</td>      <th>  BIC:               </th> <td>   845.5</td>\n",
       "</tr>\n",
       "<tr>\n",
       "  <th>Df Model:</th>              <td>     2</td>      <th>                     </th>     <td> </td>   \n",
       "</tr>\n",
       "<tr>\n",
       "  <th>Covariance Type:</th>      <td>nonrobust</td>    <th>                     </th>     <td> </td>   \n",
       "</tr>\n",
       "</table>\n",
       "<table class=\"simpletable\">\n",
       "<tr>\n",
       "    <td></td>       <th>coef</th>     <th>std err</th>      <th>t</th>      <th>P>|t|</th> <th>[95.0% Conf. Int.]</th> \n",
       "</tr>\n",
       "<tr>\n",
       "  <th>const</th> <td>   21.0471</td> <td>    1.402</td> <td>   15.008</td> <td> 0.000</td> <td>   18.268    23.826</td>\n",
       "</tr>\n",
       "<tr>\n",
       "  <th>GDP</th>   <td>   -0.0003</td> <td>    6e-05</td> <td>   -5.339</td> <td> 0.000</td> <td>   -0.000    -0.000</td>\n",
       "</tr>\n",
       "<tr>\n",
       "  <th>CO2</th>   <td>    0.1761</td> <td>    0.178</td> <td>    0.989</td> <td> 0.325</td> <td>   -0.177     0.529</td>\n",
       "</tr>\n",
       "</table>\n",
       "<table class=\"simpletable\">\n",
       "<tr>\n",
       "  <th>Omnibus:</th>       <td>53.556</td> <th>  Durbin-Watson:     </th> <td>   2.020</td>\n",
       "</tr>\n",
       "<tr>\n",
       "  <th>Prob(Omnibus):</th> <td> 0.000</td> <th>  Jarque-Bera (JB):  </th> <td> 143.898</td>\n",
       "</tr>\n",
       "<tr>\n",
       "  <th>Skew:</th>          <td> 1.829</td> <th>  Prob(JB):          </th> <td>5.66e-32</td>\n",
       "</tr>\n",
       "<tr>\n",
       "  <th>Kurtosis:</th>      <td> 7.145</td> <th>  Cond. No.          </th> <td>5.01e+04</td>\n",
       "</tr>\n",
       "</table>"
      ],
      "text/plain": [
       "<class 'statsmodels.iolib.summary.Summary'>\n",
       "\"\"\"\n",
       "                            OLS Regression Results                            \n",
       "==============================================================================\n",
       "Dep. Variable:                  Morte   R-squared:                       0.284\n",
       "Model:                            OLS   Adj. R-squared:                  0.271\n",
       "Method:                 Least Squares   F-statistic:                     21.78\n",
       "Date:                Tue, 06 Dec 2016   Prob (F-statistic):           1.07e-08\n",
       "Time:                        10:26:17   Log-Likelihood:                -415.65\n",
       "No. Observations:                 113   AIC:                             837.3\n",
       "Df Residuals:                     110   BIC:                             845.5\n",
       "Df Model:                           2                                         \n",
       "Covariance Type:            nonrobust                                         \n",
       "==============================================================================\n",
       "                 coef    std err          t      P>|t|      [95.0% Conf. Int.]\n",
       "------------------------------------------------------------------------------\n",
       "const         21.0471      1.402     15.008      0.000        18.268    23.826\n",
       "GDP           -0.0003      6e-05     -5.339      0.000        -0.000    -0.000\n",
       "CO2            0.1761      0.178      0.989      0.325        -0.177     0.529\n",
       "==============================================================================\n",
       "Omnibus:                       53.556   Durbin-Watson:                   2.020\n",
       "Prob(Omnibus):                  0.000   Jarque-Bera (JB):              143.898\n",
       "Skew:                           1.829   Prob(JB):                     5.66e-32\n",
       "Kurtosis:                       7.145   Cond. No.                     5.01e+04\n",
       "==============================================================================\n",
       "\n",
       "Warnings:\n",
       "[1] Standard Errors assume that the covariance matrix of the errors is correctly specified.\n",
       "[2] The condition number is large, 5.01e+04. This might indicate that there are\n",
       "strong multicollinearity or other numerical problems.\n",
       "\"\"\""
      ]
     },
     "execution_count": 32,
     "metadata": {},
     "output_type": "execute_result"
    }
   ],
   "source": [
    "#Linear Regression - SEGUNDA MANEIRA DE FAZER REGRESSÃO USANDO PACOTE ols\n",
    "#Informando X como matriz de planejamento\n",
    "\n",
    "#Montagem dos dados\n",
    "y=dados1.Morte\n",
    "X=dados1.iloc[:,(1,2)]\n",
    "X=sm1.add_constant(X)  # Adds a constant term to the predictor\n",
    "X.head()\n",
    "\n",
    "model=sm1.OLS(y, X)\n",
    "fit=model.fit()\n",
    "fit.summary()"
   ]
  },
  {
   "cell_type": "markdown",
   "metadata": {},
   "source": [
    "A partir das tabelas apresentadas anteriormente, pode-se concluir que, para o grupo 1 (expectativa de vida maior que 70 anos) a variável GDP tem um impacto negativo na variável resposta (mortalidade infantil), uma vez que o seu valor de \"t\", em módulo, é razoavelmente alto (menor do que no teste anterior) e \"P\" ser 0. Já a variável CO2 possui um valor de \"t\" positivo, próximo de 0  e um valor \"P\" muito maior que um alpha de10%, logo não há evidências de que ela tenha relação com a variável resposta."
   ]
  },
  {
   "cell_type": "markdown",
   "metadata": {},
   "source": [
    "#### GRUPO 2 - EXPECTATIVA DE VIDA MENOR OU IGUAL A 70"
   ]
  },
  {
   "cell_type": "code",
   "execution_count": 34,
   "metadata": {
    "collapsed": false
   },
   "outputs": [
    {
     "data": {
      "text/html": [
       "<div>\n",
       "<table border=\"1\" class=\"dataframe\">\n",
       "  <thead>\n",
       "    <tr style=\"text-align: right;\">\n",
       "      <th></th>\n",
       "      <th>Morte</th>\n",
       "      <th>GDP</th>\n",
       "      <th>CO2</th>\n",
       "      <th>EXP</th>\n",
       "    </tr>\n",
       "  </thead>\n",
       "  <tbody>\n",
       "    <tr>\n",
       "      <th>Afghanistan</th>\n",
       "      <td>105.0</td>\n",
       "      <td>1637.0</td>\n",
       "      <td>0.262174</td>\n",
       "      <td>53.6</td>\n",
       "    </tr>\n",
       "    <tr>\n",
       "      <th>Angola</th>\n",
       "      <td>182.5</td>\n",
       "      <td>7047.0</td>\n",
       "      <td>1.593918</td>\n",
       "      <td>57.6</td>\n",
       "    </tr>\n",
       "    <tr>\n",
       "      <th>Bangladesh</th>\n",
       "      <td>49.6</td>\n",
       "      <td>2459.0</td>\n",
       "      <td>0.377610</td>\n",
       "      <td>68.8</td>\n",
       "    </tr>\n",
       "    <tr>\n",
       "      <th>Benin</th>\n",
       "      <td>111.6</td>\n",
       "      <td>1637.0</td>\n",
       "      <td>0.586260</td>\n",
       "      <td>60.8</td>\n",
       "    </tr>\n",
       "    <tr>\n",
       "      <th>Botswana</th>\n",
       "      <td>60.3</td>\n",
       "      <td>13642.0</td>\n",
       "      <td>2.607113</td>\n",
       "      <td>55.6</td>\n",
       "    </tr>\n",
       "  </tbody>\n",
       "</table>\n",
       "</div>"
      ],
      "text/plain": [
       "             Morte      GDP       CO2   EXP\n",
       "Afghanistan  105.0   1637.0  0.262174  53.6\n",
       "Angola       182.5   7047.0  1.593918  57.6\n",
       "Bangladesh    49.6   2459.0  0.377610  68.8\n",
       "Benin        111.6   1637.0  0.586260  60.8\n",
       "Botswana      60.3  13642.0  2.607113  55.6"
      ]
     },
     "execution_count": 34,
     "metadata": {},
     "output_type": "execute_result"
    }
   ],
   "source": [
    "dados2 = pd.DataFrame()\n",
    "dados2=dados\n",
    "\n",
    "dados2 = dados2[dados.EXP <= 70]\n",
    "\n",
    "dados2.head()"
   ]
  },
  {
   "cell_type": "code",
   "execution_count": 35,
   "metadata": {
    "collapsed": false
   },
   "outputs": [
    {
     "data": {
      "text/html": [
       "<table class=\"simpletable\">\n",
       "<caption>OLS Regression Results</caption>\n",
       "<tr>\n",
       "  <th>Dep. Variable:</th>          <td>Morte</td>      <th>  R-squared:         </th> <td>   0.131</td>\n",
       "</tr>\n",
       "<tr>\n",
       "  <th>Model:</th>                   <td>OLS</td>       <th>  Adj. R-squared:    </th> <td>   0.103</td>\n",
       "</tr>\n",
       "<tr>\n",
       "  <th>Method:</th>             <td>Least Squares</td>  <th>  F-statistic:       </th> <td>   4.731</td>\n",
       "</tr>\n",
       "<tr>\n",
       "  <th>Date:</th>             <td>Tue, 06 Dec 2016</td> <th>  Prob (F-statistic):</th>  <td>0.0122</td> \n",
       "</tr>\n",
       "<tr>\n",
       "  <th>Time:</th>                 <td>10:29:24</td>     <th>  Log-Likelihood:    </th> <td> -331.67</td>\n",
       "</tr>\n",
       "<tr>\n",
       "  <th>No. Observations:</th>      <td>    66</td>      <th>  AIC:               </th> <td>   669.3</td>\n",
       "</tr>\n",
       "<tr>\n",
       "  <th>Df Residuals:</th>          <td>    63</td>      <th>  BIC:               </th> <td>   675.9</td>\n",
       "</tr>\n",
       "<tr>\n",
       "  <th>Df Model:</th>              <td>     2</td>      <th>                     </th>     <td> </td>   \n",
       "</tr>\n",
       "<tr>\n",
       "  <th>Covariance Type:</th>      <td>nonrobust</td>    <th>                     </th>     <td> </td>   \n",
       "</tr>\n",
       "</table>\n",
       "<table class=\"simpletable\">\n",
       "<tr>\n",
       "    <td></td>       <th>coef</th>     <th>std err</th>      <th>t</th>      <th>P>|t|</th> <th>[95.0% Conf. Int.]</th> \n",
       "</tr>\n",
       "<tr>\n",
       "  <th>const</th> <td>   88.0334</td> <td>    5.959</td> <td>   14.773</td> <td> 0.000</td> <td>   76.125    99.942</td>\n",
       "</tr>\n",
       "<tr>\n",
       "  <th>GDP</th>   <td> 4.121e-05</td> <td>    0.001</td> <td>    0.033</td> <td> 0.974</td> <td>   -0.002     0.003</td>\n",
       "</tr>\n",
       "<tr>\n",
       "  <th>CO2</th>   <td>   -4.9395</td> <td>    2.448</td> <td>   -2.017</td> <td> 0.048</td> <td>   -9.832    -0.047</td>\n",
       "</tr>\n",
       "</table>\n",
       "<table class=\"simpletable\">\n",
       "<tr>\n",
       "  <th>Omnibus:</th>       <td>12.878</td> <th>  Durbin-Watson:     </th> <td>   2.372</td>\n",
       "</tr>\n",
       "<tr>\n",
       "  <th>Prob(Omnibus):</th> <td> 0.002</td> <th>  Jarque-Bera (JB):  </th> <td>  13.658</td>\n",
       "</tr>\n",
       "<tr>\n",
       "  <th>Skew:</th>          <td> 0.978</td> <th>  Prob(JB):          </th> <td> 0.00108</td>\n",
       "</tr>\n",
       "<tr>\n",
       "  <th>Kurtosis:</th>      <td> 4.068</td> <th>  Cond. No.          </th> <td>9.43e+03</td>\n",
       "</tr>\n",
       "</table>"
      ],
      "text/plain": [
       "<class 'statsmodels.iolib.summary.Summary'>\n",
       "\"\"\"\n",
       "                            OLS Regression Results                            \n",
       "==============================================================================\n",
       "Dep. Variable:                  Morte   R-squared:                       0.131\n",
       "Model:                            OLS   Adj. R-squared:                  0.103\n",
       "Method:                 Least Squares   F-statistic:                     4.731\n",
       "Date:                Tue, 06 Dec 2016   Prob (F-statistic):             0.0122\n",
       "Time:                        10:29:24   Log-Likelihood:                -331.67\n",
       "No. Observations:                  66   AIC:                             669.3\n",
       "Df Residuals:                      63   BIC:                             675.9\n",
       "Df Model:                           2                                         \n",
       "Covariance Type:            nonrobust                                         \n",
       "==============================================================================\n",
       "                 coef    std err          t      P>|t|      [95.0% Conf. Int.]\n",
       "------------------------------------------------------------------------------\n",
       "const         88.0334      5.959     14.773      0.000        76.125    99.942\n",
       "GDP         4.121e-05      0.001      0.033      0.974        -0.002     0.003\n",
       "CO2           -4.9395      2.448     -2.017      0.048        -9.832    -0.047\n",
       "==============================================================================\n",
       "Omnibus:                       12.878   Durbin-Watson:                   2.372\n",
       "Prob(Omnibus):                  0.002   Jarque-Bera (JB):               13.658\n",
       "Skew:                           0.978   Prob(JB):                      0.00108\n",
       "Kurtosis:                       4.068   Cond. No.                     9.43e+03\n",
       "==============================================================================\n",
       "\n",
       "Warnings:\n",
       "[1] Standard Errors assume that the covariance matrix of the errors is correctly specified.\n",
       "[2] The condition number is large, 9.43e+03. This might indicate that there are\n",
       "strong multicollinearity or other numerical problems.\n",
       "\"\"\""
      ]
     },
     "execution_count": 35,
     "metadata": {},
     "output_type": "execute_result"
    }
   ],
   "source": [
    "#Linear Regression - SEGUNDA MANEIRA DE FAZER REGRESSÃO USANDO PACOTE ols\n",
    "#Informando X como matriz de planejamento\n",
    "\n",
    "#Montagem dos dados\n",
    "y=dados2.Morte\n",
    "X=dados2.iloc[:,(1,2)]\n",
    "X=sm1.add_constant(X)  # Adds a constant term to the predictor\n",
    "X.head()\n",
    "\n",
    "model=sm1.OLS(y, X)\n",
    "fit=model.fit()\n",
    "fit.summary()"
   ]
  },
  {
   "cell_type": "markdown",
   "metadata": {},
   "source": [
    "A partir das tabelas apresentadas anteriormente, pode-se concluir que, para o grupo 2 (expectativa de vida menor que 70 anos) a variável GDP tem um impacto positivo muito pequeno na variável resposta (mortalidade infantil), uma vez que o seu valor de \"t\", é baixo e \"P\" ser alto, maior que 10%. Já a variável CO2 possui um valor de \"t\" negativo, porém baixo e um valor \"P\" próximo de 0, logo há evidências de que ela tenha uma relação negativa com a variável resposta."
   ]
  },
  {
   "cell_type": "markdown",
   "metadata": {},
   "source": [
    "### Conclusão"
   ]
  },
  {
   "cell_type": "markdown",
   "metadata": {},
   "source": [
    "A partir das análises feitas anteriormente, é possível responder a nossa problematização inicial, que era: como a mortalidade infantil está relacionada à poluição e ao nível econômico das pessoas no país ?\n",
    "\n",
    "A relação entre a variável explicativa (quantidade de CO2 per capita) e a variável resposta (taxa de mortalidade infantil) é negativa, ou seja, quanto menor a quantidade de CO2, maior a taxa de mortalidade. Num primeiro instante, isso pode parecer estranho, porém, podemos associar a quantidade de CO2 per capita com o índice de desenvolvimento de um país, uma vez que em geral, um país mais desenvolvido possui mais indústrias, explicando assim uma maior quantidade de CO2 no ar.\n",
    "\n",
    "Além disso, ao analisarmos o gráfico 3d, percebemos que a variável explicativa que mais influencia na nossa respota, é o GDP per capita. A relação entre essas duas variaveis é negativa e bem explicita.\n",
    "\n",
    "Ao dividirmos os países em dois subgrupos com base na expectativa de vida dos países, percebe-se que as conclusoes chegadas ao analisar o sistema como um todo são as mesma obtidas para o grupo 1 (países com expectativa de vida maior que 70 anos), porém não são as mesmas quando olhamos para um sistema local para o grupo 2 (países com expectativa de vida menor que 70 anos), já que para ele, a variável GDP possui um impacto positivo, porém pequeno e CO2 possui um negativo, porém mínimo. "
   ]
  },
  {
   "cell_type": "code",
   "execution_count": null,
   "metadata": {
    "collapsed": true
   },
   "outputs": [],
   "source": []
  }
 ],
 "metadata": {
  "kernelspec": {
   "display_name": "Python 3",
   "language": "python",
   "name": "python3"
  },
  "language_info": {
   "codemirror_mode": {
    "name": "ipython",
    "version": 3
   },
   "file_extension": ".py",
   "mimetype": "text/x-python",
   "name": "python",
   "nbconvert_exporter": "python",
   "pygments_lexer": "ipython3",
   "version": "3.5.1"
  }
 },
 "nbformat": 4,
 "nbformat_minor": 0
}
