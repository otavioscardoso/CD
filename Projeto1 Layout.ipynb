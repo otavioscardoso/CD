{
 "cells": [
  {
   "cell_type": "markdown",
   "metadata": {},
   "source": [
    "___\n",
    "# PROJETO 1"
   ]
  },
  {
   "cell_type": "markdown",
   "metadata": {},
   "source": [
    "## <font color='red'>Otavio Siaulys Cardoso</font>\n",
    "___"
   ]
  },
  {
   "cell_type": "markdown",
   "metadata": {},
   "source": [
    "## <font color='blue'>APOSENTADOS 2014 X APOSENTADOS 1992</font>"
   ]
  },
  {
   "cell_type": "markdown",
   "metadata": {},
   "source": [
    "## Introdução\n",
    "\n",
    "Atualmente a econômia do Brasil está em crise. Altas taxas de desemprego e inflação afetam o país. Devido à esse estado muitos brasileiros estão buscando outras formas de arrecadar dinheiro, e segundo um artigo da Metal Revista, um desses meios eh o fato de que aposentados estão voltando ao mercado de trabalho.(link do artigo: http://metalrevista.com.br/2016/05/09/cresce-o-numero-de-aposentados-que-voltam-ao-mercado-de-trabalho-no-brasil/). Segundo o artigo, cerca de \"6,645 milhões de idosos em todo o Brasil estavam em atividade entre abril e junho de 2015\". Frente a este artigo, decidi comparar a renda dos aposentados que ainda trabalham em  2014 com os que não trabalham. Além disso outro objetivo desta analise é comparar a renda entre homens e mulheres que são aposentados e ainda trabalham; e entre brancos e pardos que são aposentados e ainda trabalham em 2014.\n"
   ]
  },
  {
   "cell_type": "markdown",
   "metadata": {},
   "source": [
    "___\n",
    "## Análise e Resultados dos dados de 2014"
   ]
  },
  {
   "cell_type": "code",
   "execution_count": 221,
   "metadata": {
    "collapsed": true
   },
   "outputs": [],
   "source": [
    "%matplotlib inline\n",
    "import pandas as pd\n",
    "import matplotlib.pyplot as plt\n",
    "import numpy as np\n",
    "import os"
   ]
  },
  {
   "cell_type": "code",
   "execution_count": 93,
   "metadata": {
    "collapsed": false
   },
   "outputs": [
    {
     "name": "stdout",
     "output_type": "stream",
     "text": [
      "Esperamos trabalhar no diretório\n",
      "/Users/otaviocardoso/Desktop/Projeto 1 -CD\n"
     ]
    }
   ],
   "source": [
    "print('Esperamos trabalhar no diretório')\n",
    "print(os.getcwd())"
   ]
  },
  {
   "cell_type": "code",
   "execution_count": 154,
   "metadata": {
    "collapsed": false
   },
   "outputs": [],
   "source": [
    "#Leitura da base já em formato de DataFrame e extensão .csv\n",
    "dados = pd.read_table('PES2014.txt', sep=',')\n",
    "dados2 = pd.read_table('PES2001.txt', sep=',')"
   ]
  },
  {
   "cell_type": "code",
   "execution_count": 14,
   "metadata": {
    "collapsed": false
   },
   "outputs": [],
   "source": [
    "n = dados.shape[0]\n",
    "n2 = dados2.shape[0]"
   ]
  },
  {
   "cell_type": "code",
   "execution_count": 156,
   "metadata": {
    "collapsed": false
   },
   "outputs": [],
   "source": [
    "#Variáveis 2014\n",
    "dados.IDADE = dados.V8005.astype('float')\n",
    "dados.APOSENTADO = dados.V9122.astype('category')\n",
    "dados.APOSENTADO.cat.categories=('Aposentado', 'Não aposentado')\n",
    "dados.SEXO = dados.V0302.astype('category')\n",
    "dados.SEXO.cat.categories=('Homens', 'Mulheres')\n",
    "dados.COR_RACA = dados.V0404.astype('category')\n",
    "dados.COR_RACA .cat.categories=('Indígena', 'Brancos', 'Preta', 'Amarela', 'Pardos', 'Sem declaração')\n",
    "dados.RENDIMENTO_MENSAL = dados.V4722.astype('float')\n",
    "dados.CASADO = dados.V4111.astype('category')\n",
    "dados.CASADO.cat.categories=('Casado', 'Não casado atualmente', 'Nunca casou')\n",
    "dados.TRABALHO = dados.V9001.astype('category')\n",
    "dados.TRABALHO.cat.categories=('Sim', 'Não')"
   ]
  },
  {
   "cell_type": "code",
   "execution_count": 191,
   "metadata": {
    "collapsed": false
   },
   "outputs": [
    {
     "name": "stdout",
     "output_type": "stream",
     "text": [
      "2014 - Frequência de aposentadoria:\n",
      "Não aposentado    75.32\n",
      "Aposentado        10.66\n",
      "dtype: float64 \n",
      "\n",
      "2014 - Frequência de aposentados que trabalham ou não:\n",
      "Não    78.64\n",
      "Sim    21.36\n",
      "dtype: float64 \n",
      "\n"
     ]
    }
   ],
   "source": [
    "print('2014 - Frequência de aposentadoria:')\n",
    "ut1= (dados.APOSENTADO.value_counts(True)*100).round(decimals=2)\n",
    "print(ut1,'\\n')\n",
    "print('2014 - Frequência de aposentados que trabalham ou não:')\n",
    "ut21 = (dados.TRABALHO[(dados.APOSENTADO=='Aposentado')].value_counts(True)*100).round(decimals=2)\n",
    "print(ut21,'\\n')"
   ]
  },
  {
   "cell_type": "code",
   "execution_count": 192,
   "metadata": {
    "collapsed": false
   },
   "outputs": [
    {
     "name": "stdout",
     "output_type": "stream",
     "text": [
      "2014 - Frequência de aposentadoria por sexo:\n",
      "Mulheres    50.79\n",
      "Homens      49.21\n",
      "dtype: float64 \n",
      "\n",
      "2014 - Frequência de mulheres aposentadas que trabalham ou não:\n",
      "Não    84.41\n",
      "Sim    15.59\n",
      "dtype: float64 \n",
      "\n",
      "2014 - Frequência de Homens aposentados que trabalham ou não:\n",
      "Não    72.68\n",
      "Sim    27.32\n",
      "dtype: float64 \n",
      "\n"
     ]
    }
   ],
   "source": [
    "print('2014 - Frequência de aposentadoria por sexo:')\n",
    "ut2 = (dados.SEXO[(dados.APOSENTADO=='Aposentado')].value_counts(True)*100).round(decimals=2)\n",
    "print(ut2,'\\n')\n",
    "print('2014 - Frequência de mulheres aposentadas que trabalham ou não:')\n",
    "ut21 = (dados.TRABALHO[(dados.SEXO=='Mulheres')& (dados.APOSENTADO=='Aposentado')].value_counts(True)*100).round(decimals=2)\n",
    "print(ut21,'\\n')\n",
    "print('2014 - Frequência de Homens aposentados que trabalham ou não:')\n",
    "ut22 = (dados.TRABALHO[(dados.SEXO=='Homens')&(dados.APOSENTADO=='Aposentado')].value_counts(True)*100).round(decimals=2)\n",
    "print(ut22,'\\n')\n"
   ]
  },
  {
   "cell_type": "code",
   "execution_count": 169,
   "metadata": {
    "collapsed": false
   },
   "outputs": [
    {
     "data": {
      "text/plain": [
       "<matplotlib.axes._subplots.AxesSubplot at 0x107d44e10>"
      ]
     },
     "execution_count": 169,
     "metadata": {},
     "output_type": "execute_result"
    },
    {
     "data": {
      "image/png": "[encoded data removed]",
      "text/plain": [
       "<matplotlib.figure.Figure at 0x11e8479e8>"
      ]
     },
     "metadata": {},
     "output_type": "display_data"
    }
   ],
   "source": [
    "ut2.plot(kind='bar',title='2014 - Percentuais de Homens aposentados e Mulheres aposentadas',color=('b','b'), alpha = 0.5)"
   ]
  },
  {
   "cell_type": "code",
   "execution_count": 173,
   "metadata": {
    "collapsed": false
   },
   "outputs": [
    {
     "data": {
      "text/plain": [
       "<matplotlib.axes._subplots.AxesSubplot at 0x11cfc7a90>"
      ]
     },
     "execution_count": 173,
     "metadata": {},
     "output_type": "execute_result"
    },
    {
     "data": {
      "image/png": "[encoded data removed]",
      "text/plain": [
       "<matplotlib.figure.Figure at 0x11d059be0>"
      ]
     },
     "metadata": {},
     "output_type": "display_data"
    }
   ],
   "source": [
    "ut21.plot(kind='bar',color=('b','b'), alpha = 0.5)\n",
    "ut22.plot(kind='bar',title='2014 - Percentuais de Homens (Vermelho) aposentados que trabalham ou não e Mulheres(Azul) aposentadas que trabalham ou não',color=('r','r'), alpha = 0.5)"
   ]
  },
  {
   "cell_type": "code",
   "execution_count": 195,
   "metadata": {
    "collapsed": false
   },
   "outputs": [
    {
     "name": "stdout",
     "output_type": "stream",
     "text": [
      "2014 - rendimento mensal domiciliar de pessoas aposentados, casadas e trabalham\n",
      "count     5576.000000\n",
      "mean      5536.237088\n",
      "std       6401.215318\n",
      "min        724.000000\n",
      "25%       2048.000000\n",
      "50%       3324.000000\n",
      "75%       6255.000000\n",
      "max      76000.000000\n",
      "Name: V4722, dtype: float64\n",
      "\n",
      "2014 - rendimento mensal domiciliar de pessoas aposentadas, casadas e não trabalham\n",
      "count     16820.000000\n",
      "mean       3466.230262\n",
      "std        4236.957183\n",
      "min         660.000000\n",
      "25%        1448.000000\n",
      "50%        2172.000000\n",
      "75%        3700.000000\n",
      "max      153000.000000\n",
      "Name: V4722, dtype: float64\n",
      "\n"
     ]
    }
   ],
   "source": [
    "print(\"2014 - rendimento mensal domiciliar de pessoas aposentados, casadas e trabalham\")\n",
    "a = dados.RENDIMENTO_MENSAL[(dados.RENDIMENTO_MENSAL <999999999999)&(dados.CASADO=='Casado') & (dados.APOSENTADO =='Aposentado') & (dados.TRABALHO== 'Sim')]\n",
    "print(a.describe())\n",
    "print()\n",
    "print(\"2014 - rendimento mensal domiciliar de pessoas aposentadas, casadas e não trabalham\")\n",
    "b = dados.RENDIMENTO_MENSAL[(dados.RENDIMENTO_MENSAL <999999999999)&(dados.CASADO=='Casado') & (dados.APOSENTADO =='Aposentado') & (dados.TRABALHO== 'Não')]\n",
    "print(b.describe())\n",
    "print()"
   ]
  },
  {
   "cell_type": "code",
   "execution_count": 196,
   "metadata": {
    "collapsed": false
   },
   "outputs": [
    {
     "name": "stdout",
     "output_type": "stream",
     "text": [
      "2014 - rendimento mensal domiciliar de pessoas aposentados, casados e trabalham\n"
     ]
    },
    {
     "data": {
      "image/png": "[encoded data removed]",
      "text/plain": [
       "<matplotlib.figure.Figure at 0x1114075f8>"
      ]
     },
     "metadata": {},
     "output_type": "display_data"
    },
    {
     "name": "stdout",
     "output_type": "stream",
     "text": [
      "2014 - rendimento mensal domiciliar de pessoas aposentados, casados e não trabalham\n"
     ]
    },
    {
     "data": {
      "image/png": "[encoded data removed]",
      "text/plain": [
       "<matplotlib.figure.Figure at 0x11ccbd3c8>"
      ]
     },
     "metadata": {},
     "output_type": "display_data"
    }
   ],
   "source": [
    "print(\"2014 - rendimento mensal domiciliar de pessoas aposentados, casados e trabalham\")\n",
    "a.plot (kind='box') \n",
    "plt.show()\n",
    "print(\"2014 - rendimento mensal domiciliar de pessoas aposentados, casados e não trabalham\")\n",
    "b.plot (kind='box') \n",
    "plt.show()"
   ]
  },
  {
   "cell_type": "code",
   "execution_count": 210,
   "metadata": {
    "collapsed": false
   },
   "outputs": [
    {
     "name": "stdout",
     "output_type": "stream",
     "text": [
      "2014 - Histograma que compara a renda (em faixas de 1 salário mínimo) entre aposentados que trabalham(azul) e aposentados que não trabalham(vermelho):\n"
     ]
    },
    {
     "data": {
      "image/png": "[encoded data removed]",
      "text/plain": [
       "<matplotlib.figure.Figure at 0x112348320>"
      ]
     },
     "metadata": {},
     "output_type": "display_data"
    }
   ],
   "source": [
    "faixa0 = np.arange(0, 40000 , 724)\n",
    "variávelCat0 = pd.cut(dados.RENDIMENTO_MENSAL[(dados.RENDIMENTO_MENSAL <999999999999)&(dados.CASADO=='Casado') & (dados.APOSENTADO == 'Aposentado')& (dados.TRABALHO== 'Sim')], faixa0) \n",
    "variávelCat0.value_counts()\n",
    "faixa00 = np.arange(0, 40000, 724)\n",
    "variávelCat00 = pd.cut(dados.RENDIMENTO_MENSAL[(dados.RENDIMENTO_MENSAL <999999999999)&(dados.CASADO=='Casado') & (dados.APOSENTADO == 'Aposentado')& (dados.TRABALHO== 'Não')], faixa00) \n",
    "variávelCat00.value_counts()\n",
    "print(\"2014 - Histograma que compara a renda (em faixas de 1 salário mínimo) entre aposentados que trabalham(azul) e aposentados que não trabalham(vermelho):\")\n",
    "plot = dados.RENDIMENTO_MENSAL[(dados.RENDIMENTO_MENSAL <999999999999)&(dados.CASADO=='Casado') & (dados.APOSENTADO == 'Aposentado') & (dados.TRABALHO== 'Sim')].plot.hist(bins = faixa0, normed =1, alpha = 0.5, color = 'b')\n",
    "plot = dados.RENDIMENTO_MENSAL[(dados.RENDIMENTO_MENSAL <999999999999)&(dados.CASADO=='Casado') & (dados.APOSENTADO == 'Aposentado') & (dados.TRABALHO== 'Não')].plot.hist(bins = faixa00, normed =1, alpha = 0.5, color = 'r')\n",
    "plt.show()"
   ]
  },
  {
   "cell_type": "code",
   "execution_count": 211,
   "metadata": {
    "collapsed": false
   },
   "outputs": [
    {
     "name": "stdout",
     "output_type": "stream",
     "text": [
      "2014 - rendimento mensal domiciliar de homens aposentados, casados e trabalham\n",
      "count     5576.000000\n",
      "mean      5536.237088\n",
      "std       6401.215318\n",
      "min        724.000000\n",
      "25%       2048.000000\n",
      "50%       3324.000000\n",
      "75%       6255.000000\n",
      "max      76000.000000\n",
      "Name: V4722, dtype: float64\n",
      "\n",
      "2014 - rendimento mensal domiciliar de mulheres aposentados, casadas e trabalham\n",
      "count     16820.000000\n",
      "mean       3466.230262\n",
      "std        4236.957183\n",
      "min         660.000000\n",
      "25%        1448.000000\n",
      "50%        2172.000000\n",
      "75%        3700.000000\n",
      "max      153000.000000\n",
      "Name: V4722, dtype: float64\n",
      "\n"
     ]
    }
   ],
   "source": [
    "print(\"2014 - rendimento mensal domiciliar de homens aposentados, casados e trabalham\")\n",
    "c = dados.RENDIMENTO_MENSAL[(dados.RENDIMENTO_MENSAL <999999999999)&(dados.CASADO=='Casado') & (dados.APOSENTADO =='Aposentado') & (dados.TRABALHO== 'Sim')& (dados.SEXO== 'Homens')]\n",
    "print(a.describe())\n",
    "print()\n",
    "print(\"2014 - rendimento mensal domiciliar de mulheres aposentados, casadas e trabalham\")\n",
    "d = dados.RENDIMENTO_MENSAL[(dados.RENDIMENTO_MENSAL <999999999999)&(dados.CASADO=='Casado') & (dados.APOSENTADO =='Aposentado') & (dados.TRABALHO== 'Sim')& (dados.SEXO== 'Mulheres')]\n",
    "print(b.describe())\n",
    "print()"
   ]
  },
  {
   "cell_type": "code",
   "execution_count": 212,
   "metadata": {
    "collapsed": false
   },
   "outputs": [
    {
     "name": "stdout",
     "output_type": "stream",
     "text": [
      "2014 - rendimento mensal domiciliar de pessoas aposentadas, casadas e trabalham\n"
     ]
    },
    {
     "data": {
      "image/png": "[encoded data removed]",
      "text/plain": [
       "<matplotlib.figure.Figure at 0x1124a7940>"
      ]
     },
     "metadata": {},
     "output_type": "display_data"
    },
    {
     "name": "stdout",
     "output_type": "stream",
     "text": [
      "2014 - rendimento mensal domiciliar de pessoas aposentadas, casadas e não trabalham\n"
     ]
    },
    {
     "data": {
      "image/png": "[encoded data removed]",
      "text/plain": [
       "<matplotlib.figure.Figure at 0x11198b710>"
      ]
     },
     "metadata": {},
     "output_type": "display_data"
    }
   ],
   "source": [
    "print(\"2014 - rendimento mensal domiciliar de pessoas aposentadas, casadas e trabalham\")\n",
    "c.plot (kind='box') \n",
    "plt.show()\n",
    "print(\"2014 - rendimento mensal domiciliar de pessoas aposentadas, casadas e não trabalham\")\n",
    "d.plot (kind='box') \n",
    "plt.show()"
   ]
  },
  {
   "cell_type": "code",
   "execution_count": 213,
   "metadata": {
    "collapsed": false
   },
   "outputs": [
    {
     "name": "stdout",
     "output_type": "stream",
     "text": [
      "2014 - Histograma que compara a renda entre homens aposentados e casados(azul) e mulheres aposentadas e casadas(vermelho):\n"
     ]
    },
    {
     "data": {
      "image/png": "[encoded data removed]",
      "text/plain": [
       "<matplotlib.figure.Figure at 0x10237e470>"
      ]
     },
     "metadata": {},
     "output_type": "display_data"
    }
   ],
   "source": [
    "faixa = np.arange(0, 40000 , 724)\n",
    "variávelCat = pd.cut(dados.RENDIMENTO_MENSAL[(dados.RENDIMENTO_MENSAL <999999999999)&(dados.CASADO=='Casado') & (dados.APOSENTADO == 'Aposentado') & (dados.SEXO == 'Homens') & (dados.TRABALHO== 'Sim')], faixa) \n",
    "variávelCat.value_counts()\n",
    "faixa2 = np.arange(0, 40000, 724)\n",
    "variávelCat2 = pd.cut(dados.RENDIMENTO_MENSAL[(dados.RENDIMENTO_MENSAL <999999999999)&(dados.CASADO=='Casado') & (dados.APOSENTADO == 'Aposentado') & (dados.SEXO == 'Mulheres') & (dados.TRABALHO== 'Sim')], faixa2) \n",
    "variávelCat2.value_counts()\n",
    "print(\"2014 - Histograma que compara a renda entre homens aposentados e casados(azul) e mulheres aposentadas e casadas(vermelho):\")\n",
    "plot = dados.RENDIMENTO_MENSAL[(dados.RENDIMENTO_MENSAL <999999999999)&(dados.CASADO=='Casado') & (dados.APOSENTADO == 'Aposentado') & (dados.SEXO == 'Homens') & (dados.TRABALHO== 'Sim')].plot.hist(bins = faixa, normed =1, alpha = 0.5, color = 'r')\n",
    "plot = dados.RENDIMENTO_MENSAL[(dados.RENDIMENTO_MENSAL <999999999999)&(dados.CASADO=='Casado') & (dados.APOSENTADO == 'Aposentado') & (dados.SEXO == 'Mulheres') & (dados.TRABALHO== 'Sim')].plot.hist(bins = faixa2, normed =1, alpha = 0.5, color = 'b')\n",
    "plt.show()"
   ]
  },
  {
   "cell_type": "code",
   "execution_count": 214,
   "metadata": {
    "collapsed": false
   },
   "outputs": [
    {
     "name": "stdout",
     "output_type": "stream",
     "text": [
      "2014 - rendimento mensal domiciliar de pessoas pardas aposentadas e casadas que trabalham\n",
      "count     5576.000000\n",
      "mean      5536.237088\n",
      "std       6401.215318\n",
      "min        724.000000\n",
      "25%       2048.000000\n",
      "50%       3324.000000\n",
      "75%       6255.000000\n",
      "max      76000.000000\n",
      "Name: V4722, dtype: float64\n",
      "\n",
      "2014 - rendimento mensal domiciliar de pessoas brancas aposentadas e casadas que trabalham\n",
      "count     16820.000000\n",
      "mean       3466.230262\n",
      "std        4236.957183\n",
      "min         660.000000\n",
      "25%        1448.000000\n",
      "50%        2172.000000\n",
      "75%        3700.000000\n",
      "max      153000.000000\n",
      "Name: V4722, dtype: float64\n",
      "\n"
     ]
    }
   ],
   "source": [
    "print(\"2014 - rendimento mensal domiciliar de pessoas pardas aposentadas e casadas que trabalham\")\n",
    "e = dados.RENDIMENTO_MENSAL[(dados.RENDIMENTO_MENSAL <999999999999)&(dados.CASADO=='Casado') & (dados.APOSENTADO =='Aposentado') & (dados.TRABALHO== 'Sim')& (dados.COR_RACA== 'Pardos')]\n",
    "print(a.describe())\n",
    "print()\n",
    "print(\"2014 - rendimento mensal domiciliar de pessoas brancas aposentadas e casadas que trabalham\")\n",
    "f = dados.RENDIMENTO_MENSAL[(dados.RENDIMENTO_MENSAL <999999999999)&(dados.CASADO=='Casado') & (dados.APOSENTADO =='Aposentado') & (dados.TRABALHO== 'Sim')& (dados.COR_RACA== 'Brancos')]\n",
    "print(b.describe())\n",
    "print()"
   ]
  },
  {
   "cell_type": "code",
   "execution_count": 215,
   "metadata": {
    "collapsed": false
   },
   "outputs": [
    {
     "name": "stdout",
     "output_type": "stream",
     "text": [
      "2014 - rendimento mensal domiciliar de pessoas pardas aposentadas e casadas que trabalham\n"
     ]
    },
    {
     "data": {
      "image/png": "[encoded data removed]",
      "text/plain": [
       "<matplotlib.figure.Figure at 0x11dafd940>"
      ]
     },
     "metadata": {},
     "output_type": "display_data"
    },
    {
     "name": "stdout",
     "output_type": "stream",
     "text": [
      "2014 - rendimento mensal domiciliar de pessoas brancas aposentadas e casadas que trabalham\n"
     ]
    },
    {
     "data": {
      "image/png": "[encoded data removed]",
      "text/plain": [
       "<matplotlib.figure.Figure at 0x11140fc50>"
      ]
     },
     "metadata": {},
     "output_type": "display_data"
    }
   ],
   "source": [
    "print(\"2014 - rendimento mensal domiciliar de pessoas pardas aposentadas e casadas que trabalham\")\n",
    "e.plot (kind='box') \n",
    "plt.show()\n",
    "print(\"2014 - rendimento mensal domiciliar de pessoas brancas aposentadas e casadas que trabalham\")\n",
    "f.plot (kind='box') \n",
    "plt.show()"
   ]
  },
  {
   "cell_type": "code",
   "execution_count": 216,
   "metadata": {
    "collapsed": false
   },
   "outputs": [
    {
     "name": "stdout",
     "output_type": "stream",
     "text": [
      "2014 - Histograma que compara a renda domiciliar mensal entre pessoas aposentados, pardas e casadas(Vermelho) e pessoas aposentadasque trabalham, brancas e casadas que trabalham(vermelho):\n"
     ]
    },
    {
     "data": {
      "image/png": "[encoded data removed]",
      "text/plain": [
       "<matplotlib.figure.Figure at 0x11e993128>"
      ]
     },
     "metadata": {},
     "output_type": "display_data"
    }
   ],
   "source": [
    "faixa3 = np.arange(0, 40000 , 724)\n",
    "variávelCat3 = pd.cut(dados.RENDIMENTO_MENSAL[(dados.RENDIMENTO_MENSAL <999999999999)&(dados.CASADO=='Casado') & (dados.APOSENTADO == 'Aposentado') & (dados.COR_RACA == 'Pardos') & (dados.TRABALHO== 'Sim')], faixa3) \n",
    "variávelCat3.value_counts()\n",
    "faixa4 = np.arange(0, 40000, 724)\n",
    "variávelCat4 = pd.cut(dados.RENDIMENTO_MENSAL[(dados.RENDIMENTO_MENSAL <999999999999)&(dados.CASADO=='Casado') & (dados.APOSENTADO == 'Aposentado') & (dados.COR_RACA == 'Brancos') & (dados.TRABALHO== 'Sim')], faixa4) \n",
    "variávelCat4.value_counts()\n",
    "print(\"2014 - Histograma que compara a renda domiciliar mensal entre pessoas aposentados, pardas e casadas(Vermelho) e pessoas aposentadasque trabalham, brancas e casadas que trabalham(vermelho):\")\n",
    "plot = dados.RENDIMENTO_MENSAL[(dados.RENDIMENTO_MENSAL <999999999999)&(dados.CASADO=='Casado') & (dados.APOSENTADO == 'Aposentado') & (dados.COR_RACA == 'Pardos') & (dados.TRABALHO== 'Sim')].plot.hist(bins = faixa3, normed =1, alpha = 0.5, color = 'r')\n",
    "plot = dados.RENDIMENTO_MENSAL[(dados.RENDIMENTO_MENSAL <999999999999)&(dados.CASADO=='Casado') & (dados.APOSENTADO == 'Aposentado') & (dados.COR_RACA == 'Brancos')& (dados.TRABALHO== 'Sim')].plot.hist(bins = faixa4, normed =1, alpha = 0.5, color = 'b')\n",
    "plt.show()"
   ]
  },
  {
   "cell_type": "code",
   "execution_count": 217,
   "metadata": {
    "collapsed": false
   },
   "outputs": [
    {
     "name": "stdout",
     "output_type": "stream",
     "text": [
      "2014 - idade de pessoas aposentados, casadas e trabalham\n",
      "count    6004.000000\n",
      "mean       63.568288\n",
      "std         7.892065\n",
      "min        22.000000\n",
      "25%        59.000000\n",
      "50%        63.000000\n",
      "75%        68.000000\n",
      "max       103.000000\n",
      "Name: V8005, dtype: float64\n",
      "\n",
      "2014 - idade de pessoas aposentadas, casadas e não trabalham\n",
      "count    17478.000000\n",
      "mean        66.897128\n",
      "std          9.734165\n",
      "min         18.000000\n",
      "25%         61.000000\n",
      "50%         67.000000\n",
      "75%         73.000000\n",
      "max        101.000000\n",
      "Name: V8005, dtype: float64\n",
      "\n"
     ]
    }
   ],
   "source": [
    "print(\"2014 - idade de pessoas aposentados, casadas e trabalham\")\n",
    "i = dados.IDADE[(dados.CASADO=='Casado') & (dados.APOSENTADO =='Aposentado') & (dados.TRABALHO== 'Sim')]\n",
    "print(i.describe())\n",
    "print()\n",
    "print(\"2014 - idade de pessoas aposentadas, casadas e não trabalham\")\n",
    "j = dados.IDADE[(dados.CASADO=='Casado') & (dados.APOSENTADO =='Aposentado') & (dados.TRABALHO== 'Não')]\n",
    "print(j.describe())\n",
    "print()"
   ]
  },
  {
   "cell_type": "code",
   "execution_count": 218,
   "metadata": {
    "collapsed": false
   },
   "outputs": [
    {
     "name": "stdout",
     "output_type": "stream",
     "text": [
      "2014 - Histograma que compara a frequência de faixa de idade entre pessoas aposentados, que trabalham (Vermelho) e pessoas aposentadas  casadas que não trabalham(Azul):\n"
     ]
    },
    {
     "data": {
      "image/png": "[encoded data removed]",
      "text/plain": [
       "<matplotlib.figure.Figure at 0x108d77f98>"
      ]
     },
     "metadata": {},
     "output_type": "display_data"
    }
   ],
   "source": [
    "faixa5 = np.arange(40,103, 5)\n",
    "variávelCat5 = pd.cut(dados.IDADE[(dados.CASADO=='Casado') & (dados.APOSENTADO == 'Aposentado') & (dados.TRABALHO== 'Sim')], faixa5) \n",
    "variávelCat5.value_counts()\n",
    "faixa6 = np.arange(40,101, 5)\n",
    "variávelCat6 = pd.cut(dados.IDADE[(dados.CASADO=='Casado') & (dados.APOSENTADO == 'Aposentado') & (dados.TRABALHO== 'Não')], faixa6) \n",
    "variávelCat6.value_counts()\n",
    "print(\"2014 - Histograma que compara a frequência de faixa de idade entre pessoas aposentados, que trabalham (Vermelho) e pessoas aposentadas  casadas que não trabalham(Azul):\")\n",
    "plot = dados.IDADE[(dados.CASADO=='Casado') & (dados.APOSENTADO == 'Aposentado') & (dados.TRABALHO== 'Sim')].plot.hist(bins = faixa5, normed =1, alpha = 0.5, color = 'r')\n",
    "plot = dados.IDADE[(dados.CASADO=='Casado') & (dados.APOSENTADO == 'Aposentado') & (dados.TRABALHO== 'Não')].plot.hist(bins = faixa6, normed =1, alpha = 0.5, color = 'b')"
   ]
  },
  {
   "cell_type": "code",
   "execution_count": 220,
   "metadata": {
    "collapsed": false
   },
   "outputs": [
    {
     "ename": "TypeError",
     "evalue": "'AxesSubplot' object is not callable",
     "output_type": "error",
     "traceback": [
      "\u001b[0;31m---------------------------------------------------------------------------\u001b[0m",
      "\u001b[0;31mTypeError\u001b[0m                                 Traceback (most recent call last)",
      "\u001b[0;32m<ipython-input-220-94c51c73d0dc>\u001b[0m in \u001b[0;36m<module>\u001b[0;34m()\u001b[0m\n\u001b[0;32m----> 1\u001b[0;31m \u001b[0mplot\u001b[0m\u001b[0;34m(\u001b[0m\u001b[0mdados\u001b[0m\u001b[0;34m.\u001b[0m\u001b[0mIDADE\u001b[0m\u001b[0;34m[\u001b[0m\u001b[0;34m(\u001b[0m\u001b[0mdados\u001b[0m\u001b[0;34m.\u001b[0m\u001b[0mRENDIMENTO_MENSAL\u001b[0m \u001b[0;34m<\u001b[0m\u001b[0;36m999999999999\u001b[0m\u001b[0;34m)\u001b[0m \u001b[0;34m&\u001b[0m \u001b[0;34m(\u001b[0m\u001b[0mdados\u001b[0m\u001b[0;34m.\u001b[0m\u001b[0mCASADO\u001b[0m\u001b[0;34m==\u001b[0m\u001b[0;34m'Casado'\u001b[0m\u001b[0;34m)\u001b[0m \u001b[0;34m&\u001b[0m \u001b[0;34m(\u001b[0m\u001b[0mdados\u001b[0m\u001b[0;34m.\u001b[0m\u001b[0mAPOSENTADO\u001b[0m \u001b[0;34m==\u001b[0m \u001b[0;34m'Aposentado'\u001b[0m\u001b[0;34m)\u001b[0m \u001b[0;34m&\u001b[0m \u001b[0;34m(\u001b[0m\u001b[0mdados\u001b[0m\u001b[0;34m.\u001b[0m\u001b[0mTRABALHO\u001b[0m\u001b[0;34m==\u001b[0m \u001b[0;34m'Sim'\u001b[0m\u001b[0;34m)\u001b[0m\u001b[0;34m]\u001b[0m \u001b[0;34m,\u001b[0m \u001b[0mdados\u001b[0m\u001b[0;34m.\u001b[0m\u001b[0mRENDIMENTO_MENSAL\u001b[0m\u001b[0;34m[\u001b[0m\u001b[0;34m(\u001b[0m\u001b[0mdados\u001b[0m\u001b[0;34m.\u001b[0m\u001b[0mRENDIMENTO_MENSAL\u001b[0m \u001b[0;34m<\u001b[0m\u001b[0;36m999999999999\u001b[0m\u001b[0;34m)\u001b[0m\u001b[0;34m&\u001b[0m\u001b[0;34m(\u001b[0m\u001b[0mdados\u001b[0m\u001b[0;34m.\u001b[0m\u001b[0mCASADO\u001b[0m\u001b[0;34m==\u001b[0m\u001b[0;34m'Casado'\u001b[0m\u001b[0;34m)\u001b[0m \u001b[0;34m&\u001b[0m \u001b[0;34m(\u001b[0m\u001b[0mdados\u001b[0m\u001b[0;34m.\u001b[0m\u001b[0mAPOSENTADO\u001b[0m \u001b[0;34m==\u001b[0m\u001b[0;34m'Aposentado'\u001b[0m\u001b[0;34m)\u001b[0m \u001b[0;34m&\u001b[0m \u001b[0;34m(\u001b[0m\u001b[0mdados\u001b[0m\u001b[0;34m.\u001b[0m\u001b[0mTRABALHO\u001b[0m\u001b[0;34m==\u001b[0m \u001b[0;34m'Sim'\u001b[0m\u001b[0;34m)\u001b[0m\u001b[0;34m]\u001b[0m\u001b[0;34m,\u001b[0m\u001b[0;34m'ro'\u001b[0m\u001b[0;34m)\u001b[0m\u001b[0;34m\u001b[0m\u001b[0m\n\u001b[0m",
      "\u001b[0;31mTypeError\u001b[0m: 'AxesSubplot' object is not callable"
     ]
    }
   ],
   "source": [
    "plot(dados.IDADE[(dados.RENDIMENTO_MENSAL <999999999999) & (dados.CASADO=='Casado') & (dados.APOSENTADO == 'Aposentado') & (dados.TRABALHO== 'Sim')] , dados.RENDIMENTO_MENSAL[(dados.RENDIMENTO_MENSAL <999999999999)&(dados.CASADO=='Casado') & (dados.APOSENTADO =='Aposentado') & (dados.TRABALHO== 'Sim')],'ro')"
   ]
  },
  {
   "cell_type": "code",
   "execution_count": null,
   "metadata": {
    "collapsed": true
   },
   "outputs": [],
   "source": []
  },
  {
   "cell_type": "code",
   "execution_count": 85,
   "metadata": {
    "collapsed": false
   },
   "outputs": [],
   "source": []
  },
  {
   "cell_type": "code",
   "execution_count": null,
   "metadata": {
    "collapsed": false
   },
   "outputs": [],
   "source": []
  },
  {
   "cell_type": "markdown",
   "metadata": {
    "collapsed": false
   },
   "source": [
    "___\n",
    "## Conclusão "
   ]
  },
  {
   "cell_type": "markdown",
   "metadata": {},
   "source": [
    "Apartir da análisxe feita anteriormente, e considerando as variáveis indicadas à cima, pode-se concluir que os aposentados que trabalham apesar de serem menos frequentes para rendas domiciliares baixas, são maioria quando se trata de rendas mais altas. Já na comparação entre homens e mulheres aposentados que trabalham, foi possível descobrir que eles não apresentam uma grande diferença entre eles. Para o caso da comparação entre pardos e brancos que são aposentados e trabalham, pode-se dizer que apesar de serem menos frequentes para rendas domiciliares baixas,as pessoas brancas são maioria quando se trata de rendas mais altas. Além disso quando o tema é idade, é possível dizer que os aposentados que trabalham são em geral mais jóvens do que os que não trabalham. Como conclusão final, ao analisarmos o gráfico de dispersão de renda por idade dos que trabalham e dos que não trabalham, podemos dizer que: "
   ]
  },
  {
   "cell_type": "markdown",
   "metadata": {
    "collapsed": true
   },
   "source": [
    "## Fontes"
   ]
  },
  {
   "cell_type": "markdown",
   "metadata": {},
   "source": [
    "http://www.fee.rs.gov.br/servicos/atualizacao-valores/?ano=1992&mes=janeiro&valor=1\n",
    "http://g1.globo.com/economia/noticia/2015/07/idade-minima-para-se-aposentar-vai-subir-no-mundo-veja-mudancas.html\n",
    "http://www.pstu.org.br/node/21306"
   ]
  },
  {
   "cell_type": "markdown",
   "metadata": {
    "collapsed": true
   },
   "source": []
  }
 ],
 "metadata": {
  "anaconda-cloud": {},
  "kernelspec": {
   "display_name": "Python 3",
   "language": "python",
   "name": "python3"
  },
  "language_info": {
   "codemirror_mode": {
    "name": "ipython",
    "version": 3
   },
   "file_extension": ".py",
   "mimetype": "text/x-python",
   "name": "python",
   "nbconvert_exporter": "python",
   "pygments_lexer": "ipython3",
   "version": "3.5.1"
  }
 },
 "nbformat": 4,
 "nbformat_minor": 0
}
