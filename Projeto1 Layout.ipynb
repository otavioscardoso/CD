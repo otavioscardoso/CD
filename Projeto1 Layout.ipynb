{
 "cells": [
  {
   "cell_type": "markdown",
   "metadata": {},
   "source": [
    "___\n",
    "# PROJETO 1"
   ]
  },
  {
   "cell_type": "markdown",
   "metadata": {},
   "source": [
    "## <font color='red'>Otavio Siaulys Cardoso</font>\n",
    "___"
   ]
  },
  {
   "cell_type": "markdown",
   "metadata": {},
   "source": [
    "## <font color='blue'>APOSENTADOS 2014 X APOSENTADOS 1992</font>"
   ]
  },
  {
   "cell_type": "markdown",
   "metadata": {},
   "source": [
    "## Introdução\n",
    "\n",
    "No ano de 2014, cerca de 10% da polpulação brasileira. Devido a este fator não é surpreendente encontrar uma mulher que tenha mais de 60 anos ou um homem com mais de 65 que ainda trabalhe. Isso faz com que uma grande parcela dos aposentados no Brasil ainda exerça atividade remunerada. Logo, uma posível análise seria comparar os aposentados que ainda trabalham de 1992 com os de 2014.\n",
    "\n",
    "Exemplifique identificando uma pesquisa semelhante feita no Brasil ou no exterior que compare uma parcela da população (apossentados, imigrantes, mulheres, jovens) com todo resto. Critique esta pesquisa (que tipo de variáveis usou? Que recurso de estatística descritiva?). Pode ser um artigo de jornal.\n",
    "\n",
    "\n",
    "\n"
   ]
  },
  {
   "cell_type": "markdown",
   "metadata": {},
   "source": [
    "___\n",
    "## Análise e Resultados dos dados de 2014"
   ]
  },
  {
   "cell_type": "code",
   "execution_count": 2,
   "metadata": {
    "collapsed": true
   },
   "outputs": [],
   "source": [
    "%matplotlib inline\n",
    "import pandas as pd\n",
    "import matplotlib.pyplot as plt\n",
    "import numpy as np\n",
    "import os"
   ]
  },
  {
   "cell_type": "code",
   "execution_count": 3,
   "metadata": {
    "collapsed": false
   },
   "outputs": [
    {
     "name": "stdout",
     "output_type": "stream",
     "text": [
      "Esperamos trabalhar no diretório\n",
      "/Users/otaviocardoso/Desktop/Projeto 1 -CD\n"
     ]
    }
   ],
   "source": [
    "print('Esperamos trabalhar no diretório')\n",
    "print(os.getcwd())"
   ]
  },
  {
   "cell_type": "code",
   "execution_count": 42,
   "metadata": {
    "collapsed": false
   },
   "outputs": [],
   "source": [
    "#Leitura da base já em formato de DataFrame e extensão .csv\n",
    "dados = pd.read_table('PES2014.txt', sep=',')\n",
    "dados2 = pd.read_table('PES1992.txt', sep=',')"
   ]
  },
  {
   "cell_type": "code",
   "execution_count": 43,
   "metadata": {
    "collapsed": false
   },
   "outputs": [],
   "source": [
    "n = dados.shape[0]\n",
    "n2 = dados2.shape[0]"
   ]
  },
  {
   "cell_type": "code",
   "execution_count": 121,
   "metadata": {
    "collapsed": false
   },
   "outputs": [],
   "source": [
    "#Variáveis 2014\n",
    "dados.IDADE = dados..astype('category')\n",
    "dados.APOSENTADO = dados.V9122.astype('category')\n",
    "dados.APOSENTADO.cat.categories=('Aposentado', 'Não aposentado')\n",
    "dados.SEXO = dados.V0302.astype('category')\n",
    "dados.SEXO.cat.categories=('Homens', 'Mulheres')\n",
    "dados.COR_RACA = dados.V0404.astype('category')\n",
    "dados.COR_RACA .cat.categories=('Indígena', 'Brancos', 'Preta', 'Amarela', 'Pardos', 'Sem declaração')\n",
    "dados.RENDIMENTO_MENSAL = dados.V4722.astype('float')\n",
    "dados.RENDIMENTO_SAL_MIN = dados.V4743.astype('category')\n",
    "#dados.RENDIMENTO_SAL_MIN.cat.categories=('Até 1/4 salário mínimo', 'Mais de 1/4 até 1/2 salário mínimo','Mais de 1/2 até 1 salário mínimo','Mais de 1 até 2 salários mínimos','Mais de 2 até 3 salários mínimos','Mais de 3 até 5 salários mínimos','Mais de 5','Sem declaração')\n",
    "dados.CASADO = dados.V4111.astype('category')\n",
    "dados.CASADO.cat.categories=('Casado', 'Não casado atualmente', 'Nunca casou')\n",
    "\n",
    "#Variáveis 1992\n",
    "dados2.IDADE = dados2..astype('category')\n",
    "dados2.APOSENTADO = dados2.v9122.astype('category')\n",
    "dados2.APOSENTADO.cat.categories=('Aposentado', 'Não aposentado')\n",
    "dados2.SEXO = dados2.v0302.astype('category')\n",
    "dados2.SEXO.cat.categories=('Homens', 'Mulheres')\n",
    "dados2.COR_RACA = dados2.v0404.astype('category')\n",
    "dados2.COR_RACA.cat.categories = ('Indígena', 'Brancos', 'Preta', 'Amarela', 'Pardos', 'Sem declaração')\n",
    "dados2.CASADO = dados2.v1001.astype('category')\n",
    "dados2.CASADO.cat.categories = ('Casado', 'Não casado atualmente', 'Nunca casou')\n",
    "dados2.RENDIMENTO_MENSAL = dados2.v4721.astype('float')\n",
    "dados2.RENDIMENTO_SAL_MIN = dados.V4743.astype('category')\n",
    "#dados2.RENDIMENTO_SAL_MIN.cat.categories=('Até 1/4 salário mínimo', 'Mais de 1/4 até 1/2 salário mínimo','Mais de 1/2 até 1 salário mínimo','Mais de 1 até 2 salários mínimos','Mais de 2 até 3 salários mínimos','Mais de 3 até 5 salários mínimos','Mais de 5','Sem declaração')"
   ]
  },
  {
   "cell_type": "code",
   "execution_count": 107,
   "metadata": {
    "collapsed": false
   },
   "outputs": [
    {
     "name": "stdout",
     "output_type": "stream",
     "text": [
      "2014 - Frequência por cor ou raça:\n",
      "Pardos            47.94\n",
      "Brancos           42.27\n",
      "Preta              8.91\n",
      "Indígena           0.49\n",
      "Amarela            0.39\n",
      "Sem declaração     0.00\n",
      "dtype: float64 \n",
      "\n",
      "1992 - Frequência por cor ou raça:\n",
      "Brancos           51.59\n",
      "Pardos            42.53\n",
      "Preta              5.48\n",
      "Amarela            0.32\n",
      "Indígena           0.09\n",
      "Sem declaração     0.00\n",
      "dtype: float64 \n",
      "\n"
     ]
    }
   ],
   "source": [
    "print('2014 - Frequência por cor ou raça:')\n",
    "ut0= (dados.COR_RACA.value_counts(True)*100).round(decimals=2)\n",
    "print(ut0,'\\n')\n",
    "\n",
    "print('1992 - Frequência por cor ou raça:')\n",
    "ut00= (dados2.COR_RACA.value_counts(True)*100).round(decimals=2)\n",
    "print(ut00,'\\n')"
   ]
  },
  {
   "cell_type": "code",
   "execution_count": 108,
   "metadata": {
    "collapsed": false
   },
   "outputs": [
    {
     "name": "stdout",
     "output_type": "stream",
     "text": [
      "2014 - Frequência de aposentadoria:\n",
      "Não aposentado    27311800\n",
      "Aposentado         3864300\n",
      "dtype: int64 \n",
      "\n",
      "1992 - Frequência de aposentadoria:\n",
      "Não aposentado    71.82\n",
      "Aposentado         5.99\n",
      "dtype: float64 \n",
      "\n"
     ]
    }
   ],
   "source": [
    "print('2014 - Frequência de aposentadoria:')\n",
    "ut1= (dados.APOSENTADO.value_counts(True)*100).round(decimals=2)\n",
    "print(ut1,'\\n')\n",
    "\n",
    "print('1992 - Frequência de aposentadoria:')\n",
    "ut11= (dados2.APOSENTADO.value_counts(True)*100).round(decimals=2)\n",
    "print(ut11,'\\n')"
   ]
  },
  {
   "cell_type": "code",
   "execution_count": 123,
   "metadata": {
    "collapsed": false
   },
   "outputs": [
    {
     "name": "stdout",
     "output_type": "stream",
     "text": [
      "2014 - Frequência de aposentadoria feminina:\n",
      "Não aposentado    76.12\n",
      "Aposentado        10.50\n",
      "dtype: float64 \n",
      "\n",
      "1992 - Frequência de aposentadoria feminina:\n",
      "Não aposentado    73.66\n",
      "Aposentado         4.85\n",
      "dtype: float64 \n",
      "\n",
      "2014 - Frequência de mulheres aposentadas por raça ou cor:\n",
      "Brancos           51.67\n",
      "Pardos            38.74\n",
      "Preta              8.54\n",
      "Amarela            0.62\n",
      "Indígena           0.43\n",
      "Sem declaração     0.00\n",
      "dtype: float64 \n",
      "\n",
      "1992 - Frequência de mulheres aposentadas por raça ou cor:\n",
      "Brancos           57.16\n",
      "Pardos            35.02\n",
      "Preta              7.28\n",
      "Amarela            0.45\n",
      "Indígena           0.09\n",
      "Sem declaração     0.01\n",
      "dtype: float64 \n",
      "\n"
     ]
    }
   ],
   "source": [
    "print('2014 - Frequência de aposentadoria feminina:')\n",
    "ut2 = (dados.APOSENTADO[(dados.SEXO=='Mulheres')].value_counts(True)*100).round(decimals=2)\n",
    "print(ut2,'\\n')\n",
    "print('1992 - Frequência de aposentadoria feminina:')\n",
    "ut22 = (dados2.APOSENTADO[(dados2.SEXO=='Mulheres')].value_counts(True)*100).round(decimals=2)\n",
    "print(ut22,'\\n')\n",
    "\n",
    "print('2014 - Frequência de mulheres aposentadas por raça ou cor:')\n",
    "ut20 = (dados.COR_RACA[(dados.APOSENTADO=='Aposentado')&(dados.SEXO=='Mulheres')].value_counts(True)*100).round(decimals=2)\n",
    "print(ut20,'\\n')\n",
    "print('1992 - Frequência de mulheres aposentadas por raça ou cor:')\n",
    "ut220 = (dados2.COR_RACA[(dados2.APOSENTADO=='Aposentado')&(dados2.SEXO=='Mulheres')].value_counts(True)*100).round(decimals=2)\n",
    "print(ut220,'\\n')"
   ]
  },
  {
   "cell_type": "code",
   "execution_count": 124,
   "metadata": {
    "collapsed": false
   },
   "outputs": [
    {
     "data": {
      "text/plain": [
       "<matplotlib.axes._subplots.AxesSubplot at 0x112fd6278>"
      ]
     },
     "execution_count": 124,
     "metadata": {},
     "output_type": "execute_result"
    },
    {
     "data": {
      "image/png": "[encoded data removed]",
      "text/plain": [
       "<matplotlib.figure.Figure at 0x1133adb00>"
      ]
     },
     "metadata": {},
     "output_type": "display_data"
    }
   ],
   "source": [
    "ut2.plot(kind='bar',title='2014 - Mulheres aposentadas ou não',color=('b','b'))\n",
    "ut22.plot(kind='bar',title='1992 - Mulheres aposentadas ou não',color=('r','r'))\n",
    "#plt.ylabel('Frequência Relativa (em%)')\n",
    "#plt.xlabel('Não Aposentadas             Aposentadas')"
   ]
  },
  {
   "cell_type": "code",
   "execution_count": 125,
   "metadata": {
    "collapsed": false
   },
   "outputs": [
    {
     "data": {
      "text/plain": [
       "<matplotlib.axes._subplots.AxesSubplot at 0x11339e748>"
      ]
     },
     "execution_count": 125,
     "metadata": {},
     "output_type": "execute_result"
    },
    {
     "data": {
      "image/png": "[encoded data removed]",
      "text/plain": [
       "<matplotlib.figure.Figure at 0x113394b00>"
      ]
     },
     "metadata": {},
     "output_type": "display_data"
    }
   ],
   "source": [
    "ut20.plot(kind='bar',title='2014 - Frequência de mulheres aposentadas por cor ou raça',color=('b','b'))\n",
    "ut220.plot(kind='bar',title='1992 - Frequência de mulheres aposentadas por cor ou raça',color=('r','r'))\n",
    "#plt.ylabel('Frequência Relativa (em%)')\n",
    "#plt.xlabel('Cor ou raça')"
   ]
  },
  {
   "cell_type": "code",
   "execution_count": 112,
   "metadata": {
    "collapsed": false
   },
   "outputs": [
    {
     "name": "stdout",
     "output_type": "stream",
     "text": [
      "2014 - Frequência de aposentadoria para homens:\n",
      "Não aposentado    36.09\n",
      "Aposentado         5.24\n",
      "dtype: float64 \n",
      "\n",
      "1992 - Frequência de aposentadoria para homens:\n",
      "Não aposentado    34.17\n",
      "Aposentado         3.51\n",
      "dtype: float64 \n",
      "\n",
      "2014 - Frequência de homens aposentados por cor ou raça:\n",
      "Brancos           2.64\n",
      "Pardos            2.07\n",
      "Preta             0.49\n",
      "Amarela           0.03\n",
      "Indígena          0.02\n",
      "Sem declaração    0.00\n",
      "dtype: float64 \n",
      "\n",
      "1992 - Frequência de homens aposentados por cor ou raça:\n",
      "Brancos           2.04\n",
      "Pardos            1.22\n",
      "Preta             0.24\n",
      "Amarela           0.02\n",
      "Indígena          0.00\n",
      "Sem declaração    0.00\n",
      "dtype: float64 \n",
      "\n"
     ]
    }
   ],
   "source": [
    "print('2014 - Frequência de aposentadoria para homens:')\n",
    "ut3 = (dados.APOSENTADO[dados.SEXO=='Homens'].value_counts()/n*100).round(decimals=2)\n",
    "print(ut3,'\\n')\n",
    "print('1992 - Frequência de aposentadoria para homens:')\n",
    "ut33 = (dados2.APOSENTADO[dados2.SEXO=='Homens'].value_counts()/n2*100).round(decimals=2)\n",
    "print(ut33,'\\n')\n",
    "\n",
    "\n",
    "print('2014 - Frequência de homens aposentados por cor ou raça:')\n",
    "ut30 = (dados.COR_RACA[(dados.APOSENTADO=='Aposentado')&(dados.SEXO=='Homens')].value_counts()/n*100).round(decimals=2)\n",
    "print(ut30,'\\n')\n",
    "print('1992 - Frequência de homens aposentados por cor ou raça:')\n",
    "ut330 = (dados2.COR_RACA[(dados2.APOSENTADO=='Aposentado')&(dados2.SEXO=='Homens')].value_counts()/n2*100).round(decimals=2)\n",
    "print(ut330,'\\n')"
   ]
  },
  {
   "cell_type": "code",
   "execution_count": 113,
   "metadata": {
    "collapsed": false
   },
   "outputs": [
    {
     "data": {
      "text/plain": [
       "<matplotlib.axes._subplots.AxesSubplot at 0x112c026d8>"
      ]
     },
     "execution_count": 113,
     "metadata": {},
     "output_type": "execute_result"
    },
    {
     "data": {
      "image/png": "[encoded data removed]",
      "text/plain": [
       "<matplotlib.figure.Figure at 0x116616da0>"
      ]
     },
     "metadata": {},
     "output_type": "display_data"
    }
   ],
   "source": [
    "ut3.plot(kind='bar',title='2014 - Homens aposentadas ou não',color=('b','b'))\n",
    "ut33.plot(kind='bar',title='1992 - Homens aposentadas ou não',color=('r','r'))\n",
    "#plt.ylabel('Frequência Relativa (em%)')\n",
    "#plt.xlabel('Não Aposentadas             Aposentadas')"
   ]
  },
  {
   "cell_type": "code",
   "execution_count": 114,
   "metadata": {
    "collapsed": false
   },
   "outputs": [
    {
     "data": {
      "text/plain": [
       "<matplotlib.axes._subplots.AxesSubplot at 0x1175199e8>"
      ]
     },
     "execution_count": 114,
     "metadata": {},
     "output_type": "execute_result"
    },
    {
     "data": {
      "image/png": "[encoded data removed]",
      "text/plain": [
       "<matplotlib.figure.Figure at 0x117528908>"
      ]
     },
     "metadata": {},
     "output_type": "display_data"
    }
   ],
   "source": [
    "ut30.plot(kind='bar',title='2014 - Frequência de homens aposentadas por cor ou raça',color=('b','b'))\n",
    "ut330.plot(kind='bar',title='1992 - Frequência de homens aposentadas por cor ou raça',color=('r','r'))\n",
    "\n",
    "#plt.ylabel('Frequência Relativa (em%)')\n",
    "#plt.xlabel('Cor ou raça')"
   ]
  },
  {
   "cell_type": "code",
   "execution_count": 115,
   "metadata": {
    "collapsed": false
   },
   "outputs": [
    {
     "name": "stdout",
     "output_type": "stream",
     "text": [
      "2014 - rendimento mensal per capita de homens aposentados, casados e brancos\n",
      "count     7161.000000\n",
      "mean      4636.155286\n",
      "std       5508.135150\n",
      "min        682.000000\n",
      "25%       1600.000000\n",
      "50%       2798.000000\n",
      "75%       5200.000000\n",
      "max      63500.000000\n",
      "Name: V4722, dtype: float64\n",
      "\n",
      "1992 - rendimento mensal per capita de homens aposentados, casados e brancos\n",
      "count    6.263000e+03\n",
      "mean     2.331433e+10\n",
      "std      1.509026e+11\n",
      "min      0.000000e+00\n",
      "25%      9.100000e+05\n",
      "50%      1.760000e+06\n",
      "75%      3.473593e+06\n",
      "max      1.000000e+12\n",
      "Name: v4721, dtype: float64\n"
     ]
    }
   ],
   "source": [
    "print(\"2014 - rendimento mensal per capita de homens aposentados, casados e brancos\")\n",
    "a = dados.RENDIMENTO_MENSAL_C[(dados.RENDIMENTO_MENSAL_C <331200)&(dados.CASADO=='Casado') & (dados.APOSENTADO =='Aposentado') & (dados.SEXO == 'Homens') & (dados.COR_RACA == 'Brancos')]\n",
    "print(a.describe())\n",
    "print()\n",
    "print(\"1992 - rendimento domiciliar de homens aposentados, casados e brancos\")\n",
    "e = dados2.RENDIMENTO_MENSAL_C[(dados.RENDIMENTO_MENSAL_C <331200)&(dados.CASADO=='Casado') & (dados.APOSENTADO == 'Aposentado') & (dados.SEXO == 'Homens') & (dados.COR_RACA == 'Brancos')]\n",
    "print(e.describe())"
   ]
  },
  {
   "cell_type": "code",
   "execution_count": 116,
   "metadata": {
    "collapsed": false
   },
   "outputs": [
    {
     "data": {
      "text/plain": [
       "<matplotlib.axes._subplots.AxesSubplot at 0x1120b0e48>"
      ]
     },
     "execution_count": 116,
     "metadata": {},
     "output_type": "execute_result"
    },
    {
     "data": {
      "image/png": "[encoded data removed]",
      "text/plain": [
       "<matplotlib.figure.Figure at 0x112e336d8>"
      ]
     },
     "metadata": {},
     "output_type": "display_data"
    }
   ],
   "source": [
    "a.plot (kind='box') \n",
    "#e.plot (kind ='box')"
   ]
  },
  {
   "cell_type": "code",
   "execution_count": 117,
   "metadata": {
    "collapsed": false
   },
   "outputs": [
    {
     "name": "stdout",
     "output_type": "stream",
     "text": [
      "2014 - rendimento mensal per capita de homens aposentados, casados e pardos\n",
      "count     5361.000000\n",
      "mean      3116.663309\n",
      "std       3469.796326\n",
      "min        722.000000\n",
      "25%       1448.000000\n",
      "50%       2124.000000\n",
      "75%       3400.000000\n",
      "max      52000.000000\n",
      "Name: V4722, dtype: float64\n",
      "\n",
      "1992 - rendimento mensal per capita de homens aposentados, não casados e pardos\n",
      "count    4.807000e+03\n",
      "mean     8.776025e+04\n",
      "std      5.580832e+05\n",
      "min      0.000000e+00\n",
      "25%      2.761273e+00\n",
      "50%      5.498804e+00\n",
      "75%      1.127273e+01\n",
      "max      3.636364e+06\n",
      "Name: v4721, dtype: float64\n"
     ]
    }
   ],
   "source": [
    "print(\"2014 - rendimento mensal domiciliar de homens aposentados, casados e pardos\")\n",
    "b = dados.RENDIMENTO_MENSAL_C[(dados.RENDIMENTO_MENSAL_C <999999999999)&(dados.CASADO== 'Casado') & (dados.APOSENTADO == 'Aposentado') & (dados.SEXO == 'Homens') & (dados.COR_RACA == 'Pardos')]\n",
    "print(b.describe())\n",
    "print()\n",
    "print(\"1992 - rendimento mensal domiciliar de homens aposentados, não casados e pardos\")\n",
    "f = (dados2.RENDIMENTO_MENSAL_C[(dados.RENDIMENTO_MENSAL_C <999999999999)&(dados.CASADO== 'Casado') & (dados.APOSENTADO == 'Aposentado') & (dados.SEXO == 'Homens') & (dados.COR_RACA == 'Pardos')])/275000\n",
    "print(f.describe())"
   ]
  },
  {
   "cell_type": "code",
   "execution_count": 95,
   "metadata": {
    "collapsed": false
   },
   "outputs": [
    {
     "data": {
      "text/plain": [
       "<matplotlib.axes._subplots.AxesSubplot at 0x1167048d0>"
      ]
     },
     "execution_count": 95,
     "metadata": {},
     "output_type": "execute_result"
    },
    {
     "data": {
      "image/png": "[encoded data removed]",
      "text/plain": [
       "<matplotlib.figure.Figure at 0x1121399b0>"
      ]
     },
     "metadata": {},
     "output_type": "display_data"
    }
   ],
   "source": [
    "b.plot (kind='box') \n",
    "#f.plot (kind='box')"
   ]
  },
  {
   "cell_type": "code",
   "execution_count": 119,
   "metadata": {
    "collapsed": false
   },
   "outputs": [
    {
     "name": "stdout",
     "output_type": "stream",
     "text": [
      "2014 - rendimento domiciliar de mulheres aposentadas, casadas e brancas\n",
      "count      4559.000000\n",
      "mean       4980.359947\n",
      "std        6391.680651\n",
      "min         700.000000\n",
      "25%        1674.500000\n",
      "50%        2820.000000\n",
      "75%        5472.000000\n",
      "max      153000.000000\n",
      "Name: V4722, dtype: float64\n",
      "\n",
      "1992 - rendimento domiciliar de mulheres aposentadas, casadas e brancas\n",
      "count    3.968000e+03\n",
      "mean     1.764402e+10\n",
      "std      1.316594e+11\n",
      "min      0.000000e+00\n",
      "25%      9.016395e+05\n",
      "50%      1.705686e+06\n",
      "75%      3.400000e+06\n",
      "max      1.000000e+12\n",
      "Name: v4721, dtype: float64\n"
     ]
    }
   ],
   "source": [
    "print(\"2014 - rendimento domiciliar de mulheres aposentadas, casadas e brancas\")\n",
    "c = dados.RENDIMENTO_MENSAL_C[(dados.RENDIMENTO_MENSAL_C <331200)&(dados.CASADO=='Casado') & (dados.APOSENTADO == 'Aposentado') & (dados.SEXO == 'Mulheres') & (dados.COR_RACA == 'Brancos')]\n",
    "print(c.describe())\n",
    "print()\n",
    "print(\"1992 - rendimento domiciliar de mulheres aposentadas, casadas e brancas\")\n",
    "g = dados2.RENDIMENTO_MENSAL_C[(dados.RENDIMENTO_MENSAL_C <331200)&(dados.CASADO=='Casado') & (dados.APOSENTADO == 'Aposentado') & (dados.SEXO == 'Mulheres') & (dados.COR_RACA == 'Brancos')]\n",
    "print(g.describe())"
   ]
  },
  {
   "cell_type": "code",
   "execution_count": null,
   "metadata": {
    "collapsed": true
   },
   "outputs": [],
   "source": [
    "faixa = np.arange(80.000000, 331200.000000, 331120/362627)\n",
    "variávelCat = pd.cut(dados.RENDIMENTO_MENSAL_C, faixa) \n",
    "variávelCat.value_counts()"
   ]
  },
  {
   "cell_type": "code",
   "execution_count": 66,
   "metadata": {
    "collapsed": false
   },
   "outputs": [
    {
     "data": {
      "text/plain": [
       "<matplotlib.axes._subplots.AxesSubplot at 0x1155399b0>"
      ]
     },
     "execution_count": 66,
     "metadata": {},
     "output_type": "execute_result"
    },
    {
     "data": {
      "image/png": "[encoded data removed]",
      "text/plain": [
       "<matplotlib.figure.Figure at 0x11553fc50>"
      ]
     },
     "metadata": {},
     "output_type": "display_data"
    }
   ],
   "source": [
    "c.plot (kind='box') \n",
    "#g.plot (kind='box') "
   ]
  },
  {
   "cell_type": "code",
   "execution_count": 118,
   "metadata": {
    "collapsed": false
   },
   "outputs": [
    {
     "name": "stdout",
     "output_type": "stream",
     "text": [
      "2014 - rendimento domiciliar de mulheres aposentadas, casadas e pardas\n",
      "count     3305.000000\n",
      "mean      3036.823298\n",
      "std       3518.779843\n",
      "min        660.000000\n",
      "25%       1448.000000\n",
      "50%       2024.000000\n",
      "75%       3124.000000\n",
      "max      76000.000000\n",
      "Name: V4722, dtype: float64\n",
      "\n",
      "1992 - rendimento domiciliar de mulheres aposentadas, casadas e pardas\n",
      "count    2.966000e+03\n",
      "mean     2.933482e+10\n",
      "std      1.687646e+11\n",
      "min      0.000000e+00\n",
      "25%      7.000000e+05\n",
      "50%      1.418000e+06\n",
      "75%      2.921640e+06\n",
      "max      1.000000e+12\n",
      "Name: v4721, dtype: float64\n"
     ]
    }
   ],
   "source": [
    "print(\"2014 - rendimento domiciliar de mulheres aposentadas, casadas e pardas\")\n",
    "d = dados.RENDIMENTO_MENSAL_C[(dados.RENDIMENTO_MENSAL_C <331200)&(dados.CASADO=='Casado') & (dados.APOSENTADO =='Aposentado') & (dados.SEXO == 'Mulheres') & (dados.COR_RACA == 'Pardos')]\n",
    "print(d.describe())\n",
    "print()\n",
    "print(\"1992 - rendimento domiciliar de mulheres aposentadas, casadas e pardas\")\n",
    "h = dados2.RENDIMENTO_MENSAL_C[(dados.RENDIMENTO_MENSAL_C <331200)&(dados.CASADO=='Casado') & (dados.APOSENTADO =='Aposentado') & (dados.SEXO == 'Mulheres' ) & (dados.COR_RACA =='Pardos')]\n",
    "print(h.describe())"
   ]
  },
  {
   "cell_type": "code",
   "execution_count": null,
   "metadata": {
    "collapsed": false
   },
   "outputs": [],
   "source": [
    "d.plot (kind='box') \n",
    "#h.plot (kind='box') "
   ]
  },
  {
   "cell_type": "markdown",
   "metadata": {},
   "source": [
    "Com base nos resultados, pode-se concluir que homens aposentados, brancos, casados tem uma renda mensal per capita maior do que os aposentados, pardos e casados. O mesmo pode ser dito para as mulheres"
   ]
  },
  {
   "cell_type": "code",
   "execution_count": null,
   "metadata": {
    "collapsed": false
   },
   "outputs": [],
   "source": [
    "#faixa = np.arange(80.000000, 331200.000000, 331120/362627)\n",
    "#variávelCat = pd.cut(dados.RENDIMENTO_MENSAL_C, faixa) \n",
    "#variávelCat.value_counts()"
   ]
  },
  {
   "cell_type": "code",
   "execution_count": null,
   "metadata": {
    "collapsed": false
   },
   "outputs": [],
   "source": [
    "#grafico = dados.RENDIMENTO_MENSAL_C.plot.hist(bins=faixa)"
   ]
  },
  {
   "cell_type": "markdown",
   "metadata": {
    "collapsed": false
   },
   "source": [
    "___\n",
    "## Conclusão "
   ]
  },
  {
   "cell_type": "markdown",
   "metadata": {},
   "source": [
    "Apartir da análise feita anteriormente, pode-se dizer que de 1992 para 2014, a porcentagem de mulheres, aposentados, pardos aumentaram. No entanto, enquanto em 1992, haviam mais homens aposentados do qaue mulheres, em 2014 esses papeis se inverteram. Além disso, ao compararmos os homens aposentados brancos e casados nesses dois anos, chegamos à conclusão de que os de 1992 tem uma renda domiciliar do que os de 2014 (considerando inflação e a mudança de moeda segundo o site : http://www.fee.rs.gov.br/servicos/atualizacao-valores/?ano=1992&mes=janeiro&valor=1"
   ]
  },
  {
   "cell_type": "markdown",
   "metadata": {
    "collapsed": true
   },
   "source": [
    "## Fontes"
   ]
  },
  {
   "cell_type": "markdown",
   "metadata": {},
   "source": [
    "http://www.fee.rs.gov.br/servicos/atualizacao-valores/?ano=1992&mes=janeiro&valor=1"
   ]
  },
  {
   "cell_type": "markdown",
   "metadata": {
    "collapsed": true
   },
   "source": []
  }
 ],
 "metadata": {
  "anaconda-cloud": {},
  "kernelspec": {
   "display_name": "Python 3",
   "language": "python",
   "name": "python3"
  },
  "language_info": {
   "codemirror_mode": {
    "name": "ipython",
    "version": 3
   },
   "file_extension": ".py",
   "mimetype": "text/x-python",
   "name": "python",
   "nbconvert_exporter": "python",
   "pygments_lexer": "ipython3",
   "version": "3.5.1"
  }
 },
 "nbformat": 4,
 "nbformat_minor": 0
}
